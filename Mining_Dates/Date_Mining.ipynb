{
 "cells": [
  {
   "cell_type": "markdown",
   "metadata": {},
   "source": [
    "# Date Mining"
   ]
  },
  {
   "cell_type": "markdown",
   "metadata": {},
   "source": [
    "## Setup"
   ]
  },
  {
   "cell_type": "code",
   "execution_count": 126,
   "metadata": {},
   "outputs": [],
   "source": [
    "import pandas as pd\n",
    "import numpy as np\n",
    "\n",
    "pd.set_option('display.max_columns', 1000)\n",
    "import os, re"
   ]
  },
  {
   "cell_type": "code",
   "execution_count": 127,
   "metadata": {},
   "outputs": [],
   "source": [
    "for d in ['data', 'output']:\n",
    "    os.makedirs(d, exist_ok=True)"
   ]
  },
  {
   "cell_type": "code",
   "execution_count": 128,
   "metadata": {},
   "outputs": [
    {
     "name": "stdout",
     "output_type": "stream",
     "text": [
      "Using local copy\n"
     ]
    }
   ],
   "source": [
    "url = \"https://setu-datamining2.github.io/live/topics/21-Assignments/03-Mining_Dates/files/public.csv\"\n",
    "\n",
    "if os.path.isfile('data/public.csv'):\n",
    "    print('Using local copy')\n",
    "else:\n",
    "    print('Downloading file')\n",
    "    df = pd.read_csv(url)\n",
    "    df.to_csv('data/public.csv', index=False)"
   ]
  },
  {
   "cell_type": "markdown",
   "metadata": {},
   "source": [
    "## Dataset"
   ]
  },
  {
   "cell_type": "code",
   "execution_count": 129,
   "metadata": {},
   "outputs": [
    {
     "name": "stdout",
     "output_type": "stream",
     "text": [
      "(715, 2)\n"
     ]
    },
    {
     "data": {
      "text/html": [
       "<div>\n",
       "<style scoped>\n",
       "    .dataframe tbody tr th:only-of-type {\n",
       "        vertical-align: middle;\n",
       "    }\n",
       "\n",
       "    .dataframe tbody tr th {\n",
       "        vertical-align: top;\n",
       "    }\n",
       "\n",
       "    .dataframe thead th {\n",
       "        text-align: right;\n",
       "    }\n",
       "</style>\n",
       "<table border=\"1\" class=\"dataframe\">\n",
       "  <thead>\n",
       "    <tr style=\"text-align: right;\">\n",
       "      <th></th>\n",
       "      <th>Code</th>\n",
       "      <th>Raw</th>\n",
       "    </tr>\n",
       "  </thead>\n",
       "  <tbody>\n",
       "    <tr>\n",
       "      <th>0</th>\n",
       "      <td>1012720972</td>\n",
       "      <td>.12, Noember 16- bad reaction to SpiceK2 - syn...</td>\n",
       "    </tr>\n",
       "    <tr>\n",
       "      <th>1</th>\n",
       "      <td>1039370009</td>\n",
       "      <td>.April, 5 97: made a phone call to Mom and Mom...</td>\n",
       "    </tr>\n",
       "    <tr>\n",
       "      <th>2</th>\n",
       "      <td>1039574613</td>\n",
       "      <td>A pleasant 28 yo woman with no formal psychiat...</td>\n",
       "    </tr>\n",
       "    <tr>\n",
       "      <th>3</th>\n",
       "      <td>1039963589</td>\n",
       "      <td>October 7, 01 [report_end]</td>\n",
       "    </tr>\n",
       "    <tr>\n",
       "      <th>4</th>\n",
       "      <td>1048901075</td>\n",
       "      <td>July, 4, 01 Primary Care Doctor:</td>\n",
       "    </tr>\n",
       "    <tr>\n",
       "      <th>5</th>\n",
       "      <td>1054311047</td>\n",
       "      <td>)and 8mo in 2009</td>\n",
       "    </tr>\n",
       "    <tr>\n",
       "      <th>6</th>\n",
       "      <td>1054668034</td>\n",
       "      <td>)HTN, hypercholesterolemia, DM, sleep apnea,, ...</td>\n",
       "    </tr>\n",
       "    <tr>\n",
       "      <th>7</th>\n",
       "      <td>1082469285</td>\n",
       "      <td>Septeber, 10, 70 CPT Code: 90792: With medical...</td>\n",
       "    </tr>\n",
       "    <tr>\n",
       "      <th>8</th>\n",
       "      <td>1125769793</td>\n",
       "      <td>Since 10/2014: Fatigued, more forgetful, impai...</td>\n",
       "    </tr>\n",
       "    <tr>\n",
       "      <th>9</th>\n",
       "      <td>1148116416</td>\n",
       "      <td>24 yo right handed woman with history of large...</td>\n",
       "    </tr>\n",
       "  </tbody>\n",
       "</table>\n",
       "</div>"
      ],
      "text/plain": [
       "         Code                                                Raw\n",
       "0  1012720972  .12, Noember 16- bad reaction to SpiceK2 - syn...\n",
       "1  1039370009  .April, 5 97: made a phone call to Mom and Mom...\n",
       "2  1039574613  A pleasant 28 yo woman with no formal psychiat...\n",
       "3  1039963589                         October 7, 01 [report_end]\n",
       "4  1048901075                   July, 4, 01 Primary Care Doctor:\n",
       "5  1054311047                                   )and 8mo in 2009\n",
       "6  1054668034  )HTN, hypercholesterolemia, DM, sleep apnea,, ...\n",
       "7  1082469285  Septeber, 10, 70 CPT Code: 90792: With medical...\n",
       "8  1125769793  Since 10/2014: Fatigued, more forgetful, impai...\n",
       "9  1148116416  24 yo right handed woman with history of large..."
      ]
     },
     "execution_count": 129,
     "metadata": {},
     "output_type": "execute_result"
    }
   ],
   "source": [
    "df = pd.read_csv('data/public.csv')\n",
    "print(df.shape)\n",
    "df.head(10)\n",
    "# string clean raw column,  because months might not spelt correctly - the column will be called data\n",
    "# Iter column will have integers. If 0 then it means its not matched, if its 1, 2, 3, etc.. if it matches using regex number 1, 2, 3, etc.."
   ]
  },
  {
   "cell_type": "markdown",
   "metadata": {},
   "source": [
    "## Import / Clean\n",
    "\n",
    "Algorithm\n",
    "* Clean data first to reduce number of regexes needed\n",
    "* Build sequence of regexes (starting with the most restrictive)\n",
    "* For each regex numbered, 1, 2, 3, ..\n",
    "    * Find rows that match\n",
    "    * Extract day, month and year\n",
    "    * Update df\n",
    "    "
   ]
  },
  {
   "cell_type": "code",
   "execution_count": 130,
   "metadata": {},
   "outputs": [],
   "source": [
    "def clean(s):\n",
    "    return s"
   ]
  },
  {
   "cell_type": "code",
   "execution_count": 131,
   "metadata": {},
   "outputs": [],
   "source": [
    "df['Data'] = df.Raw.apply(clean)\n",
    "df['Iter'] = 0\n",
    "df['Day'] = 0\n",
    "df['Month'] = 0\n",
    "df['Year'] = 0\n",
    "# Also need Date"
   ]
  },
  {
   "cell_type": "markdown",
   "metadata": {},
   "source": [
    "### Helper functions"
   ]
  },
  {
   "cell_type": "code",
   "execution_count": 132,
   "metadata": {},
   "outputs": [],
   "source": [
    "def info():\n",
    "    \"\"\"Show rows match and rows no matched.\"\"\"\n",
    "\n",
    "    display(df.head(10))"
   ]
  },
  {
   "cell_type": "code",
   "execution_count": 133,
   "metadata": {},
   "outputs": [],
   "source": [
    "def verify(df_tmp):\n",
    "    for c in ['Month', 'Day', 'Year']:\n",
    "        df_tmp[c] = df_tmp[c].astype(int)\n",
    "    return df_tmp\n",
    "        # TODO"
   ]
  },
  {
   "cell_type": "markdown",
   "metadata": {},
   "source": [
    "### `mm/dd/yyyy`"
   ]
  },
  {
   "cell_type": "code",
   "execution_count": 134,
   "metadata": {},
   "outputs": [
    {
     "data": {
      "text/plain": [
       "9    24 yo right handed woman with history of large...\n",
       "Name: Data, dtype: object"
      ]
     },
     "metadata": {},
     "output_type": "display_data"
    },
    {
     "data": {
      "text/html": [
       "<div>\n",
       "<style scoped>\n",
       "    .dataframe tbody tr th:only-of-type {\n",
       "        vertical-align: middle;\n",
       "    }\n",
       "\n",
       "    .dataframe tbody tr th {\n",
       "        vertical-align: top;\n",
       "    }\n",
       "\n",
       "    .dataframe thead th {\n",
       "        text-align: right;\n",
       "    }\n",
       "</style>\n",
       "<table border=\"1\" class=\"dataframe\">\n",
       "  <thead>\n",
       "    <tr style=\"text-align: right;\">\n",
       "      <th></th>\n",
       "      <th>0</th>\n",
       "      <th>1</th>\n",
       "      <th>2</th>\n",
       "    </tr>\n",
       "  </thead>\n",
       "  <tbody>\n",
       "    <tr>\n",
       "      <th>9</th>\n",
       "      <td>11</td>\n",
       "      <td>3</td>\n",
       "      <td>1985</td>\n",
       "    </tr>\n",
       "  </tbody>\n",
       "</table>\n",
       "</div>"
      ],
      "text/plain": [
       "    0  1     2\n",
       "9  11  3  1985"
      ]
     },
     "execution_count": 134,
     "metadata": {},
     "output_type": "execute_result"
    }
   ],
   "source": [
    "tmp = df.loc[df.Code == 1148116416, \"Data\"]\n",
    "display(tmp)\n",
    "\n",
    "regex = r\"(\\d{1,2})/(\\d{1,2})/(\\d{2,4})\"\n",
    "\n",
    "tmp.str.extract(regex)"
   ]
  },
  {
   "cell_type": "code",
   "execution_count": 135,
   "metadata": {},
   "outputs": [
    {
     "name": "stdout",
     "output_type": "stream",
     "text": [
      "Number of rows matched = 120\n"
     ]
    },
    {
     "data": {
      "text/html": [
       "<div>\n",
       "<style scoped>\n",
       "    .dataframe tbody tr th:only-of-type {\n",
       "        vertical-align: middle;\n",
       "    }\n",
       "\n",
       "    .dataframe tbody tr th {\n",
       "        vertical-align: top;\n",
       "    }\n",
       "\n",
       "    .dataframe thead th {\n",
       "        text-align: right;\n",
       "    }\n",
       "</style>\n",
       "<table border=\"1\" class=\"dataframe\">\n",
       "  <thead>\n",
       "    <tr style=\"text-align: right;\">\n",
       "      <th></th>\n",
       "      <th>Month</th>\n",
       "      <th>Day</th>\n",
       "      <th>Year</th>\n",
       "    </tr>\n",
       "  </thead>\n",
       "  <tbody>\n",
       "    <tr>\n",
       "      <th>9</th>\n",
       "      <td>11</td>\n",
       "      <td>3</td>\n",
       "      <td>1985</td>\n",
       "    </tr>\n",
       "    <tr>\n",
       "      <th>10</th>\n",
       "      <td>4</td>\n",
       "      <td>19</td>\n",
       "      <td>91</td>\n",
       "    </tr>\n",
       "    <tr>\n",
       "      <th>14</th>\n",
       "      <td>07</td>\n",
       "      <td>29</td>\n",
       "      <td>1994</td>\n",
       "    </tr>\n",
       "    <tr>\n",
       "      <th>16</th>\n",
       "      <td>6</td>\n",
       "      <td>10</td>\n",
       "      <td>72</td>\n",
       "    </tr>\n",
       "    <tr>\n",
       "      <th>18</th>\n",
       "      <td>6</td>\n",
       "      <td>18</td>\n",
       "      <td>85</td>\n",
       "    </tr>\n",
       "    <tr>\n",
       "      <th>...</th>\n",
       "      <td>...</td>\n",
       "      <td>...</td>\n",
       "      <td>...</td>\n",
       "    </tr>\n",
       "    <tr>\n",
       "      <th>689</th>\n",
       "      <td>5</td>\n",
       "      <td>24</td>\n",
       "      <td>88</td>\n",
       "    </tr>\n",
       "    <tr>\n",
       "      <th>695</th>\n",
       "      <td>12</td>\n",
       "      <td>26</td>\n",
       "      <td>86</td>\n",
       "    </tr>\n",
       "    <tr>\n",
       "      <th>696</th>\n",
       "      <td>10</td>\n",
       "      <td>05</td>\n",
       "      <td>97</td>\n",
       "    </tr>\n",
       "    <tr>\n",
       "      <th>698</th>\n",
       "      <td>04</td>\n",
       "      <td>08</td>\n",
       "      <td>2004</td>\n",
       "    </tr>\n",
       "    <tr>\n",
       "      <th>702</th>\n",
       "      <td>5</td>\n",
       "      <td>13</td>\n",
       "      <td>72</td>\n",
       "    </tr>\n",
       "  </tbody>\n",
       "</table>\n",
       "<p>120 rows × 3 columns</p>\n",
       "</div>"
      ],
      "text/plain": [
       "    Month Day  Year\n",
       "9      11   3  1985\n",
       "10      4  19    91\n",
       "14     07  29  1994\n",
       "16      6  10    72\n",
       "18      6  18    85\n",
       "..    ...  ..   ...\n",
       "689     5  24    88\n",
       "695    12  26    86\n",
       "696    10  05    97\n",
       "698    04  08  2004\n",
       "702     5  13    72\n",
       "\n",
       "[120 rows x 3 columns]"
      ]
     },
     "execution_count": 135,
     "metadata": {},
     "output_type": "execute_result"
    }
   ],
   "source": [
    "# Apply\n",
    "\n",
    "iter = 0\n",
    "columns = ['Month', 'Day', 'Year']\n",
    "\n",
    "df_tmp = df[df.Iter==0].Data.str.extract(regex)\n",
    "df_tmp.dropna(inplace=True)\n",
    "df_tmp.columns = columns\n",
    "print(f\"Number of rows matched = {df_tmp.shape[0]}\")\n",
    "df_tmp"
   ]
  },
  {
   "cell_type": "code",
   "execution_count": 136,
   "metadata": {},
   "outputs": [],
   "source": [
    "# Verify date\n",
    "\n",
    "df_tmp = verify(df_tmp)"
   ]
  },
  {
   "cell_type": "code",
   "execution_count": 137,
   "metadata": {},
   "outputs": [
    {
     "data": {
      "text/html": [
       "<div>\n",
       "<style scoped>\n",
       "    .dataframe tbody tr th:only-of-type {\n",
       "        vertical-align: middle;\n",
       "    }\n",
       "\n",
       "    .dataframe tbody tr th {\n",
       "        vertical-align: top;\n",
       "    }\n",
       "\n",
       "    .dataframe thead th {\n",
       "        text-align: right;\n",
       "    }\n",
       "</style>\n",
       "<table border=\"1\" class=\"dataframe\">\n",
       "  <thead>\n",
       "    <tr style=\"text-align: right;\">\n",
       "      <th></th>\n",
       "      <th>Code</th>\n",
       "      <th>Raw</th>\n",
       "      <th>Data</th>\n",
       "      <th>Iter</th>\n",
       "      <th>Day</th>\n",
       "      <th>Month</th>\n",
       "      <th>Year</th>\n",
       "    </tr>\n",
       "  </thead>\n",
       "  <tbody>\n",
       "    <tr>\n",
       "      <th>0</th>\n",
       "      <td>1012720972</td>\n",
       "      <td>.12, Noember 16- bad reaction to SpiceK2 - syn...</td>\n",
       "      <td>.12, Noember 16- bad reaction to SpiceK2 - syn...</td>\n",
       "      <td>0</td>\n",
       "      <td>0</td>\n",
       "      <td>0</td>\n",
       "      <td>0</td>\n",
       "    </tr>\n",
       "    <tr>\n",
       "      <th>1</th>\n",
       "      <td>1039370009</td>\n",
       "      <td>.April, 5 97: made a phone call to Mom and Mom...</td>\n",
       "      <td>.April, 5 97: made a phone call to Mom and Mom...</td>\n",
       "      <td>0</td>\n",
       "      <td>0</td>\n",
       "      <td>0</td>\n",
       "      <td>0</td>\n",
       "    </tr>\n",
       "    <tr>\n",
       "      <th>2</th>\n",
       "      <td>1039574613</td>\n",
       "      <td>A pleasant 28 yo woman with no formal psychiat...</td>\n",
       "      <td>A pleasant 28 yo woman with no formal psychiat...</td>\n",
       "      <td>0</td>\n",
       "      <td>0</td>\n",
       "      <td>0</td>\n",
       "      <td>0</td>\n",
       "    </tr>\n",
       "    <tr>\n",
       "      <th>3</th>\n",
       "      <td>1039963589</td>\n",
       "      <td>October 7, 01 [report_end]</td>\n",
       "      <td>October 7, 01 [report_end]</td>\n",
       "      <td>0</td>\n",
       "      <td>0</td>\n",
       "      <td>0</td>\n",
       "      <td>0</td>\n",
       "    </tr>\n",
       "    <tr>\n",
       "      <th>4</th>\n",
       "      <td>1048901075</td>\n",
       "      <td>July, 4, 01 Primary Care Doctor:</td>\n",
       "      <td>July, 4, 01 Primary Care Doctor:</td>\n",
       "      <td>0</td>\n",
       "      <td>0</td>\n",
       "      <td>0</td>\n",
       "      <td>0</td>\n",
       "    </tr>\n",
       "    <tr>\n",
       "      <th>5</th>\n",
       "      <td>1054311047</td>\n",
       "      <td>)and 8mo in 2009</td>\n",
       "      <td>)and 8mo in 2009</td>\n",
       "      <td>0</td>\n",
       "      <td>0</td>\n",
       "      <td>0</td>\n",
       "      <td>0</td>\n",
       "    </tr>\n",
       "    <tr>\n",
       "      <th>6</th>\n",
       "      <td>1054668034</td>\n",
       "      <td>)HTN, hypercholesterolemia, DM, sleep apnea,, ...</td>\n",
       "      <td>)HTN, hypercholesterolemia, DM, sleep apnea,, ...</td>\n",
       "      <td>0</td>\n",
       "      <td>0</td>\n",
       "      <td>0</td>\n",
       "      <td>0</td>\n",
       "    </tr>\n",
       "    <tr>\n",
       "      <th>7</th>\n",
       "      <td>1082469285</td>\n",
       "      <td>Septeber, 10, 70 CPT Code: 90792: With medical...</td>\n",
       "      <td>Septeber, 10, 70 CPT Code: 90792: With medical...</td>\n",
       "      <td>0</td>\n",
       "      <td>0</td>\n",
       "      <td>0</td>\n",
       "      <td>0</td>\n",
       "    </tr>\n",
       "    <tr>\n",
       "      <th>8</th>\n",
       "      <td>1125769793</td>\n",
       "      <td>Since 10/2014: Fatigued, more forgetful, impai...</td>\n",
       "      <td>Since 10/2014: Fatigued, more forgetful, impai...</td>\n",
       "      <td>0</td>\n",
       "      <td>0</td>\n",
       "      <td>0</td>\n",
       "      <td>0</td>\n",
       "    </tr>\n",
       "    <tr>\n",
       "      <th>9</th>\n",
       "      <td>1148116416</td>\n",
       "      <td>24 yo right handed woman with history of large...</td>\n",
       "      <td>24 yo right handed woman with history of large...</td>\n",
       "      <td>1</td>\n",
       "      <td>3</td>\n",
       "      <td>11</td>\n",
       "      <td>1985</td>\n",
       "    </tr>\n",
       "  </tbody>\n",
       "</table>\n",
       "</div>"
      ],
      "text/plain": [
       "         Code                                                Raw  \\\n",
       "0  1012720972  .12, Noember 16- bad reaction to SpiceK2 - syn...   \n",
       "1  1039370009  .April, 5 97: made a phone call to Mom and Mom...   \n",
       "2  1039574613  A pleasant 28 yo woman with no formal psychiat...   \n",
       "3  1039963589                         October 7, 01 [report_end]   \n",
       "4  1048901075                   July, 4, 01 Primary Care Doctor:   \n",
       "5  1054311047                                   )and 8mo in 2009   \n",
       "6  1054668034  )HTN, hypercholesterolemia, DM, sleep apnea,, ...   \n",
       "7  1082469285  Septeber, 10, 70 CPT Code: 90792: With medical...   \n",
       "8  1125769793  Since 10/2014: Fatigued, more forgetful, impai...   \n",
       "9  1148116416  24 yo right handed woman with history of large...   \n",
       "\n",
       "                                                Data  Iter  Day  Month  Year  \n",
       "0  .12, Noember 16- bad reaction to SpiceK2 - syn...     0    0      0     0  \n",
       "1  .April, 5 97: made a phone call to Mom and Mom...     0    0      0     0  \n",
       "2  A pleasant 28 yo woman with no formal psychiat...     0    0      0     0  \n",
       "3                         October 7, 01 [report_end]     0    0      0     0  \n",
       "4                   July, 4, 01 Primary Care Doctor:     0    0      0     0  \n",
       "5                                   )and 8mo in 2009     0    0      0     0  \n",
       "6  )HTN, hypercholesterolemia, DM, sleep apnea,, ...     0    0      0     0  \n",
       "7  Septeber, 10, 70 CPT Code: 90792: With medical...     0    0      0     0  \n",
       "8  Since 10/2014: Fatigued, more forgetful, impai...     0    0      0     0  \n",
       "9  24 yo right handed woman with history of large...     1    3     11  1985  "
      ]
     },
     "metadata": {},
     "output_type": "display_data"
    }
   ],
   "source": [
    "# Save result\n",
    "\n",
    "criteria = (df.Iter == 0) & (df_tmp.Year>0)\n",
    "\n",
    "df.loc[criteria, columns] = df_tmp[columns]\n",
    "df.loc[criteria, 'Iter'] = iter + 1\n",
    "\n",
    "info()"
   ]
  }
 ],
 "metadata": {
  "kernelspec": {
   "display_name": "data_mining",
   "language": "python",
   "name": "python3"
  },
  "language_info": {
   "codemirror_mode": {
    "name": "ipython",
    "version": 3
   },
   "file_extension": ".py",
   "mimetype": "text/x-python",
   "name": "python",
   "nbconvert_exporter": "python",
   "pygments_lexer": "ipython3",
   "version": "3.11.4"
  }
 },
 "nbformat": 4,
 "nbformat_minor": 2
}
