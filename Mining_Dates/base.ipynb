{
 "cells": [
  {
   "cell_type": "markdown",
   "id": "68752ef6b533e068",
   "metadata": {
    "collapsed": false
   },
   "source": [
    "# Date Mining - 01 - Import"
   ]
  },
  {
   "cell_type": "markdown",
   "id": "910c49ed",
   "metadata": {},
   "source": [
    "## Setup"
   ]
  },
  {
   "cell_type": "code",
   "execution_count": 26,
   "id": "initial_id",
   "metadata": {
    "collapsed": true
   },
   "outputs": [],
   "source": [
    "import numpy as np\n",
    "import pandas as pd\n",
    "import matplotlib.pyplot as plt\n",
    "import seaborn as sns\n",
    "from scipy import stats\n",
    "import yaml\n",
    "import regex \n",
    "\n",
    "pd.set_option('display.max_columns', None)\n",
    "pd.set_option('display.width', 1000)\n",
    "# pd.set_option('display.max_rows', None)\n",
    "\n",
    "sns.set_style(\"darkgrid\")\n",
    "\n",
    "from IPython.display import display, Markdown\n",
    "from pprint import pprint \n",
    "\n",
    "DEBUG = True\n",
    "SEED = 666"
   ]
  },
  {
   "cell_type": "code",
   "execution_count": 27,
   "id": "e14577343c1f65c6",
   "metadata": {
    "collapsed": false
   },
   "outputs": [],
   "source": [
    "DATASET = \"dates.csv\"\n",
    "\n",
    "import os, sys\n",
    "COLAB = 'google.colab' in sys.modules\n",
    "ROOT = \"./\"\n",
    "\n",
    "if COLAB:\n",
    "  from google.colab import drive\n",
    "  if not os.path.isdir(\"/content/gdrive\"):\n",
    "    drive.mount(\"/content/gdrive\")\n",
    "    d = \"/content/gdrive/MyDrive/datasets\"\n",
    "    if not os.path.isdir(ROOT+d): os.makedirs(ROOT+d)\n",
    "  ROOT = f\"/content/gdrive/MyDrive/datasets/{DATASET.replace(' ','_')}/\"\n",
    "  if not os.path.isdir(ROOT): os.makedirs(ROOT)\n",
    "\n",
    "\n",
    "def makedirs(d):\n",
    "  if COLAB:\n",
    "    if not os.path.isdir(ROOT+d): os.makedirs(ROOT+d)\n",
    "  else:\n",
    "    if not os.path.isdir(ROOT+d): os.makedirs(ROOT+d, mode=0o777, exist_ok=True)\n",
    "\n",
    "for d in ['orig','data','output']: makedirs(d)"
   ]
  },
  {
   "cell_type": "markdown",
   "id": "9dfc977e",
   "metadata": {},
   "source": [
    "## Dataset"
   ]
  },
  {
   "cell_type": "code",
   "execution_count": 28,
   "id": "a254c2f4",
   "metadata": {},
   "outputs": [
    {
     "name": "stdout",
     "output_type": "stream",
     "text": [
      "Using local copy...\n"
     ]
    }
   ],
   "source": [
    "if os.path.isfile(ROOT+ \"orig/\"+DATASET):\n",
    "    print(\"Using local copy...\")\n",
    "    df = pd.read_csv(ROOT+ \"orig/\"+DATASET)\n",
    "else:\n",
    "    print(\"Downloading dataset...\")\n",
    "    df = pd.read_csv(\"https://setu-datamining2.github.io/live/topics/21-Assignments/03-Mining_Dates/files/public.csv\")\n",
    "    df.to_csv(ROOT+ \"orig/\"+DATASET, index=False)"
   ]
  },
  {
   "cell_type": "markdown",
   "id": "f5ed6c26",
   "metadata": {},
   "source": [
    "## Import/Clean\n",
    "\n",
    "Algorithm:\n",
    "* Build sequence of regex patterns to match the date formats (starting with most restrictive)\n",
    "* For each regex pattern find rows that match:\n",
    "  * find rows that match\n",
    "  * extract the day, month, year\n",
    "  * update df"
   ]
  },
  {
   "cell_type": "code",
   "execution_count": 29,
   "id": "10f07b75",
   "metadata": {},
   "outputs": [
    {
     "name": "stdout",
     "output_type": "stream",
     "text": [
      "(715, 2)\n"
     ]
    }
   ],
   "source": [
    "df = pd.read_csv(ROOT+ \"orig/\"+DATASET)\n",
    "print(df.shape)"
   ]
  },
  {
   "cell_type": "code",
   "execution_count": 30,
   "id": "2b6ec46d",
   "metadata": {},
   "outputs": [],
   "source": [
    "def clean(str):\n",
    "    return str"
   ]
  },
  {
   "cell_type": "code",
   "execution_count": 31,
   "id": "5850ed3e",
   "metadata": {},
   "outputs": [],
   "source": [
    "df[\"Data\"] = df.Raw.apply(clean)\n",
    "df[\"Iter\"] = 0\n",
    "df[\"Day\"] = 0\n",
    "df[\"Month\"] = 0\n",
    "df[\"Year\"] = 0\n",
    "# Add Date Later"
   ]
  },
  {
   "cell_type": "markdown",
   "id": "c2a4f6e2",
   "metadata": {},
   "source": [
    "### Helper functions"
   ]
  },
  {
   "cell_type": "code",
   "execution_count": 32,
   "id": "6978003f",
   "metadata": {},
   "outputs": [],
   "source": [
    "def info():\n",
    "    \"\"\"Show rows matched and rows unmatched\"\"\"\n",
    "\n",
    "    display(df.head())"
   ]
  },
  {
   "cell_type": "markdown",
   "id": "13b2f966",
   "metadata": {},
   "source": [
    "### `mm/dd/yyyy`"
   ]
  },
  {
   "cell_type": "code",
   "execution_count": 39,
   "id": "b6544896",
   "metadata": {},
   "outputs": [
    {
     "data": {
      "text/plain": [
       "9    24 yo right handed woman with history of large...\n",
       "Name: Data, dtype: object"
      ]
     },
     "metadata": {},
     "output_type": "display_data"
    },
    {
     "data": {
      "text/html": [
       "<div>\n",
       "<style scoped>\n",
       "    .dataframe tbody tr th:only-of-type {\n",
       "        vertical-align: middle;\n",
       "    }\n",
       "\n",
       "    .dataframe tbody tr th {\n",
       "        vertical-align: top;\n",
       "    }\n",
       "\n",
       "    .dataframe thead th {\n",
       "        text-align: right;\n",
       "    }\n",
       "</style>\n",
       "<table border=\"1\" class=\"dataframe\">\n",
       "  <thead>\n",
       "    <tr style=\"text-align: right;\">\n",
       "      <th></th>\n",
       "      <th>0</th>\n",
       "      <th>1</th>\n",
       "      <th>2</th>\n",
       "    </tr>\n",
       "  </thead>\n",
       "  <tbody>\n",
       "    <tr>\n",
       "      <th>9</th>\n",
       "      <td>11</td>\n",
       "      <td>3</td>\n",
       "      <td>1985</td>\n",
       "    </tr>\n",
       "  </tbody>\n",
       "</table>\n",
       "</div>"
      ],
      "text/plain": [
       "    0  1     2\n",
       "9  11  3  1985"
      ]
     },
     "execution_count": 39,
     "metadata": {},
     "output_type": "execute_result"
    }
   ],
   "source": [
    "df_tmp = df.loc[df.Code==1148116416, \"Data\"]\n",
    "display(df_tmp)\n",
    "\n",
    "regex = r\"(\\d{1,2})[-/](\\d{1,2})[-/](\\d{2,4})\"\n",
    "\n",
    "df_tmp.str.extract(regex)\n",
    "\n"
   ]
  },
  {
   "cell_type": "code",
   "execution_count": null,
   "id": "82fa2573",
   "metadata": {},
   "outputs": [],
   "source": [
    "# Apply\n",
    "\n",
    "iter = 0"
   ]
  },
  {
   "cell_type": "markdown",
   "id": "9a6fb035",
   "metadata": {},
   "source": [
    "### Steps\n",
    "- Take ``raw`` column of data and clean it\n",
    "  - Clean spelling mistakes in dates\n",
    "- Create a new column ``clean`` with cleaned data\n",
    "- Create a new column ``iter`` with the iteration number of the date\n",
    "- Iterate over each column checking Regex patterns and extracting the date\n",
    "\n",
    "### Requirements\n",
    "- ``Day`` column\n",
    "- ``Month`` column\n",
    "- ``Year`` column\n",
    "- ``Date`` column"
   ]
  },
  {
   "cell_type": "code",
   "execution_count": null,
   "id": "4684ebd8",
   "metadata": {},
   "outputs": [],
   "source": []
  }
 ],
 "metadata": {
  "kernelspec": {
   "display_name": "Python 3",
   "language": "python",
   "name": "python3"
  },
  "language_info": {
   "codemirror_mode": {
    "name": "ipython",
    "version": 3
   },
   "file_extension": ".py",
   "mimetype": "text/x-python",
   "name": "python",
   "nbconvert_exporter": "python",
   "pygments_lexer": "ipython3",
   "version": "3.11.4"
  }
 },
 "nbformat": 4,
 "nbformat_minor": 5
}
