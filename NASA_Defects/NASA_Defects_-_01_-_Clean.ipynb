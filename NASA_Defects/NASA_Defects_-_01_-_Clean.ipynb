{
 "cells": [
  {
   "cell_type": "markdown",
   "metadata": {},
   "source": [
    "# NASA Defects - 01 - Import & Clean\n",
    "\n",
    "## Setup"
   ]
  },
  {
   "cell_type": "code",
   "execution_count": 2,
   "metadata": {},
   "outputs": [],
   "source": [
    "import numpy as np\n",
    "import pandas as pd\n",
    "import matplotlib.pyplot as plt\n",
    "import seaborn as sns\n",
    "from scipy import stats\n",
    "import yaml\n",
    "\n",
    "pd.set_option('display.max_columns', None)\n",
    "pd.set_option('display.width', 1000)\n",
    "# pd.set_option('display.max_rows', None)\n",
    "\n",
    "sns.set_style(\"darkgrid\")\n",
    "\n",
    "from IPython.display import display, Markdown\n",
    "from pprint import pprint \n",
    "\n",
    "DEBUG = True\n",
    "SEED = 666"
   ]
  },
  {
   "cell_type": "code",
   "execution_count": 3,
   "metadata": {},
   "outputs": [],
   "source": [
    "DATASET = \"jm1.csv\"\n",
    "\n",
    "import os, sys\n",
    "COLAB = 'google.colab' in sys.modules\n",
    "ROOT = \"./\"\n",
    "\n",
    "if COLAB:\n",
    "  from google.colab import drive\n",
    "  if not os.path.isdir(\"/content/gdrive\"):\n",
    "    drive.mount(\"/content/gdrive\")\n",
    "    d = \"/content/gdrive/MyDrive/datasets\"\n",
    "    if not os.path.isdir(ROOT+d): os.makedirs(ROOT+d)\n",
    "  ROOT = f\"/content/gdrive/MyDrive/datasets/{DATASET.replace(' ','_')}/\"\n",
    "  if not os.path.isdir(ROOT): os.makedirs(ROOT)\n",
    "\n",
    "\n",
    "def makedirs(d):\n",
    "  if COLAB:\n",
    "    if not os.path.isdir(ROOT+d): os.makedirs(ROOT+d)\n",
    "  else:\n",
    "    if not os.path.isdir(ROOT+d): os.makedirs(ROOT+d, mode=0o777, exist_ok=True)\n",
    "\n",
    "for d in ['orig','data','output']: makedirs(d)"
   ]
  },
  {
   "cell_type": "markdown",
   "metadata": {},
   "source": [
    "## Import"
   ]
  },
  {
   "cell_type": "code",
   "execution_count": 4,
   "metadata": {},
   "outputs": [
    {
     "name": "stdout",
     "output_type": "stream",
     "text": [
      "(10878, 22)\n"
     ]
    },
    {
     "data": {
      "text/html": [
       "<div>\n",
       "<style scoped>\n",
       "    .dataframe tbody tr th:only-of-type {\n",
       "        vertical-align: middle;\n",
       "    }\n",
       "\n",
       "    .dataframe tbody tr th {\n",
       "        vertical-align: top;\n",
       "    }\n",
       "\n",
       "    .dataframe thead th {\n",
       "        text-align: right;\n",
       "    }\n",
       "</style>\n",
       "<table border=\"1\" class=\"dataframe\">\n",
       "  <thead>\n",
       "    <tr style=\"text-align: right;\">\n",
       "      <th></th>\n",
       "      <th>LOC_BLANK</th>\n",
       "      <th>BRANCH_COUNT</th>\n",
       "      <th>LOC_CODE_AND_COMMENT</th>\n",
       "      <th>LOC_COMMENTS</th>\n",
       "      <th>CYCLOMATIC_COMPLEXITY</th>\n",
       "      <th>DESIGN_COMPLEXITY</th>\n",
       "      <th>ESSENTIAL_COMPLEXITY</th>\n",
       "      <th>LOC_EXECUTABLE</th>\n",
       "      <th>HALSTEAD_CONTENT</th>\n",
       "      <th>HALSTEAD_DIFFICULTY</th>\n",
       "      <th>HALSTEAD_EFFORT</th>\n",
       "      <th>HALSTEAD_ERROR_EST</th>\n",
       "      <th>HALSTEAD_LENGTH</th>\n",
       "      <th>HALSTEAD_LEVEL</th>\n",
       "      <th>HALSTEAD_PROG_TIME</th>\n",
       "      <th>HALSTEAD_VOLUME</th>\n",
       "      <th>NUM_OPERANDS</th>\n",
       "      <th>NUM_OPERATORS</th>\n",
       "      <th>NUM_UNIQUE_OPERANDS</th>\n",
       "      <th>NUM_UNIQUE_OPERATORS</th>\n",
       "      <th>LOC_TOTAL</th>\n",
       "      <th>label</th>\n",
       "    </tr>\n",
       "  </thead>\n",
       "  <tbody>\n",
       "    <tr>\n",
       "      <th>0</th>\n",
       "      <td>447.0</td>\n",
       "      <td>826.0</td>\n",
       "      <td>12.0</td>\n",
       "      <td>157.0</td>\n",
       "      <td>470.0</td>\n",
       "      <td>385.0</td>\n",
       "      <td>113.0</td>\n",
       "      <td>2824.0</td>\n",
       "      <td>210.28</td>\n",
       "      <td>384.45</td>\n",
       "      <td>31079782.27</td>\n",
       "      <td>26.95</td>\n",
       "      <td>8441.0</td>\n",
       "      <td>0.00</td>\n",
       "      <td>1726654.57</td>\n",
       "      <td>80843.08</td>\n",
       "      <td>3021.0</td>\n",
       "      <td>5420.0</td>\n",
       "      <td>609.0</td>\n",
       "      <td>155.0</td>\n",
       "      <td>3442.0</td>\n",
       "      <td>1</td>\n",
       "    </tr>\n",
       "    <tr>\n",
       "      <th>1</th>\n",
       "      <td>0.0</td>\n",
       "      <td>211.0</td>\n",
       "      <td>0.0</td>\n",
       "      <td>0.0</td>\n",
       "      <td>128.0</td>\n",
       "      <td>104.0</td>\n",
       "      <td>14.0</td>\n",
       "      <td>0.0</td>\n",
       "      <td>0.00</td>\n",
       "      <td>0.00</td>\n",
       "      <td>0.00</td>\n",
       "      <td>0.00</td>\n",
       "      <td>0.0</td>\n",
       "      <td>0.00</td>\n",
       "      <td>0.00</td>\n",
       "      <td>0.00</td>\n",
       "      <td>0.0</td>\n",
       "      <td>0.0</td>\n",
       "      <td>0.0</td>\n",
       "      <td>0.0</td>\n",
       "      <td>1129.0</td>\n",
       "      <td>1</td>\n",
       "    </tr>\n",
       "    <tr>\n",
       "      <th>2</th>\n",
       "      <td>164.0</td>\n",
       "      <td>485.0</td>\n",
       "      <td>10.0</td>\n",
       "      <td>58.0</td>\n",
       "      <td>268.0</td>\n",
       "      <td>219.0</td>\n",
       "      <td>39.0</td>\n",
       "      <td>1588.0</td>\n",
       "      <td>202.98</td>\n",
       "      <td>213.53</td>\n",
       "      <td>9254819.86</td>\n",
       "      <td>14.45</td>\n",
       "      <td>4828.0</td>\n",
       "      <td>0.00</td>\n",
       "      <td>514156.64</td>\n",
       "      <td>43342.31</td>\n",
       "      <td>1730.0</td>\n",
       "      <td>3172.0</td>\n",
       "      <td>407.0</td>\n",
       "      <td>102.0</td>\n",
       "      <td>1824.0</td>\n",
       "      <td>1</td>\n",
       "    </tr>\n",
       "    <tr>\n",
       "      <th>3</th>\n",
       "      <td>37.0</td>\n",
       "      <td>29.0</td>\n",
       "      <td>8.0</td>\n",
       "      <td>42.0</td>\n",
       "      <td>19.0</td>\n",
       "      <td>19.0</td>\n",
       "      <td>6.0</td>\n",
       "      <td>133.0</td>\n",
       "      <td>108.14</td>\n",
       "      <td>46.32</td>\n",
       "      <td>232043.52</td>\n",
       "      <td>1.67</td>\n",
       "      <td>685.0</td>\n",
       "      <td>0.02</td>\n",
       "      <td>12891.31</td>\n",
       "      <td>5009.32</td>\n",
       "      <td>295.0</td>\n",
       "      <td>390.0</td>\n",
       "      <td>121.0</td>\n",
       "      <td>38.0</td>\n",
       "      <td>222.0</td>\n",
       "      <td>1</td>\n",
       "    </tr>\n",
       "    <tr>\n",
       "      <th>4</th>\n",
       "      <td>11.0</td>\n",
       "      <td>405.0</td>\n",
       "      <td>0.0</td>\n",
       "      <td>17.0</td>\n",
       "      <td>404.0</td>\n",
       "      <td>2.0</td>\n",
       "      <td>1.0</td>\n",
       "      <td>814.0</td>\n",
       "      <td>101.20</td>\n",
       "      <td>206.01</td>\n",
       "      <td>4294926.45</td>\n",
       "      <td>6.95</td>\n",
       "      <td>2033.0</td>\n",
       "      <td>0.00</td>\n",
       "      <td>238607.05</td>\n",
       "      <td>20848.47</td>\n",
       "      <td>813.0</td>\n",
       "      <td>1220.0</td>\n",
       "      <td>811.0</td>\n",
       "      <td>411.0</td>\n",
       "      <td>844.0</td>\n",
       "      <td>1</td>\n",
       "    </tr>\n",
       "  </tbody>\n",
       "</table>\n",
       "</div>"
      ],
      "text/plain": [
       "   LOC_BLANK  BRANCH_COUNT  LOC_CODE_AND_COMMENT  LOC_COMMENTS  CYCLOMATIC_COMPLEXITY  DESIGN_COMPLEXITY  ESSENTIAL_COMPLEXITY  LOC_EXECUTABLE  HALSTEAD_CONTENT  HALSTEAD_DIFFICULTY  HALSTEAD_EFFORT  HALSTEAD_ERROR_EST  HALSTEAD_LENGTH  HALSTEAD_LEVEL  HALSTEAD_PROG_TIME  HALSTEAD_VOLUME  NUM_OPERANDS  NUM_OPERATORS  NUM_UNIQUE_OPERANDS  NUM_UNIQUE_OPERATORS  LOC_TOTAL  label\n",
       "0      447.0         826.0                  12.0         157.0                  470.0              385.0                 113.0          2824.0            210.28               384.45      31079782.27               26.95           8441.0            0.00          1726654.57         80843.08        3021.0         5420.0                609.0                 155.0     3442.0      1\n",
       "1        0.0         211.0                   0.0           0.0                  128.0              104.0                  14.0             0.0              0.00                 0.00             0.00                0.00              0.0            0.00                0.00             0.00           0.0            0.0                  0.0                   0.0     1129.0      1\n",
       "2      164.0         485.0                  10.0          58.0                  268.0              219.0                  39.0          1588.0            202.98               213.53       9254819.86               14.45           4828.0            0.00           514156.64         43342.31        1730.0         3172.0                407.0                 102.0     1824.0      1\n",
       "3       37.0          29.0                   8.0          42.0                   19.0               19.0                   6.0           133.0            108.14                46.32        232043.52                1.67            685.0            0.02            12891.31          5009.32         295.0          390.0                121.0                  38.0      222.0      1\n",
       "4       11.0         405.0                   0.0          17.0                  404.0                2.0                   1.0           814.0            101.20               206.01       4294926.45                6.95           2033.0            0.00           238607.05         20848.47         813.0         1220.0                811.0                 411.0      844.0      1"
      ]
     },
     "execution_count": 4,
     "metadata": {},
     "output_type": "execute_result"
    }
   ],
   "source": [
    "df = pd.read_csv(ROOT+\"orig/\"+DATASET)\n",
    "print(df.shape)\n",
    "df.head(5)"
   ]
  },
  {
   "cell_type": "markdown",
   "metadata": {},
   "source": [
    "Here we can see that there are no null values in the dataset."
   ]
  },
  {
   "cell_type": "code",
   "execution_count": 5,
   "metadata": {},
   "outputs": [
    {
     "data": {
      "text/plain": [
       "LOC_BLANK                0\n",
       "BRANCH_COUNT             0\n",
       "LOC_CODE_AND_COMMENT     0\n",
       "LOC_COMMENTS             0\n",
       "CYCLOMATIC_COMPLEXITY    0\n",
       "DESIGN_COMPLEXITY        0\n",
       "ESSENTIAL_COMPLEXITY     0\n",
       "LOC_EXECUTABLE           0\n",
       "HALSTEAD_CONTENT         0\n",
       "HALSTEAD_DIFFICULTY      0\n",
       "HALSTEAD_EFFORT          0\n",
       "HALSTEAD_ERROR_EST       0\n",
       "HALSTEAD_LENGTH          0\n",
       "HALSTEAD_LEVEL           0\n",
       "HALSTEAD_PROG_TIME       0\n",
       "HALSTEAD_VOLUME          0\n",
       "NUM_OPERANDS             0\n",
       "NUM_OPERATORS            0\n",
       "NUM_UNIQUE_OPERANDS      0\n",
       "NUM_UNIQUE_OPERATORS     0\n",
       "LOC_TOTAL                0\n",
       "label                    0\n",
       "dtype: int64"
      ]
     },
     "execution_count": 5,
     "metadata": {},
     "output_type": "execute_result"
    }
   ],
   "source": [
    "df.isnull().sum()"
   ]
  },
  {
   "cell_type": "markdown",
   "metadata": {},
   "source": [
    "## Check Cases & Features"
   ]
  },
  {
   "cell_type": "code",
   "execution_count": 18,
   "metadata": {},
   "outputs": [
    {
     "name": "stdout",
     "output_type": "stream",
     "text": [
      "Target: 'label'\n",
      "Cases: 10878\n",
      "Features: 21\n"
     ]
    }
   ],
   "source": [
    "target = \"label\"\n",
    "features = list(df.columns)\n",
    "features.remove(target)\n",
    "\n",
    "print(f\"Target: '{target}'\")\n",
    "print(f\"Cases: {len(df)}\")\n",
    "print(f\"Features: {len(features)}\")"
   ]
  },
  {
   "cell_type": "markdown",
   "metadata": {},
   "source": [
    "## Check data quality\n",
    "\n",
    "### A - Identical features\n",
    "\n",
    "Refers to a situation where two or more features contain identical values for all cases.\n",
    "\n",
    "F1=F2=F3 ∧ F4=F5 =⇒ 3 features are identical so could be deleted.\n",
    "\n",
    "Expected output:\n",
    " \n",
    "Results: "
   ]
  },
  {
   "cell_type": "code",
   "execution_count": null,
   "metadata": {},
   "outputs": [],
   "source": [
    "QUALITY_A = 0"
   ]
  },
  {
   "cell_type": "markdown",
   "metadata": {},
   "source": [
    "### B - Constant features\n",
    "\n",
    "Refers to features that contain the same value for every instance, i.e. add no information"
   ]
  },
  {
   "cell_type": "code",
   "execution_count": null,
   "metadata": {},
   "outputs": [],
   "source": [
    "QUALITY_B = 0"
   ]
  },
  {
   "cell_type": "markdown",
   "metadata": {},
   "source": [
    "### C - Features with missing values\n",
    "\n",
    "Counts the number of features that contain one or more missing observations\n",
    "\n",
    "F1 has 10 missing values ∧ F3 has 3 missing values =⇒ 2 features contain missing values."
   ]
  },
  {
   "cell_type": "code",
   "execution_count": null,
   "metadata": {},
   "outputs": [],
   "source": [
    "QUALITY_C = 0"
   ]
  },
  {
   "cell_type": "markdown",
   "metadata": {},
   "source": [
    "### D - Features with conflicting values\n",
    "\n",
    "Counts features that violate some referential integrity constraint\n",
    "\n",
    "F1 should equal F2+F3 but does not. We cannot say which feature is in error therefore =⇒ 3 problematic features."
   ]
  },
  {
   "cell_type": "code",
   "execution_count": null,
   "metadata": {},
   "outputs": [],
   "source": [
    "QUALITY_D = 0"
   ]
  },
  {
   "cell_type": "markdown",
   "metadata": {},
   "source": [
    "### E - Features with implausible values\n",
    "\n",
    "Counts features that violate some integrity constraint\n",
    "\n",
    "F1 should be non-negative but contains 1 or more instances < 0 =⇒ 1 problematic feature"
   ]
  },
  {
   "cell_type": "code",
   "execution_count": null,
   "metadata": {},
   "outputs": [],
   "source": [
    "QUALITY_E = 0"
   ]
  },
  {
   "cell_type": "markdown",
   "metadata": {},
   "source": [
    "### F - Total problem features\n",
    "\n",
    "Count of features impacted by 1 or more of A-E. Since features may contain more than one problem this need not be the sum of A to E ."
   ]
  },
  {
   "cell_type": "code",
   "execution_count": null,
   "metadata": {},
   "outputs": [],
   "source": [
    "QUALITY_F = 0"
   ]
  },
  {
   "cell_type": "markdown",
   "metadata": {},
   "source": [
    "### G - Identical Cases\n",
    "\n",
    "Refers to a situation where two or more cases contain identical values for all features including class label."
   ]
  },
  {
   "cell_type": "code",
   "execution_count": null,
   "metadata": {},
   "outputs": [],
   "source": [
    "QUALITY_G = 0"
   ]
  },
  {
   "cell_type": "markdown",
   "metadata": {},
   "source": [
    "### H - Inconsistent cases\n",
    "\n",
    "As per G but the class labels differ, all other data item values are identical\n",
    "\n",
    "There are two identical modules M1 and M2 where M1 is labelled as fault free and M2 is labelled as faulty."
   ]
  },
  {
   "cell_type": "code",
   "execution_count": null,
   "metadata": {},
   "outputs": [],
   "source": [
    "QUALITY_H = 0"
   ]
  },
  {
   "cell_type": "markdown",
   "metadata": {},
   "source": [
    "### I - Cases with missing values\n",
    "\n",
    "Counts the number of cases that contain one or more missing observations"
   ]
  },
  {
   "cell_type": "code",
   "execution_count": null,
   "metadata": {},
   "outputs": [],
   "source": [
    "QUALITY_I = 0"
   ]
  },
  {
   "cell_type": "markdown",
   "metadata": {},
   "source": [
    "### J - Cases with conflicting feature values\n",
    "\n",
    "Counts cases that contain features (2 or more by definition) that violate some referential integrity constraint. Count each case irrespective of the number of features implicated\n",
    "\n",
    "As per Column D"
   ]
  },
  {
   "cell_type": "code",
   "execution_count": null,
   "metadata": {},
   "outputs": [],
   "source": [
    "QUALITY_J = 0"
   ]
  },
  {
   "cell_type": "markdown",
   "metadata": {},
   "source": [
    "### K - Cases with implausible values\n",
    "\n",
    "Counts cases that violate some integrity constraint. Count each case irrespective of the number of features implicated.\n",
    "\n",
    "As per Column E"
   ]
  },
  {
   "cell_type": "code",
   "execution_count": null,
   "metadata": {},
   "outputs": [],
   "source": [
    "QUALITY_K = 0"
   ]
  },
  {
   "cell_type": "markdown",
   "metadata": {},
   "source": [
    "### L - Total of data quality problem cases\n",
    "\n",
    "Count of cases impacted by one or more of I to K that we denote DS0. Since cases may contain more than one problem this need not be the sum of I to K."
   ]
  },
  {
   "cell_type": "code",
   "execution_count": null,
   "metadata": {},
   "outputs": [],
   "source": [
    "QUALITY_L = 0"
   ]
  },
  {
   "cell_type": "markdown",
   "metadata": {},
   "source": [
    "### M - Total problem cases according to [6]\n",
    "\n",
    "Count of cases impacted by one or more of G to K denoted DS"
   ]
  },
  {
   "cell_type": "code",
   "execution_count": null,
   "metadata": {},
   "outputs": [],
   "source": [
    "QUALITY_M = 0"
   ]
  }
 ],
 "metadata": {
  "kernelspec": {
   "display_name": "base",
   "language": "python",
   "name": "python3"
  },
  "language_info": {
   "codemirror_mode": {
    "name": "ipython",
    "version": 3
   },
   "file_extension": ".py",
   "mimetype": "text/x-python",
   "name": "python",
   "nbconvert_exporter": "python",
   "pygments_lexer": "ipython3",
   "version": "3.11.5"
  }
 },
 "nbformat": 4,
 "nbformat_minor": 2
}
