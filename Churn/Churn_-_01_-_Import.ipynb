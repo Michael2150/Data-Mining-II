{
 "cells": [
  {
   "cell_type": "markdown",
   "id": "68752ef6b533e068",
   "metadata": {},
   "source": [
    "# Churn - 01 - Import\n",
    "\n",
    "## Setup"
   ]
  },
  {
   "cell_type": "code",
   "execution_count": 15,
   "id": "initial_id",
   "metadata": {
    "collapsed": true,
    "ExecuteTime": {
     "end_time": "2024-01-31T16:46:03.326674800Z",
     "start_time": "2024-01-31T16:46:03.271524800Z"
    }
   },
   "outputs": [],
   "source": [
    "import numpy as np\n",
    "import pandas as pd\n",
    "import matplotlib.pyplot as plt\n",
    "import seaborn as sns\n",
    "from scipy import stats\n",
    "import yaml\n",
    "\n",
    "pd.set_option('display.max_columns', None)\n",
    "pd.set_option('display.width', 1000)\n",
    "# pd.set_option('display.max_rows', None)\n",
    "\n",
    "sns.set_style(\"darkgrid\")\n",
    "\n",
    "from IPython.display import display, Markdown\n",
    "from pprint import pprint \n",
    "\n",
    "DEBUG = True\n",
    "SEED = 666"
   ]
  },
  {
   "cell_type": "code",
   "execution_count": 16,
   "id": "e14577343c1f65c6",
   "metadata": {
    "ExecuteTime": {
     "end_time": "2024-01-31T16:46:03.368468700Z",
     "start_time": "2024-01-31T16:46:03.338633400Z"
    }
   },
   "outputs": [],
   "source": [
    "DATASET = \"Churn\"\n",
    "\n",
    "import os, sys\n",
    "COLAB = 'google.colab' in sys.modules\n",
    "ROOT = \"./\"\n",
    "\n",
    "if COLAB:\n",
    "  from google.colab import drive\n",
    "  if not os.path.isdir(\"/content/gdrive\"):\n",
    "    drive.mount(\"/content/gdrive\")\n",
    "    d = \"/content/gdrive/MyDrive/datasets\"\n",
    "    if not os.path.isdir(ROOT+d): os.makedirs(ROOT+d)\n",
    "  ROOT = f\"/content/gdrive/MyDrive/datasets/{DATASET.replace(' ','_')}/\"\n",
    "  if not os.path.isdir(ROOT): os.makedirs(ROOT)\n",
    "\n",
    "\n",
    "def makedirs(d):\n",
    "  if COLAB:\n",
    "    if not os.path.isdir(ROOT+d): os.makedirs(ROOT+d)\n",
    "  else:\n",
    "    if not os.path.isdir(ROOT+d): os.makedirs(ROOT+d, mode=0o777, exist_ok=True)\n",
    "\n",
    "for d in ['orig','data','output']: makedirs(d)"
   ]
  },
  {
   "cell_type": "markdown",
   "id": "f0be4afa6e62ac3d",
   "metadata": {},
   "source": [
    "## Dataset"
   ]
  },
  {
   "cell_type": "code",
   "execution_count": 17,
   "id": "d88063ce2dcc025",
   "metadata": {
    "ExecuteTime": {
     "end_time": "2024-01-31T16:46:03.428010Z",
     "start_time": "2024-01-31T16:46:03.378534300Z"
    }
   },
   "outputs": [
    {
     "name": "stdout",
     "output_type": "stream",
     "text": [
      "Using local copy of data.csv\n",
      "Using local copy of datasheet.yaml\n"
     ]
    }
   ],
   "source": [
    "BASE_URL = \"https://SETU-DataMining2.github.io/live/resources/churn\"\n",
    "\n",
    "for filename in ['data.csv','datasheet.yaml']:\n",
    "  source = f\"{BASE_URL}/{filename}\"\n",
    "  target = f\"{ROOT}/orig/{filename}\"\n",
    "\n",
    "  if not os.path.isfile(target):\n",
    "    print (f\"Downloading remote file {filename}\", sep=\"\")\n",
    "    import urllib.request\n",
    "    urllib.request.urlretrieve(source, target)\n",
    "  else:\n",
    "    print(f\"Using local copy of {filename}\")"
   ]
  },
  {
   "cell_type": "markdown",
   "id": "847447997a901e0e",
   "metadata": {},
   "source": [
    "## Import\n",
    "\n",
    "Standardise columns names.\n",
    "Check for missing values.\n",
    "I have used the datasheet to convert some of the labels to text you have the rest.\n",
    "Convert variables to more appropriate datatype, to simplify EDA.\n",
    "Save cleaned files to data subfolder (using pickle format)."
   ]
  },
  {
   "cell_type": "markdown",
   "id": "efc8443dadc2a6c2",
   "metadata": {},
   "source": [
    "### Comments\n",
    "\n",
    "* Fix missing values in `TotalCharges` and replacing with NaN\n",
    "* `TotalCharges` is object, should be float\n",
    "* `SeniorSitizen` is int, should be bool\n",
    "* `customerID` is a unique identifier, should be index\n",
    "* Convert all object columns to category"
   ]
  },
  {
   "cell_type": "code",
   "execution_count": 18,
   "id": "53f48dc8631f9db1",
   "metadata": {
    "ExecuteTime": {
     "end_time": "2024-01-31T16:46:03.517334200Z",
     "start_time": "2024-01-31T16:46:03.391436500Z"
    }
   },
   "outputs": [
    {
     "name": "stdout",
     "output_type": "stream",
     "text": [
      "(7043, 21)\n"
     ]
    },
    {
     "data": {
      "text/plain": "   customerID  gender  SeniorCitizen Partner Dependents  tenure PhoneService MultipleLines InternetService OnlineSecurity OnlineBackup DeviceProtection TechSupport StreamingTV StreamingMovies        Contract PaperlessBilling              PaymentMethod  MonthlyCharges TotalCharges Churn\n0           1  Female              0     Yes         No       1           No            No             DSL             No          Yes               No          No          No              No  Month-to-month              Yes           Electronic check           29.85        29.85    No\n1           2    Male              0      No         No      34          Yes            No             DSL            Yes           No              Yes          No          No              No        One year               No               Mailed check           56.95       1889.5    No\n2           3    Male              0      No         No       2          Yes            No             DSL            Yes          Yes               No          No          No              No  Month-to-month              Yes               Mailed check           53.85       108.15   Yes\n3           4    Male              0      No         No      45           No            No             DSL            Yes           No              Yes         Yes          No              No        One year               No  Bank transfer (automatic)           42.30      1840.75    No\n4           5  Female              0      No         No       2          Yes            No     Fiber optic             No           No               No          No          No              No  Month-to-month              Yes           Electronic check           70.70       151.65   Yes",
      "text/html": "<div>\n<style scoped>\n    .dataframe tbody tr th:only-of-type {\n        vertical-align: middle;\n    }\n\n    .dataframe tbody tr th {\n        vertical-align: top;\n    }\n\n    .dataframe thead th {\n        text-align: right;\n    }\n</style>\n<table border=\"1\" class=\"dataframe\">\n  <thead>\n    <tr style=\"text-align: right;\">\n      <th></th>\n      <th>customerID</th>\n      <th>gender</th>\n      <th>SeniorCitizen</th>\n      <th>Partner</th>\n      <th>Dependents</th>\n      <th>tenure</th>\n      <th>PhoneService</th>\n      <th>MultipleLines</th>\n      <th>InternetService</th>\n      <th>OnlineSecurity</th>\n      <th>OnlineBackup</th>\n      <th>DeviceProtection</th>\n      <th>TechSupport</th>\n      <th>StreamingTV</th>\n      <th>StreamingMovies</th>\n      <th>Contract</th>\n      <th>PaperlessBilling</th>\n      <th>PaymentMethod</th>\n      <th>MonthlyCharges</th>\n      <th>TotalCharges</th>\n      <th>Churn</th>\n    </tr>\n  </thead>\n  <tbody>\n    <tr>\n      <th>0</th>\n      <td>1</td>\n      <td>Female</td>\n      <td>0</td>\n      <td>Yes</td>\n      <td>No</td>\n      <td>1</td>\n      <td>No</td>\n      <td>No</td>\n      <td>DSL</td>\n      <td>No</td>\n      <td>Yes</td>\n      <td>No</td>\n      <td>No</td>\n      <td>No</td>\n      <td>No</td>\n      <td>Month-to-month</td>\n      <td>Yes</td>\n      <td>Electronic check</td>\n      <td>29.85</td>\n      <td>29.85</td>\n      <td>No</td>\n    </tr>\n    <tr>\n      <th>1</th>\n      <td>2</td>\n      <td>Male</td>\n      <td>0</td>\n      <td>No</td>\n      <td>No</td>\n      <td>34</td>\n      <td>Yes</td>\n      <td>No</td>\n      <td>DSL</td>\n      <td>Yes</td>\n      <td>No</td>\n      <td>Yes</td>\n      <td>No</td>\n      <td>No</td>\n      <td>No</td>\n      <td>One year</td>\n      <td>No</td>\n      <td>Mailed check</td>\n      <td>56.95</td>\n      <td>1889.5</td>\n      <td>No</td>\n    </tr>\n    <tr>\n      <th>2</th>\n      <td>3</td>\n      <td>Male</td>\n      <td>0</td>\n      <td>No</td>\n      <td>No</td>\n      <td>2</td>\n      <td>Yes</td>\n      <td>No</td>\n      <td>DSL</td>\n      <td>Yes</td>\n      <td>Yes</td>\n      <td>No</td>\n      <td>No</td>\n      <td>No</td>\n      <td>No</td>\n      <td>Month-to-month</td>\n      <td>Yes</td>\n      <td>Mailed check</td>\n      <td>53.85</td>\n      <td>108.15</td>\n      <td>Yes</td>\n    </tr>\n    <tr>\n      <th>3</th>\n      <td>4</td>\n      <td>Male</td>\n      <td>0</td>\n      <td>No</td>\n      <td>No</td>\n      <td>45</td>\n      <td>No</td>\n      <td>No</td>\n      <td>DSL</td>\n      <td>Yes</td>\n      <td>No</td>\n      <td>Yes</td>\n      <td>Yes</td>\n      <td>No</td>\n      <td>No</td>\n      <td>One year</td>\n      <td>No</td>\n      <td>Bank transfer (automatic)</td>\n      <td>42.30</td>\n      <td>1840.75</td>\n      <td>No</td>\n    </tr>\n    <tr>\n      <th>4</th>\n      <td>5</td>\n      <td>Female</td>\n      <td>0</td>\n      <td>No</td>\n      <td>No</td>\n      <td>2</td>\n      <td>Yes</td>\n      <td>No</td>\n      <td>Fiber optic</td>\n      <td>No</td>\n      <td>No</td>\n      <td>No</td>\n      <td>No</td>\n      <td>No</td>\n      <td>No</td>\n      <td>Month-to-month</td>\n      <td>Yes</td>\n      <td>Electronic check</td>\n      <td>70.70</td>\n      <td>151.65</td>\n      <td>Yes</td>\n    </tr>\n  </tbody>\n</table>\n</div>"
     },
     "execution_count": 18,
     "metadata": {},
     "output_type": "execute_result"
    }
   ],
   "source": [
    "df = pd.read_csv(ROOT+\"orig/data.csv\")\n",
    "print(df.shape)\n",
    "df.head(5)"
   ]
  },
  {
   "cell_type": "code",
   "execution_count": 19,
   "id": "e0a080965e220419",
   "metadata": {
    "ExecuteTime": {
     "end_time": "2024-01-31T16:46:03.590947100Z",
     "start_time": "2024-01-31T16:46:03.454732Z"
    }
   },
   "outputs": [
    {
     "data": {
      "text/plain": "   Customerid  Gender  Seniorcitizen Partner Dependents  Tenure Phoneservice Multiplelines Internetservice Onlinesecurity Onlinebackup Deviceprotection Techsupport Streamingtv Streamingmovies        Contract Paperlessbilling     Paymentmethod  Monthlycharges Totalcharges Churn\n0           1  Female              0     Yes         No       1           No            No             DSL             No          Yes               No          No          No              No  Month-to-month              Yes  Electronic check           29.85        29.85    No",
      "text/html": "<div>\n<style scoped>\n    .dataframe tbody tr th:only-of-type {\n        vertical-align: middle;\n    }\n\n    .dataframe tbody tr th {\n        vertical-align: top;\n    }\n\n    .dataframe thead th {\n        text-align: right;\n    }\n</style>\n<table border=\"1\" class=\"dataframe\">\n  <thead>\n    <tr style=\"text-align: right;\">\n      <th></th>\n      <th>Customerid</th>\n      <th>Gender</th>\n      <th>Seniorcitizen</th>\n      <th>Partner</th>\n      <th>Dependents</th>\n      <th>Tenure</th>\n      <th>Phoneservice</th>\n      <th>Multiplelines</th>\n      <th>Internetservice</th>\n      <th>Onlinesecurity</th>\n      <th>Onlinebackup</th>\n      <th>Deviceprotection</th>\n      <th>Techsupport</th>\n      <th>Streamingtv</th>\n      <th>Streamingmovies</th>\n      <th>Contract</th>\n      <th>Paperlessbilling</th>\n      <th>Paymentmethod</th>\n      <th>Monthlycharges</th>\n      <th>Totalcharges</th>\n      <th>Churn</th>\n    </tr>\n  </thead>\n  <tbody>\n    <tr>\n      <th>0</th>\n      <td>1</td>\n      <td>Female</td>\n      <td>0</td>\n      <td>Yes</td>\n      <td>No</td>\n      <td>1</td>\n      <td>No</td>\n      <td>No</td>\n      <td>DSL</td>\n      <td>No</td>\n      <td>Yes</td>\n      <td>No</td>\n      <td>No</td>\n      <td>No</td>\n      <td>No</td>\n      <td>Month-to-month</td>\n      <td>Yes</td>\n      <td>Electronic check</td>\n      <td>29.85</td>\n      <td>29.85</td>\n      <td>No</td>\n    </tr>\n  </tbody>\n</table>\n</div>"
     },
     "execution_count": 19,
     "metadata": {},
     "output_type": "execute_result"
    }
   ],
   "source": [
    "for col in df.columns:\n",
    "  df.rename(columns={col:col.capitalize()}, inplace=True)\n",
    "df.head(1)"
   ]
  },
  {
   "cell_type": "markdown",
   "id": "6671b41c28edfec6",
   "metadata": {},
   "source": [
    "## Correct data types"
   ]
  },
  {
   "cell_type": "markdown",
   "source": [
    "### Functions"
   ],
   "metadata": {
    "collapsed": false
   },
   "id": "2a3920d4a0c43089"
  },
  {
   "cell_type": "code",
   "execution_count": 20,
   "id": "79f0abe4e47fc036",
   "metadata": {
    "ExecuteTime": {
     "end_time": "2024-01-31T16:46:03.591981900Z",
     "start_time": "2024-01-31T16:46:03.497214700Z"
    }
   },
   "outputs": [],
   "source": [
    "def categorize(data, col_to_categorize, cols_order=None):\n",
    "  display(Markdown(f\"### {col_to_categorize}\"))\n",
    "  if data[col_to_categorize].dtype == \"O\":\n",
    "    print(f\"Converting {col_to_categorize} to category from {data[col_to_categorize].dtype}\")\n",
    "    if cols_order is None:\n",
    "      data[col_to_categorize] = pd.Categorical(data[col_to_categorize])\n",
    "    else:\n",
    "      data[col_to_categorize] = pd.Categorical(data[col_to_categorize], categories=cols_order, ordered=True)\n",
    "  print(f\"{col_to_categorize} is {data[col_to_categorize].dtype}\")\n",
    "  pprint(data[col_to_categorize].value_counts(dropna=False))\n",
    "  return data"
   ]
  },
  {
   "cell_type": "markdown",
   "source": [
    "### Special cases"
   ],
   "metadata": {
    "collapsed": false
   },
   "id": "ea4e4e0befd29b5d"
  },
  {
   "cell_type": "code",
   "execution_count": 21,
   "id": "94454d127e0d07fe",
   "metadata": {
    "ExecuteTime": {
     "end_time": "2024-01-31T16:46:03.615700100Z",
     "start_time": "2024-01-31T16:46:03.531621100Z"
    }
   },
   "outputs": [],
   "source": [
    "df.Seniorcitizen = df.Seniorcitizen.map({0:\"Yes\", 1:\"No\", \"No\":\"No\", \"Yes\":\"Yes\"})"
   ]
  },
  {
   "cell_type": "code",
   "outputs": [],
   "source": [
    "df.loc[df.Totalcharges==\" \", \"Totalcharges\"] = np.nan\n",
    "df.Totalcharges = df.Totalcharges.astype(float)"
   ],
   "metadata": {
    "collapsed": false,
    "ExecuteTime": {
     "end_time": "2024-01-31T16:46:03.769278600Z",
     "start_time": "2024-01-31T16:46:03.602883800Z"
    }
   },
   "id": "5f161bf57c3b02b0",
   "execution_count": 22
  },
  {
   "cell_type": "code",
   "outputs": [
    {
     "data": {
      "text/plain": "<IPython.core.display.Markdown object>",
      "text/markdown": "### Contract"
     },
     "metadata": {},
     "output_type": "display_data"
    },
    {
     "name": "stdout",
     "output_type": "stream",
     "text": [
      "Converting Contract to category from object\n",
      "Contract is category\n",
      "Month-to-month    3875\n",
      "Two year          1695\n",
      "One year          1473\n",
      "Name: Contract, dtype: int64\n"
     ]
    }
   ],
   "source": [
    "df = categorize(df, \"Contract\", [\"Month-to-month\", \"One year\", \"Two year\"])"
   ],
   "metadata": {
    "collapsed": false,
    "ExecuteTime": {
     "end_time": "2024-01-31T16:46:03.922120500Z",
     "start_time": "2024-01-31T16:46:03.724659800Z"
    }
   },
   "id": "57d7afaaa122e2b4",
   "execution_count": 23
  },
  {
   "cell_type": "markdown",
   "source": [
    "### All columns"
   ],
   "metadata": {
    "collapsed": false
   },
   "id": "e8e7b8ae0ffc8722"
  },
  {
   "cell_type": "code",
   "execution_count": 24,
   "id": "b06b684fddae6dfb",
   "metadata": {
    "ExecuteTime": {
     "end_time": "2024-01-31T16:46:04.238693700Z",
     "start_time": "2024-01-31T16:46:03.929897800Z"
    }
   },
   "outputs": [
    {
     "data": {
      "text/plain": "<IPython.core.display.Markdown object>",
      "text/markdown": "### Gender"
     },
     "metadata": {},
     "output_type": "display_data"
    },
    {
     "name": "stdout",
     "output_type": "stream",
     "text": [
      "Converting Gender to category from object\n",
      "Gender is category\n",
      "Male      3555\n",
      "Female    3488\n",
      "Name: Gender, dtype: int64\n"
     ]
    },
    {
     "data": {
      "text/plain": "<IPython.core.display.Markdown object>",
      "text/markdown": "### Seniorcitizen"
     },
     "metadata": {},
     "output_type": "display_data"
    },
    {
     "name": "stdout",
     "output_type": "stream",
     "text": [
      "Converting Seniorcitizen to category from object\n",
      "Seniorcitizen is category\n",
      "Yes    5901\n",
      "No     1142\n",
      "Name: Seniorcitizen, dtype: int64\n"
     ]
    },
    {
     "data": {
      "text/plain": "<IPython.core.display.Markdown object>",
      "text/markdown": "### Partner"
     },
     "metadata": {},
     "output_type": "display_data"
    },
    {
     "name": "stdout",
     "output_type": "stream",
     "text": [
      "Converting Partner to category from object\n",
      "Partner is category\n",
      "No     3641\n",
      "Yes    3402\n",
      "Name: Partner, dtype: int64\n"
     ]
    },
    {
     "data": {
      "text/plain": "<IPython.core.display.Markdown object>",
      "text/markdown": "### Dependents"
     },
     "metadata": {},
     "output_type": "display_data"
    },
    {
     "name": "stdout",
     "output_type": "stream",
     "text": [
      "Converting Dependents to category from object\n",
      "Dependents is category\n",
      "No     4933\n",
      "Yes    2110\n",
      "Name: Dependents, dtype: int64\n"
     ]
    },
    {
     "data": {
      "text/plain": "<IPython.core.display.Markdown object>",
      "text/markdown": "### Phoneservice"
     },
     "metadata": {},
     "output_type": "display_data"
    },
    {
     "name": "stdout",
     "output_type": "stream",
     "text": [
      "Converting Phoneservice to category from object\n",
      "Phoneservice is category\n",
      "Yes    6361\n",
      "No      682\n",
      "Name: Phoneservice, dtype: int64\n"
     ]
    },
    {
     "data": {
      "text/plain": "<IPython.core.display.Markdown object>",
      "text/markdown": "### Multiplelines"
     },
     "metadata": {},
     "output_type": "display_data"
    },
    {
     "name": "stdout",
     "output_type": "stream",
     "text": [
      "Converting Multiplelines to category from object\n",
      "Multiplelines is category\n",
      "No     4072\n",
      "Yes    2971\n",
      "Name: Multiplelines, dtype: int64\n"
     ]
    },
    {
     "data": {
      "text/plain": "<IPython.core.display.Markdown object>",
      "text/markdown": "### Internetservice"
     },
     "metadata": {},
     "output_type": "display_data"
    },
    {
     "name": "stdout",
     "output_type": "stream",
     "text": [
      "Converting Internetservice to category from object\n",
      "Internetservice is category\n",
      "Fiber optic    3096\n",
      "DSL            2421\n",
      "No             1526\n",
      "Name: Internetservice, dtype: int64\n"
     ]
    },
    {
     "data": {
      "text/plain": "<IPython.core.display.Markdown object>",
      "text/markdown": "### Onlinesecurity"
     },
     "metadata": {},
     "output_type": "display_data"
    },
    {
     "name": "stdout",
     "output_type": "stream",
     "text": [
      "Converting Onlinesecurity to category from object\n",
      "Onlinesecurity is category\n",
      "No     5024\n",
      "Yes    2019\n",
      "Name: Onlinesecurity, dtype: int64\n"
     ]
    },
    {
     "data": {
      "text/plain": "<IPython.core.display.Markdown object>",
      "text/markdown": "### Onlinebackup"
     },
     "metadata": {},
     "output_type": "display_data"
    },
    {
     "name": "stdout",
     "output_type": "stream",
     "text": [
      "Converting Onlinebackup to category from object\n",
      "Onlinebackup is category\n",
      "No     4614\n",
      "Yes    2429\n",
      "Name: Onlinebackup, dtype: int64\n"
     ]
    },
    {
     "data": {
      "text/plain": "<IPython.core.display.Markdown object>",
      "text/markdown": "### Deviceprotection"
     },
     "metadata": {},
     "output_type": "display_data"
    },
    {
     "name": "stdout",
     "output_type": "stream",
     "text": [
      "Converting Deviceprotection to category from object\n",
      "Deviceprotection is category\n",
      "No     4621\n",
      "Yes    2422\n",
      "Name: Deviceprotection, dtype: int64\n"
     ]
    },
    {
     "data": {
      "text/plain": "<IPython.core.display.Markdown object>",
      "text/markdown": "### Techsupport"
     },
     "metadata": {},
     "output_type": "display_data"
    },
    {
     "name": "stdout",
     "output_type": "stream",
     "text": [
      "Converting Techsupport to category from object\n",
      "Techsupport is category\n",
      "No     4999\n",
      "Yes    2044\n",
      "Name: Techsupport, dtype: int64\n"
     ]
    },
    {
     "data": {
      "text/plain": "<IPython.core.display.Markdown object>",
      "text/markdown": "### Streamingtv"
     },
     "metadata": {},
     "output_type": "display_data"
    },
    {
     "name": "stdout",
     "output_type": "stream",
     "text": [
      "Converting Streamingtv to category from object\n",
      "Streamingtv is category\n",
      "No     4336\n",
      "Yes    2707\n",
      "Name: Streamingtv, dtype: int64\n"
     ]
    },
    {
     "data": {
      "text/plain": "<IPython.core.display.Markdown object>",
      "text/markdown": "### Streamingmovies"
     },
     "metadata": {},
     "output_type": "display_data"
    },
    {
     "name": "stdout",
     "output_type": "stream",
     "text": [
      "Converting Streamingmovies to category from object\n",
      "Streamingmovies is category\n",
      "No     4311\n",
      "Yes    2732\n",
      "Name: Streamingmovies, dtype: int64\n"
     ]
    },
    {
     "data": {
      "text/plain": "<IPython.core.display.Markdown object>",
      "text/markdown": "### Paperlessbilling"
     },
     "metadata": {},
     "output_type": "display_data"
    },
    {
     "name": "stdout",
     "output_type": "stream",
     "text": [
      "Converting Paperlessbilling to category from object\n",
      "Paperlessbilling is category\n",
      "Yes    4171\n",
      "No     2872\n",
      "Name: Paperlessbilling, dtype: int64\n"
     ]
    },
    {
     "data": {
      "text/plain": "<IPython.core.display.Markdown object>",
      "text/markdown": "### Paymentmethod"
     },
     "metadata": {},
     "output_type": "display_data"
    },
    {
     "name": "stdout",
     "output_type": "stream",
     "text": [
      "Converting Paymentmethod to category from object\n",
      "Paymentmethod is category\n",
      "Electronic check             2365\n",
      "Mailed check                 1612\n",
      "Bank transfer (automatic)    1544\n",
      "Credit card (automatic)      1522\n",
      "Name: Paymentmethod, dtype: int64\n"
     ]
    },
    {
     "data": {
      "text/plain": "<IPython.core.display.Markdown object>",
      "text/markdown": "### Churn"
     },
     "metadata": {},
     "output_type": "display_data"
    },
    {
     "name": "stdout",
     "output_type": "stream",
     "text": [
      "Converting Churn to category from object\n",
      "Churn is category\n",
      "No     5174\n",
      "Yes    1869\n",
      "Name: Churn, dtype: int64\n"
     ]
    }
   ],
   "source": [
    "for col in df.columns:\n",
    "  if df[col].dtype == \"O\":\n",
    "    df = categorize(df, col)"
   ]
  },
  {
   "cell_type": "code",
   "outputs": [],
   "source": [
    "if \"Customerid\" in df.columns:\n",
    "  df.drop(columns=[\"Customerid\"], inplace=True)"
   ],
   "metadata": {
    "collapsed": false,
    "ExecuteTime": {
     "end_time": "2024-01-31T16:46:04.280136900Z",
     "start_time": "2024-01-31T16:46:04.081559200Z"
    }
   },
   "id": "95340b3745fc395f",
   "execution_count": 25
  },
  {
   "cell_type": "markdown",
   "source": [
    "## Output"
   ],
   "metadata": {
    "collapsed": false
   },
   "id": "1e504508323121fe"
  },
  {
   "cell_type": "code",
   "execution_count": 26,
   "id": "385b0165c1aa2da4",
   "metadata": {
    "ExecuteTime": {
     "end_time": "2024-01-31T16:46:04.700631Z",
     "start_time": "2024-01-31T16:46:04.250702600Z"
    }
   },
   "outputs": [],
   "source": [
    "df.to_pickle(ROOT+\"data/data.pkl\")\n"
   ]
  },
  {
   "cell_type": "markdown",
   "source": [],
   "metadata": {
    "collapsed": false
   },
   "id": "5f733c2875e865a"
  }
 ],
 "metadata": {
  "kernelspec": {
   "display_name": "Python 3 (ipykernel)",
   "language": "python",
   "name": "python3"
  },
  "language_info": {
   "codemirror_mode": {
    "name": "ipython",
    "version": 3
   },
   "file_extension": ".py",
   "mimetype": "text/x-python",
   "name": "python",
   "nbconvert_exporter": "python",
   "pygments_lexer": "ipython3",
   "version": "3.11.4"
  }
 },
 "nbformat": 4,
 "nbformat_minor": 5
}
