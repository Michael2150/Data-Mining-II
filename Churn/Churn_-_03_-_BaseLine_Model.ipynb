{
 "cells": [
  {
   "cell_type": "markdown",
   "source": [
    "# Churn - 03 - Model Building\n",
    "\n",
    "## Setup"
   ],
   "metadata": {
    "collapsed": false
   },
   "id": "68752ef6b533e068"
  },
  {
   "cell_type": "code",
   "execution_count": 158,
   "id": "initial_id",
   "metadata": {
    "collapsed": true,
    "ExecuteTime": {
     "end_time": "2024-02-07T16:39:57.835572600Z",
     "start_time": "2024-02-07T16:39:57.417579Z"
    }
   },
   "outputs": [],
   "source": [
    "import numpy as np\n",
    "import pandas as pd\n",
    "import matplotlib.pyplot as plt\n",
    "import seaborn as sns\n",
    "from scipy import stats\n",
    "import yaml\n",
    "\n",
    "pd.set_option('display.max_columns', None)\n",
    "pd.set_option('display.width', 1000)\n",
    "# pd.set_option('display.max_rows', None)\n",
    "\n",
    "sns.set_style(\"darkgrid\")\n",
    "\n",
    "from IPython.display import display, Markdown\n",
    "from pprint import pprint \n",
    "\n",
    "DEBUG = True\n",
    "SEED = 666"
   ]
  },
  {
   "cell_type": "code",
   "outputs": [],
   "source": [
    "DATASET = \"[Dataset name]\"\n",
    "\n",
    "import os, sys\n",
    "COLAB = 'google.colab' in sys.modules\n",
    "ROOT = \"./\"\n",
    "\n",
    "if COLAB:\n",
    "  from google.colab import drive\n",
    "  if not os.path.isdir(\"/content/gdrive\"):\n",
    "    drive.mount(\"/content/gdrive\")\n",
    "    d = \"/content/gdrive/MyDrive/datasets\"\n",
    "    if not os.path.isdir(ROOT+d): os.makedirs(ROOT+d)\n",
    "  ROOT = f\"/content/gdrive/MyDrive/datasets/{DATASET.replace(' ','_')}/\"\n",
    "  if not os.path.isdir(ROOT): os.makedirs(ROOT)\n",
    "\n",
    "\n",
    "def makedirs(d):\n",
    "  if COLAB:\n",
    "    if not os.path.isdir(ROOT+d): os.makedirs(ROOT+d)\n",
    "  else:\n",
    "    if not os.path.isdir(ROOT+d): os.makedirs(ROOT+d, mode=0o777, exist_ok=True)\n",
    "\n",
    "for d in ['orig','data','output']: makedirs(d)"
   ],
   "metadata": {
    "collapsed": false,
    "ExecuteTime": {
     "end_time": "2024-02-07T16:39:57.931321400Z",
     "start_time": "2024-02-07T16:39:57.842591700Z"
    }
   },
   "id": "e14577343c1f65c6",
   "execution_count": 159
  },
  {
   "cell_type": "markdown",
   "source": [
    "## Load data"
   ],
   "metadata": {
    "collapsed": false
   },
   "id": "f1aed39e03bedba5"
  },
  {
   "cell_type": "code",
   "outputs": [
    {
     "name": "stdout",
     "output_type": "stream",
     "text": [
      "(7043, 20)\n"
     ]
    },
    {
     "data": {
      "text/plain": "   Gender Seniorcitizen Partner Dependents  Tenure Phoneservice Multiplelines Internetservice Onlinesecurity Onlinebackup Deviceprotection Techsupport Streamingtv Streamingmovies        Contract Paperlessbilling              Paymentmethod  Monthlycharges  Totalcharges Churn\n0  Female           Yes     Yes         No       1           No            No             DSL             No          Yes               No          No          No              No  Month-to-month              Yes           Electronic check           29.85         29.85    No\n1    Male           Yes      No         No      34          Yes            No             DSL            Yes           No              Yes          No          No              No        One year               No               Mailed check           56.95       1889.50    No\n2    Male           Yes      No         No       2          Yes            No             DSL            Yes          Yes               No          No          No              No  Month-to-month              Yes               Mailed check           53.85        108.15   Yes\n3    Male           Yes      No         No      45           No            No             DSL            Yes           No              Yes         Yes          No              No        One year               No  Bank transfer (automatic)           42.30       1840.75    No\n4  Female           Yes      No         No       2          Yes            No     Fiber optic             No           No               No          No          No              No  Month-to-month              Yes           Electronic check           70.70        151.65   Yes",
      "text/html": "<div>\n<style scoped>\n    .dataframe tbody tr th:only-of-type {\n        vertical-align: middle;\n    }\n\n    .dataframe tbody tr th {\n        vertical-align: top;\n    }\n\n    .dataframe thead th {\n        text-align: right;\n    }\n</style>\n<table border=\"1\" class=\"dataframe\">\n  <thead>\n    <tr style=\"text-align: right;\">\n      <th></th>\n      <th>Gender</th>\n      <th>Seniorcitizen</th>\n      <th>Partner</th>\n      <th>Dependents</th>\n      <th>Tenure</th>\n      <th>Phoneservice</th>\n      <th>Multiplelines</th>\n      <th>Internetservice</th>\n      <th>Onlinesecurity</th>\n      <th>Onlinebackup</th>\n      <th>Deviceprotection</th>\n      <th>Techsupport</th>\n      <th>Streamingtv</th>\n      <th>Streamingmovies</th>\n      <th>Contract</th>\n      <th>Paperlessbilling</th>\n      <th>Paymentmethod</th>\n      <th>Monthlycharges</th>\n      <th>Totalcharges</th>\n      <th>Churn</th>\n    </tr>\n  </thead>\n  <tbody>\n    <tr>\n      <th>0</th>\n      <td>Female</td>\n      <td>Yes</td>\n      <td>Yes</td>\n      <td>No</td>\n      <td>1</td>\n      <td>No</td>\n      <td>No</td>\n      <td>DSL</td>\n      <td>No</td>\n      <td>Yes</td>\n      <td>No</td>\n      <td>No</td>\n      <td>No</td>\n      <td>No</td>\n      <td>Month-to-month</td>\n      <td>Yes</td>\n      <td>Electronic check</td>\n      <td>29.85</td>\n      <td>29.85</td>\n      <td>No</td>\n    </tr>\n    <tr>\n      <th>1</th>\n      <td>Male</td>\n      <td>Yes</td>\n      <td>No</td>\n      <td>No</td>\n      <td>34</td>\n      <td>Yes</td>\n      <td>No</td>\n      <td>DSL</td>\n      <td>Yes</td>\n      <td>No</td>\n      <td>Yes</td>\n      <td>No</td>\n      <td>No</td>\n      <td>No</td>\n      <td>One year</td>\n      <td>No</td>\n      <td>Mailed check</td>\n      <td>56.95</td>\n      <td>1889.50</td>\n      <td>No</td>\n    </tr>\n    <tr>\n      <th>2</th>\n      <td>Male</td>\n      <td>Yes</td>\n      <td>No</td>\n      <td>No</td>\n      <td>2</td>\n      <td>Yes</td>\n      <td>No</td>\n      <td>DSL</td>\n      <td>Yes</td>\n      <td>Yes</td>\n      <td>No</td>\n      <td>No</td>\n      <td>No</td>\n      <td>No</td>\n      <td>Month-to-month</td>\n      <td>Yes</td>\n      <td>Mailed check</td>\n      <td>53.85</td>\n      <td>108.15</td>\n      <td>Yes</td>\n    </tr>\n    <tr>\n      <th>3</th>\n      <td>Male</td>\n      <td>Yes</td>\n      <td>No</td>\n      <td>No</td>\n      <td>45</td>\n      <td>No</td>\n      <td>No</td>\n      <td>DSL</td>\n      <td>Yes</td>\n      <td>No</td>\n      <td>Yes</td>\n      <td>Yes</td>\n      <td>No</td>\n      <td>No</td>\n      <td>One year</td>\n      <td>No</td>\n      <td>Bank transfer (automatic)</td>\n      <td>42.30</td>\n      <td>1840.75</td>\n      <td>No</td>\n    </tr>\n    <tr>\n      <th>4</th>\n      <td>Female</td>\n      <td>Yes</td>\n      <td>No</td>\n      <td>No</td>\n      <td>2</td>\n      <td>Yes</td>\n      <td>No</td>\n      <td>Fiber optic</td>\n      <td>No</td>\n      <td>No</td>\n      <td>No</td>\n      <td>No</td>\n      <td>No</td>\n      <td>No</td>\n      <td>Month-to-month</td>\n      <td>Yes</td>\n      <td>Electronic check</td>\n      <td>70.70</td>\n      <td>151.65</td>\n      <td>Yes</td>\n    </tr>\n  </tbody>\n</table>\n</div>"
     },
     "execution_count": 160,
     "metadata": {},
     "output_type": "execute_result"
    }
   ],
   "source": [
    "df = pd.read_pickle(ROOT+\"data/data.pkl\")\n",
    "print(df.shape)\n",
    "df.head()"
   ],
   "metadata": {
    "collapsed": false,
    "ExecuteTime": {
     "end_time": "2024-02-07T16:39:58.101458700Z",
     "start_time": "2024-02-07T16:39:57.936527500Z"
    }
   },
   "id": "894656eec2f0ec05",
   "execution_count": 160
  },
  {
   "cell_type": "markdown",
   "source": [
    "## Preprocessing\n",
    "\n",
    "+ Impute missing values\n",
    "+ Identify target and feature groups (cat and num)\n",
    "+ train(+validation)+test split\n",
    "+ preprocessing cat features\n",
    "+ preprocessing num features"
   ],
   "metadata": {
    "collapsed": false
   },
   "id": "d0d88720db058d4d"
  },
  {
   "cell_type": "markdown",
   "source": [
    "### Impute missing values"
   ],
   "metadata": {
    "collapsed": false
   },
   "id": "9fe3f327a6f387d5"
  },
  {
   "cell_type": "markdown",
   "source": [
    "### Identify target and feature groups (cat and num)"
   ],
   "metadata": {
    "collapsed": false
   },
   "id": "5779de04acf2e619"
  },
  {
   "cell_type": "code",
   "outputs": [
    {
     "name": "stdout",
     "output_type": "stream",
     "text": [
      "target: Churn \n",
      "\n",
      "cat_features: ['Gender', 'Seniorcitizen', 'Partner', 'Dependents', 'Phoneservice', 'Multiplelines', 'Internetservice', 'Onlinesecurity', 'Onlinebackup', 'Deviceprotection', 'Techsupport', 'Streamingtv', 'Streamingmovies', 'Contract', 'Paperlessbilling', 'Paymentmethod'] \n",
      "\n",
      "num_features: ['Tenure', 'Monthlycharges', 'Totalcharges'] \n"
     ]
    }
   ],
   "source": [
    "target = \"Churn\"\n",
    "\n",
    "features = list(df.columns)\n",
    "\n",
    "if target in features: features.remove(target)\n",
    "cat_features = [f for f in features if f in df.select_dtypes(include='category').columns]\n",
    "num_features = [f for f in features if f not in cat_features]\n",
    "\n",
    "print(f\"target: {target} \\n\")\n",
    "print(f\"cat_features: {cat_features} \\n\")\n",
    "print(f\"num_features: {num_features} \\n\")"
   ],
   "metadata": {
    "collapsed": false,
    "ExecuteTime": {
     "end_time": "2024-02-07T16:39:58.176755Z",
     "start_time": "2024-02-07T16:39:58.068864300Z"
    }
   },
   "id": "179391e202432f54",
   "execution_count": 161
  },
  {
   "cell_type": "markdown",
   "source": [
    "### train(+validation)+test split"
   ],
   "metadata": {
    "collapsed": false
   },
   "id": "ad82b289fab712eb"
  },
  {
   "cell_type": "code",
   "outputs": [],
   "source": [
    "from sklearn.model_selection import train_test_split\n",
    "\n",
    "df_train, df_test = train_test_split(df, stratify=df.Churn, test_size=.30, random_state=SEED)"
   ],
   "metadata": {
    "collapsed": false,
    "ExecuteTime": {
     "end_time": "2024-02-07T16:39:58.364116Z",
     "start_time": "2024-02-07T16:39:58.146060400Z"
    }
   },
   "id": "586653de7ef8c118",
   "execution_count": 162
  },
  {
   "cell_type": "markdown",
   "source": [
    "### Encode Target"
   ],
   "metadata": {
    "collapsed": false
   },
   "id": "612081f5cbfbd06d"
  },
  {
   "cell_type": "code",
   "outputs": [
    {
     "data": {
      "text/plain": "array(['No', 'Yes'], dtype=object)"
     },
     "execution_count": 163,
     "metadata": {},
     "output_type": "execute_result"
    }
   ],
   "source": [
    "from sklearn.preprocessing import LabelEncoder\n",
    "le_target = LabelEncoder()\n",
    "\n",
    "le_target.fit(df_train[target])\n",
    "y_train = le_target.transform(df_train[target])\n",
    "y_test = le_target.transform(df_test[target])\n",
    "\n",
    "le_target.classes_\n",
    "\n",
    "# --- OR ---\n",
    "\n",
    "# y_train = le_target.fit_transform(df_train[target])\n",
    "# y_test = le_target.transform(df_test[target])\n",
    "\n",
    "# --- NEVER ---\n",
    "# It Fits twice, and it's not good\n",
    "\n",
    "# y_train = le_target.fit_transform(df_train[target])\n",
    "# y_test = le_target.fit_transform(df_test[target])"
   ],
   "metadata": {
    "collapsed": false,
    "ExecuteTime": {
     "end_time": "2024-02-07T16:39:58.432679200Z",
     "start_time": "2024-02-07T16:39:58.236039400Z"
    }
   },
   "id": "c637e69df86b1980",
   "execution_count": 163
  },
  {
   "cell_type": "code",
   "outputs": [
    {
     "name": "stdout",
     "output_type": "stream",
     "text": [
      "[[3622    0]\n",
      " [1308    0]]\n",
      "              precision    recall  f1-score   support\n",
      "\n",
      "           0       0.73      1.00      0.85      3622\n",
      "           1       1.00      0.00      0.00      1308\n",
      "\n",
      "    accuracy                           0.73      4930\n",
      "   macro avg       0.87      0.50      0.42      4930\n",
      "weighted avg       0.81      0.73      0.62      4930\n"
     ]
    }
   ],
   "source": [
    "y_pred = np.zeros_like(y_train)\n",
    "\n",
    "from sklearn.metrics import confusion_matrix, classification_report\n",
    "\n",
    "print(confusion_matrix(y_train, y_pred))\n",
    "print(classification_report(y_train, y_pred, zero_division=True))"
   ],
   "metadata": {
    "collapsed": false,
    "ExecuteTime": {
     "end_time": "2024-02-07T16:39:58.664788100Z",
     "start_time": "2024-02-07T16:39:58.415615700Z"
    }
   },
   "id": "39626587be26e865",
   "execution_count": 164
  },
  {
   "cell_type": "markdown",
   "source": [
    "### preprocessing cat features\n",
    "\n",
    "+ One hot encoding on all cat features"
   ],
   "metadata": {
    "collapsed": false
   },
   "id": "c5a2ad56281c8301"
  },
  {
   "cell_type": "code",
   "outputs": [],
   "source": [
    "from sklearn.preprocessing import OneHotEncoder\n",
    "\n",
    "ohe = OneHotEncoder()\n",
    "\n",
    "ohe.fit(df_train[cat_features]) \n",
    "\n",
    "X_cat_train = ohe.transform(df_train[cat_features])\n",
    "X_cat_test = ohe.transform(df_test[cat_features])"
   ],
   "metadata": {
    "collapsed": false,
    "ExecuteTime": {
     "end_time": "2024-02-07T16:39:58.862431300Z",
     "start_time": "2024-02-07T16:39:58.621275Z"
    }
   },
   "id": "ed240a1ea3ed890f",
   "execution_count": 165
  },
  {
   "cell_type": "code",
   "outputs": [
    {
     "name": "stdout",
     "output_type": "stream",
     "text": [
      "(4930, 36) (2113, 36)\n"
     ]
    }
   ],
   "source": [
    "df_cat_train = pd.DataFrame(X_cat_train.toarray(), columns=ohe.get_feature_names_out())\n",
    "df_cat_test = pd.DataFrame(X_cat_test.toarray(), columns=ohe.get_feature_names_out())\n",
    "print(df_cat_train.shape, df_cat_test.shape)"
   ],
   "metadata": {
    "collapsed": false,
    "ExecuteTime": {
     "end_time": "2024-02-07T16:39:58.914207800Z",
     "start_time": "2024-02-07T16:39:58.728946900Z"
    }
   },
   "id": "a176c98e6c97e9d7",
   "execution_count": 166
  },
  {
   "cell_type": "markdown",
   "source": [
    "### preprocessing num features\n",
    "\n",
    "+ Impute missing values\n",
    "    + TotalCharges is skewed, so we'll use mean \n",
    "+ Standardize all num features"
   ],
   "metadata": {
    "collapsed": false
   },
   "id": "b920f553fc79526a"
  },
  {
   "cell_type": "code",
   "outputs": [
    {
     "data": {
      "text/plain": "Tenure            0\nMonthlycharges    0\nTotalcharges      8\ndtype: int64"
     },
     "execution_count": 167,
     "metadata": {},
     "output_type": "execute_result"
    }
   ],
   "source": [
    "df_train[num_features].isna().sum()"
   ],
   "metadata": {
    "collapsed": false,
    "ExecuteTime": {
     "end_time": "2024-02-07T16:39:59.065050800Z",
     "start_time": "2024-02-07T16:39:58.872082200Z"
    }
   },
   "id": "5d4aabc8cc53796d",
   "execution_count": 167
  },
  {
   "cell_type": "code",
   "outputs": [],
   "source": [
    "value = df_train[\"Totalcharges\"].mean()\n",
    "df_train[\"Totalcharges\"] = df_train[\"Totalcharges\"].fillna(value)\n",
    "df_test[\"Totalcharges\"] = df_test[\"Totalcharges\"].fillna(value)"
   ],
   "metadata": {
    "collapsed": false,
    "ExecuteTime": {
     "end_time": "2024-02-07T16:39:59.166524Z",
     "start_time": "2024-02-07T16:39:58.969469100Z"
    }
   },
   "id": "10fd61afc60588a9",
   "execution_count": 168
  },
  {
   "cell_type": "code",
   "outputs": [
    {
     "data": {
      "text/plain": "            Tenure  Monthlycharges  Totalcharges\ncount  4930.000000     4930.000000   4930.000000\nmean     32.541379       64.857830   2306.749553\nstd      24.695410       30.285885   2287.807302\nmin       0.000000       18.400000     18.850000\n25%       9.000000       35.500000    389.837500\n50%      29.000000       70.350000   1408.575000\n75%      56.000000       89.937500   3886.750000\nmax      72.000000      118.750000   8672.450000",
      "text/html": "<div>\n<style scoped>\n    .dataframe tbody tr th:only-of-type {\n        vertical-align: middle;\n    }\n\n    .dataframe tbody tr th {\n        vertical-align: top;\n    }\n\n    .dataframe thead th {\n        text-align: right;\n    }\n</style>\n<table border=\"1\" class=\"dataframe\">\n  <thead>\n    <tr style=\"text-align: right;\">\n      <th></th>\n      <th>Tenure</th>\n      <th>Monthlycharges</th>\n      <th>Totalcharges</th>\n    </tr>\n  </thead>\n  <tbody>\n    <tr>\n      <th>count</th>\n      <td>4930.000000</td>\n      <td>4930.000000</td>\n      <td>4930.000000</td>\n    </tr>\n    <tr>\n      <th>mean</th>\n      <td>32.541379</td>\n      <td>64.857830</td>\n      <td>2306.749553</td>\n    </tr>\n    <tr>\n      <th>std</th>\n      <td>24.695410</td>\n      <td>30.285885</td>\n      <td>2287.807302</td>\n    </tr>\n    <tr>\n      <th>min</th>\n      <td>0.000000</td>\n      <td>18.400000</td>\n      <td>18.850000</td>\n    </tr>\n    <tr>\n      <th>25%</th>\n      <td>9.000000</td>\n      <td>35.500000</td>\n      <td>389.837500</td>\n    </tr>\n    <tr>\n      <th>50%</th>\n      <td>29.000000</td>\n      <td>70.350000</td>\n      <td>1408.575000</td>\n    </tr>\n    <tr>\n      <th>75%</th>\n      <td>56.000000</td>\n      <td>89.937500</td>\n      <td>3886.750000</td>\n    </tr>\n    <tr>\n      <th>max</th>\n      <td>72.000000</td>\n      <td>118.750000</td>\n      <td>8672.450000</td>\n    </tr>\n  </tbody>\n</table>\n</div>"
     },
     "execution_count": 169,
     "metadata": {},
     "output_type": "execute_result"
    }
   ],
   "source": [
    "df_train[num_features].describe()"
   ],
   "metadata": {
    "collapsed": false,
    "ExecuteTime": {
     "end_time": "2024-02-07T16:39:59.310543Z",
     "start_time": "2024-02-07T16:39:59.123026200Z"
    }
   },
   "id": "8e5f874b65a83e81",
   "execution_count": 169
  },
  {
   "cell_type": "code",
   "outputs": [],
   "source": [
    "from sklearn.preprocessing import StandardScaler\n",
    "\n",
    "ss = StandardScaler()\n",
    "ss.fit(df_train[num_features])\n",
    "X_num_train = ss.transform(df_train[num_features])\n",
    "X_num_test = ss.transform(df_test[num_features])"
   ],
   "metadata": {
    "collapsed": false,
    "ExecuteTime": {
     "end_time": "2024-02-07T16:39:59.429310300Z",
     "start_time": "2024-02-07T16:39:59.281584900Z"
    }
   },
   "id": "1a23ac553986ae36",
   "execution_count": 170
  },
  {
   "cell_type": "code",
   "outputs": [
    {
     "name": "stdout",
     "output_type": "stream",
     "text": [
      "(4930, 3) (2113, 3)\n"
     ]
    }
   ],
   "source": [
    "df_num_train = pd.DataFrame(X_num_train, columns=num_features)\n",
    "df_num_test = pd.DataFrame(X_num_test, columns=num_features)\n",
    "print(df_num_train.shape, df_num_test.shape)"
   ],
   "metadata": {
    "collapsed": false,
    "ExecuteTime": {
     "end_time": "2024-02-07T16:39:59.558700200Z",
     "start_time": "2024-02-07T16:39:59.361572200Z"
    }
   },
   "id": "46a7c63ea3f3abcb",
   "execution_count": 171
  },
  {
   "cell_type": "code",
   "outputs": [
    {
     "name": "stdout",
     "output_type": "stream",
     "text": [
      "(4930, 39) (2113, 39)\n"
     ]
    }
   ],
   "source": [
    "# Stick the cat and num features back together\n",
    "df_model_train = pd.concat([df_cat_train, df_num_train], axis=1)\n",
    "df_model_test = pd.concat([df_cat_test, df_num_test], axis=1)\n",
    "print(df_model_train.shape, df_model_test.shape)"
   ],
   "metadata": {
    "collapsed": false,
    "ExecuteTime": {
     "end_time": "2024-02-07T16:39:59.759133300Z",
     "start_time": "2024-02-07T16:39:59.470975400Z"
    }
   },
   "id": "8542c68b658836dc",
   "execution_count": 172
  },
  {
   "cell_type": "code",
   "outputs": [],
   "source": [],
   "metadata": {
    "collapsed": false,
    "ExecuteTime": {
     "end_time": "2024-02-07T16:39:59.875606400Z",
     "start_time": "2024-02-07T16:39:59.730543900Z"
    }
   },
   "id": "be204adad955029",
   "execution_count": 172
  },
  {
   "cell_type": "markdown",
   "source": [
    "## Model Building"
   ],
   "metadata": {
    "collapsed": false
   },
   "id": "f2e0247ff63e7d45"
  },
  {
   "cell_type": "code",
   "outputs": [],
   "source": [
    "from sklearn.linear_model import LogisticRegression\n",
    "from sklearn.neighbors import KNeighborsClassifier\n",
    "from sklearn.tree import DecisionTreeClassifier\n",
    "from sklearn.ensemble import RandomForestClassifier, AdaBoostClassifier\n",
    "\n",
    "classifiers = {\n",
    "    # Some issue with sklearn KNN does not work!!\n",
    "    # \"KNN\": KNeighborsClassifier(),\n",
    "    # \"KNN(3)\": KNeighborsClassifier(n_neighbors=3),\n",
    "    # \"KNN(7)\": KNeighborsClassifier(n_neighbors=7),\n",
    "    \"LR\": LogisticRegression(solver='lbfgs', max_iter=10000),\n",
    "    \"DT\": DecisionTreeClassifier(),\n",
    "    \"DT(max_depth=5)\": DecisionTreeClassifier(max_depth=5),\n",
    "    \"RF\": RandomForestClassifier(),\n",
    "    \"AdaB\": AdaBoostClassifier(algorithm=\"SAMME\"),\n",
    "}"
   ],
   "metadata": {
    "collapsed": false,
    "ExecuteTime": {
     "end_time": "2024-02-07T16:40:24.800959400Z",
     "start_time": "2024-02-07T16:40:24.774054500Z"
    }
   },
   "id": "4ac1cf2fe5ab52ad",
   "execution_count": 177
  },
  {
   "cell_type": "code",
   "outputs": [
    {
     "name": "stdout",
     "output_type": "stream",
     "text": [
      "LR                   accuracy_train=80.67%\taccuracy_test=80.22%\n",
      "DT                   accuracy_train=99.74%\taccuracy_test=71.37%\n",
      "DT(max_depth=5)      accuracy_train=80.43%\taccuracy_test=77.99%\n",
      "RF                   accuracy_train=99.74%\taccuracy_test=78.85%\n",
      "AdaB                 accuracy_train=79.90%\taccuracy_test=78.85%\n"
     ]
    }
   ],
   "source": [
    "from sklearn.metrics import accuracy_score\n",
    "\n",
    "for name, model in classifiers.items():  \n",
    "  model.fit(df_model_train, y_train)\n",
    "  y_pred = model.predict(df_model_train)\n",
    "  accuracy_train = accuracy_score(y_train, y_pred)\n",
    "  \n",
    "  y_pred = model.predict(df_model_test)\n",
    "  accuracy_test = accuracy_score(y_test, y_pred)\n",
    "  \n",
    "  print(f\"{name:20s} accuracy_train={accuracy_train:.2%}\\taccuracy_test={accuracy_test:.2%}\")"
   ],
   "metadata": {
    "collapsed": false,
    "ExecuteTime": {
     "end_time": "2024-02-07T16:40:30.616326600Z",
     "start_time": "2024-02-07T16:40:26.939863500Z"
    }
   },
   "id": "78e40e92bf80c2eb",
   "execution_count": 178
  },
  {
   "cell_type": "markdown",
   "source": [],
   "metadata": {
    "collapsed": false
   },
   "id": "fec3ecf83007b3a"
  },
  {
   "cell_type": "code",
   "outputs": [
    {
     "name": "stdout",
     "output_type": "stream",
     "text": [
      "LR                   accuracy_train=80.41% +/- 1.55%\n",
      "DT                   accuracy_train=73.14% +/- 1.31%\n",
      "DT(max_depth=5)      accuracy_train=78.62% +/- 1.80%\n",
      "RF                   accuracy_train=79.11% +/- 1.23%\n",
      "AdaB                 accuracy_train=79.74% +/- 2.08%\n"
     ]
    }
   ],
   "source": [
    "from sklearn.model_selection import cross_val_score\n",
    "\n",
    "for name, model in classifiers.items():\n",
    "  scores = cross_val_score(model, df_model_train, y_train, cv=10)\n",
    "  print(f\"{name:20s} accuracy_train={scores.mean():.2%} +/- {scores.std():.2%}\")"
   ],
   "metadata": {
    "collapsed": false,
    "ExecuteTime": {
     "end_time": "2024-02-07T16:43:08.466336600Z",
     "start_time": "2024-02-07T16:42:44.942181600Z"
    }
   },
   "id": "2c60b3bcb06fcc79",
   "execution_count": 182
  },
  {
   "cell_type": "markdown",
   "source": [
    "## Model Evaluation "
   ],
   "metadata": {
    "collapsed": false
   },
   "id": "c8d2f56ff6527393"
  }
 ],
 "metadata": {
  "kernelspec": {
   "display_name": "Python 3",
   "language": "python",
   "name": "python3"
  },
  "language_info": {
   "codemirror_mode": {
    "name": "ipython",
    "version": 2
   },
   "file_extension": ".py",
   "mimetype": "text/x-python",
   "name": "python",
   "nbconvert_exporter": "python",
   "pygments_lexer": "ipython2",
   "version": "2.7.6"
  }
 },
 "nbformat": 4,
 "nbformat_minor": 5
}
