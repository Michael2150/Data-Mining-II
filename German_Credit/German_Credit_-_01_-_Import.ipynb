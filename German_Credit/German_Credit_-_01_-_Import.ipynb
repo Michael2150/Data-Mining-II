{
 "cells": [
  {
   "cell_type": "markdown",
   "source": [
    "# German Credit - 01 - Import"
   ],
   "metadata": {
    "collapsed": false
   },
   "id": "a5495e2808ab6636"
  },
  {
   "cell_type": "markdown",
   "source": [
    "## Setup"
   ],
   "metadata": {
    "collapsed": false
   },
   "id": "6ac6f57edd7e6628"
  },
  {
   "cell_type": "code",
   "outputs": [],
   "source": [
    "import numpy as np\n",
    "import pandas as pd\n",
    "import matplotlib.pyplot as plt\n",
    "import seaborn as sns\n",
    "from scipy import stats\n",
    "import yaml\n",
    "\n",
    "pd.set_option('display.max_columns', None)\n",
    "pd.set_option('display.width', 1000)\n",
    "# pd.set_option('display.max_rows', None)\n",
    "\n",
    "sns.set_style(\"darkgrid\")\n",
    "\n",
    "from IPython.display import display, Markdown\n",
    "from pprint import pprint \n",
    "\n",
    "DEBUG = True\n",
    "SEED = 666"
   ],
   "metadata": {
    "collapsed": false,
    "ExecuteTime": {
     "end_time": "2024-01-24T16:41:58.968819900Z",
     "start_time": "2024-01-24T16:41:58.857075400Z"
    }
   },
   "id": "64fa55ca707d4225",
   "execution_count": 127
  },
  {
   "cell_type": "code",
   "outputs": [],
   "source": [
    "DATASET = \"German Credit\"\n",
    "\n",
    "import os, sys\n",
    "COLAB = 'google.colab' in sys.modules\n",
    "ROOT = \"./\"\n",
    "\n",
    "if COLAB:\n",
    "  from google.colab import drive\n",
    "  if not os.path.isdir(\"/content/gdrive\"):\n",
    "    drive.mount(\"/content/gdrive\")\n",
    "    d = \"/content/gdrive/MyDrive/datasets\"\n",
    "    if not os.path.isdir(ROOT+d): os.makedirs(ROOT+d)\n",
    "  ROOT = f\"/content/gdrive/MyDrive/datasets/{DATASET.replace(' ','_')}/\"\n",
    "  if not os.path.isdir(ROOT): os.makedirs(ROOT)\n",
    "\n",
    "\n",
    "def makedirs(d):\n",
    "  if COLAB:\n",
    "    if not os.path.isdir(ROOT+d): os.makedirs(ROOT+d)\n",
    "  else:\n",
    "    if not os.path.isdir(ROOT+d): os.makedirs(ROOT+d, mode=0o777, exist_ok=True)\n",
    "\n",
    "for d in ['orig','data','output']: makedirs(d)"
   ],
   "metadata": {
    "collapsed": false,
    "ExecuteTime": {
     "end_time": "2024-01-24T16:41:58.988467Z",
     "start_time": "2024-01-24T16:41:58.979961300Z"
    }
   },
   "id": "e9588c925d53fa32",
   "execution_count": 128
  },
  {
   "cell_type": "markdown",
   "source": [
    "## Datasets"
   ],
   "metadata": {
    "collapsed": false
   },
   "id": "c9d6064a03dd67fa"
  },
  {
   "cell_type": "code",
   "outputs": [
    {
     "name": "stdout",
     "output_type": "stream",
     "text": [
      "Using local copy of german.data\n",
      "Using local copy of german.doc\n",
      "Using local copy of german.data-numeric\n"
     ]
    }
   ],
   "source": [
    "for filename in [\"german.data\", \"german.doc\", \"german.data-numeric\"]:\n",
    "    source = f\"https://archive.ics.uci.edu/ml/machine-learning-databases/statlog/german/{filename}\"\n",
    "    target = f\"{ROOT}/orig/{filename}\"\n",
    "    if not os.path.isfile(target):\n",
    "        print (f\"Downloading remote file {filename}\", sep=\"\")\n",
    "        import urllib.request\n",
    "        urllib.request.urlretrieve(source, target)\n",
    "    else:\n",
    "        print(f\"Using local copy of {filename}\")"
   ],
   "metadata": {
    "collapsed": false,
    "ExecuteTime": {
     "end_time": "2024-01-24T16:41:59.052772900Z",
     "start_time": "2024-01-24T16:41:58.996223800Z"
    }
   },
   "id": "a406f884385b7407",
   "execution_count": 129
  },
  {
   "cell_type": "code",
   "outputs": [
    {
     "name": "stdout",
     "output_type": "stream",
     "text": [
      "(1000, 21)\n"
     ]
    },
    {
     "data": {
      "text/plain": "    0   1    2    3     4    5    6   7    8     9   10    11  12    13    14  15    16  17    18    19  20\n0  A11   6  A34  A43  1169  A65  A75   4  A93  A101   4  A121  67  A143  A152   2  A173   1  A192  A201   1\n1  A12  48  A32  A43  5951  A61  A73   2  A92  A101   2  A121  22  A143  A152   1  A173   1  A191  A201   2\n2  A14  12  A34  A46  2096  A61  A74   2  A93  A101   3  A121  49  A143  A152   1  A172   2  A191  A201   1\n3  A11  42  A32  A42  7882  A61  A74   2  A93  A103   4  A122  45  A143  A153   1  A173   2  A191  A201   1\n4  A11  24  A33  A40  4870  A61  A73   3  A93  A101   4  A124  53  A143  A153   2  A173   2  A191  A201   2",
      "text/html": "<div>\n<style scoped>\n    .dataframe tbody tr th:only-of-type {\n        vertical-align: middle;\n    }\n\n    .dataframe tbody tr th {\n        vertical-align: top;\n    }\n\n    .dataframe thead th {\n        text-align: right;\n    }\n</style>\n<table border=\"1\" class=\"dataframe\">\n  <thead>\n    <tr style=\"text-align: right;\">\n      <th></th>\n      <th>0</th>\n      <th>1</th>\n      <th>2</th>\n      <th>3</th>\n      <th>4</th>\n      <th>5</th>\n      <th>6</th>\n      <th>7</th>\n      <th>8</th>\n      <th>9</th>\n      <th>10</th>\n      <th>11</th>\n      <th>12</th>\n      <th>13</th>\n      <th>14</th>\n      <th>15</th>\n      <th>16</th>\n      <th>17</th>\n      <th>18</th>\n      <th>19</th>\n      <th>20</th>\n    </tr>\n  </thead>\n  <tbody>\n    <tr>\n      <th>0</th>\n      <td>A11</td>\n      <td>6</td>\n      <td>A34</td>\n      <td>A43</td>\n      <td>1169</td>\n      <td>A65</td>\n      <td>A75</td>\n      <td>4</td>\n      <td>A93</td>\n      <td>A101</td>\n      <td>4</td>\n      <td>A121</td>\n      <td>67</td>\n      <td>A143</td>\n      <td>A152</td>\n      <td>2</td>\n      <td>A173</td>\n      <td>1</td>\n      <td>A192</td>\n      <td>A201</td>\n      <td>1</td>\n    </tr>\n    <tr>\n      <th>1</th>\n      <td>A12</td>\n      <td>48</td>\n      <td>A32</td>\n      <td>A43</td>\n      <td>5951</td>\n      <td>A61</td>\n      <td>A73</td>\n      <td>2</td>\n      <td>A92</td>\n      <td>A101</td>\n      <td>2</td>\n      <td>A121</td>\n      <td>22</td>\n      <td>A143</td>\n      <td>A152</td>\n      <td>1</td>\n      <td>A173</td>\n      <td>1</td>\n      <td>A191</td>\n      <td>A201</td>\n      <td>2</td>\n    </tr>\n    <tr>\n      <th>2</th>\n      <td>A14</td>\n      <td>12</td>\n      <td>A34</td>\n      <td>A46</td>\n      <td>2096</td>\n      <td>A61</td>\n      <td>A74</td>\n      <td>2</td>\n      <td>A93</td>\n      <td>A101</td>\n      <td>3</td>\n      <td>A121</td>\n      <td>49</td>\n      <td>A143</td>\n      <td>A152</td>\n      <td>1</td>\n      <td>A172</td>\n      <td>2</td>\n      <td>A191</td>\n      <td>A201</td>\n      <td>1</td>\n    </tr>\n    <tr>\n      <th>3</th>\n      <td>A11</td>\n      <td>42</td>\n      <td>A32</td>\n      <td>A42</td>\n      <td>7882</td>\n      <td>A61</td>\n      <td>A74</td>\n      <td>2</td>\n      <td>A93</td>\n      <td>A103</td>\n      <td>4</td>\n      <td>A122</td>\n      <td>45</td>\n      <td>A143</td>\n      <td>A153</td>\n      <td>1</td>\n      <td>A173</td>\n      <td>2</td>\n      <td>A191</td>\n      <td>A201</td>\n      <td>1</td>\n    </tr>\n    <tr>\n      <th>4</th>\n      <td>A11</td>\n      <td>24</td>\n      <td>A33</td>\n      <td>A40</td>\n      <td>4870</td>\n      <td>A61</td>\n      <td>A73</td>\n      <td>3</td>\n      <td>A93</td>\n      <td>A101</td>\n      <td>4</td>\n      <td>A124</td>\n      <td>53</td>\n      <td>A143</td>\n      <td>A153</td>\n      <td>2</td>\n      <td>A173</td>\n      <td>2</td>\n      <td>A191</td>\n      <td>A201</td>\n      <td>2</td>\n    </tr>\n  </tbody>\n</table>\n</div>"
     },
     "execution_count": 130,
     "metadata": {},
     "output_type": "execute_result"
    }
   ],
   "source": [
    "df = pd.read_csv(f\"{ROOT}/orig/german.data\", sep =\" \", header=None)\n",
    "print(df.shape)\n",
    "df.head(5)"
   ],
   "metadata": {
    "collapsed": false,
    "ExecuteTime": {
     "end_time": "2024-01-24T16:41:59.102891900Z",
     "start_time": "2024-01-24T16:41:59.006787500Z"
    }
   },
   "id": "c38f938f9105b487",
   "execution_count": 130
  },
  {
   "cell_type": "code",
   "outputs": [
    {
     "data": {
      "text/plain": "  Account_Balance  Loan_Duration Credit_History Loan_Purpose  Loan_Amount Savings Years_Employed  Installment_Rate Gender_and_Status Other_Debtors_Guarantors  Year_of_Residence Property  Age Installment_Plans Housing  Existing_Credits   Job  Dependents Telephone Foreign  Credit_Rating\n0             A11              6            A34          A43         1169     A65            A75                 4               A93                     A101                  4     A121   67              A143    A152                 2  A173           1      A192    A201              1",
      "text/html": "<div>\n<style scoped>\n    .dataframe tbody tr th:only-of-type {\n        vertical-align: middle;\n    }\n\n    .dataframe tbody tr th {\n        vertical-align: top;\n    }\n\n    .dataframe thead th {\n        text-align: right;\n    }\n</style>\n<table border=\"1\" class=\"dataframe\">\n  <thead>\n    <tr style=\"text-align: right;\">\n      <th></th>\n      <th>Account_Balance</th>\n      <th>Loan_Duration</th>\n      <th>Credit_History</th>\n      <th>Loan_Purpose</th>\n      <th>Loan_Amount</th>\n      <th>Savings</th>\n      <th>Years_Employed</th>\n      <th>Installment_Rate</th>\n      <th>Gender_and_Status</th>\n      <th>Other_Debtors_Guarantors</th>\n      <th>Year_of_Residence</th>\n      <th>Property</th>\n      <th>Age</th>\n      <th>Installment_Plans</th>\n      <th>Housing</th>\n      <th>Existing_Credits</th>\n      <th>Job</th>\n      <th>Dependents</th>\n      <th>Telephone</th>\n      <th>Foreign</th>\n      <th>Credit_Rating</th>\n    </tr>\n  </thead>\n  <tbody>\n    <tr>\n      <th>0</th>\n      <td>A11</td>\n      <td>6</td>\n      <td>A34</td>\n      <td>A43</td>\n      <td>1169</td>\n      <td>A65</td>\n      <td>A75</td>\n      <td>4</td>\n      <td>A93</td>\n      <td>A101</td>\n      <td>4</td>\n      <td>A121</td>\n      <td>67</td>\n      <td>A143</td>\n      <td>A152</td>\n      <td>2</td>\n      <td>A173</td>\n      <td>1</td>\n      <td>A192</td>\n      <td>A201</td>\n      <td>1</td>\n    </tr>\n  </tbody>\n</table>\n</div>"
     },
     "execution_count": 131,
     "metadata": {},
     "output_type": "execute_result"
    }
   ],
   "source": [
    "df.columns = [\"Account_Balance\", \"Loan_Duration\", \"Credit_History\", \n",
    "    \"Loan_Purpose\", \"Loan_Amount\", \"Savings\", \"Years_Employed\", \n",
    "    \"Installment_Rate\", \"Gender_and_Status\", \"Other_Debtors_Guarantors\",\n",
    "    \"Year_of_Residence\", \"Property\", \"Age\", \"Installment_Plans\", \"Housing\", \"Existing_Credits\", \"Job\", \"Dependents\", \n",
    "    \"Telephone\", \"Foreign\", \n",
    "    \"Credit_Rating\"]\n",
    "\n",
    "df.head(1)"
   ],
   "metadata": {
    "collapsed": false,
    "ExecuteTime": {
     "end_time": "2024-01-24T16:41:59.132329200Z",
     "start_time": "2024-01-24T16:41:59.048286700Z"
    }
   },
   "id": "8db0a743fa84b0e",
   "execution_count": 131
  },
  {
   "cell_type": "code",
   "outputs": [
    {
     "data": {
      "text/plain": "0"
     },
     "execution_count": 132,
     "metadata": {},
     "output_type": "execute_result"
    }
   ],
   "source": [
    "df.isna().sum().sum()"
   ],
   "metadata": {
    "collapsed": false,
    "ExecuteTime": {
     "end_time": "2024-01-24T16:41:59.171222700Z",
     "start_time": "2024-01-24T16:41:59.117535300Z"
    }
   },
   "id": "f70bf9611255479",
   "execution_count": 132
  },
  {
   "cell_type": "code",
   "outputs": [
    {
     "name": "stdout",
     "output_type": "stream",
     "text": [
      "<class 'pandas.core.frame.DataFrame'>\n",
      "RangeIndex: 1000 entries, 0 to 999\n",
      "Data columns (total 21 columns):\n",
      " #   Column                    Non-Null Count  Dtype \n",
      "---  ------                    --------------  ----- \n",
      " 0   Account_Balance           1000 non-null   object\n",
      " 1   Loan_Duration             1000 non-null   int64 \n",
      " 2   Credit_History            1000 non-null   object\n",
      " 3   Loan_Purpose              1000 non-null   object\n",
      " 4   Loan_Amount               1000 non-null   int64 \n",
      " 5   Savings                   1000 non-null   object\n",
      " 6   Years_Employed            1000 non-null   object\n",
      " 7   Installment_Rate          1000 non-null   int64 \n",
      " 8   Gender_and_Status         1000 non-null   object\n",
      " 9   Other_Debtors_Guarantors  1000 non-null   object\n",
      " 10  Year_of_Residence         1000 non-null   int64 \n",
      " 11  Property                  1000 non-null   object\n",
      " 12  Age                       1000 non-null   int64 \n",
      " 13  Installment_Plans         1000 non-null   object\n",
      " 14  Housing                   1000 non-null   object\n",
      " 15  Existing_Credits          1000 non-null   int64 \n",
      " 16  Job                       1000 non-null   object\n",
      " 17  Dependents                1000 non-null   int64 \n",
      " 18  Telephone                 1000 non-null   object\n",
      " 19  Foreign                   1000 non-null   object\n",
      " 20  Credit_Rating             1000 non-null   int64 \n",
      "dtypes: int64(8), object(13)\n",
      "memory usage: 164.2+ KB\n"
     ]
    }
   ],
   "source": [
    "df.info()"
   ],
   "metadata": {
    "collapsed": false,
    "ExecuteTime": {
     "end_time": "2024-01-24T16:41:59.306561800Z",
     "start_time": "2024-01-24T16:41:59.173223600Z"
    }
   },
   "id": "935ec84661eb3a6f",
   "execution_count": 133
  },
  {
   "cell_type": "markdown",
   "source": [
    "## Clean"
   ],
   "metadata": {
    "collapsed": false
   },
   "id": "9225301620bdaa8a"
  },
  {
   "cell_type": "code",
   "outputs": [
    {
     "name": "stdout",
     "output_type": "stream",
     "text": [
      "[['A11', '... <    0 DM'],\n",
      " ['A12', '0 <= ... <  200 DM'],\n",
      " ['A13', '... >= 200 DM /'],\n",
      " ['A14', 'no checking account'],\n",
      " ['A30', 'no credits taken/'],\n",
      " ['A31', 'all credits at this bank paid back duly'],\n",
      " ['A32', 'existing credits paid back duly till now'],\n",
      " ['A33', 'delay in paying off in the past'],\n",
      " ['A34', 'critical account/'],\n",
      " ['A40', 'car (new)'],\n",
      " ['A41', 'car (used)'],\n",
      " ['A42', 'furniture/equipment'],\n",
      " ['A43', 'radio/television'],\n",
      " ['A44', 'domestic appliances'],\n",
      " ['A45', 'repairs'],\n",
      " ['A46', 'education'],\n",
      " ['A47', '(vacation - does not exist?)'],\n",
      " ['A48', 'retraining'],\n",
      " ['A49', 'business'],\n",
      " ['A410', 'others'],\n",
      " ['A61', '... <  100 DM'],\n",
      " ['A62', '100 <= ... <  500 DM'],\n",
      " ['A63', '500 <= ... < 1000 DM'],\n",
      " ['A64', '.. >= 1000 DM'],\n",
      " ['A65', 'unknown/ no savings account'],\n",
      " ['A71', 'unemployed'],\n",
      " ['A72', '... < 1 year'],\n",
      " ['A73', '1  <= ... < 4 years'],\n",
      " ['A74', '4  <= ... < 7 years'],\n",
      " ['A75', '.. >= 7 years'],\n",
      " ['A91', 'male   : divorced/separated'],\n",
      " ['A92', 'female : divorced/separated/married'],\n",
      " ['A93', 'male   : single'],\n",
      " ['A94', 'male   : married/widowed'],\n",
      " ['A95', 'female : single'],\n",
      " ['A101', 'none'],\n",
      " ['A102', 'co-applicant'],\n",
      " ['A103', 'guarantor'],\n",
      " ['A121', 'real estate'],\n",
      " ['A122', 'if not A121 : building society savings agreement/'],\n",
      " ['A123', 'if not A121/A122 : car or other, not in attribute 6'],\n",
      " ['A124', 'unknown / no property'],\n",
      " ['A141', 'bank'],\n",
      " ['A142', 'stores'],\n",
      " ['A143', 'none'],\n",
      " ['A151', 'rent'],\n",
      " ['A152', 'own'],\n",
      " ['A153', 'for free'],\n",
      " ['A171', 'unemployed/ unskilled  - non-resident'],\n",
      " ['A172', 'unskilled - resident'],\n",
      " ['A173', 'skilled employee / official'],\n",
      " ['A174', 'management/ self-employed/'],\n",
      " ['A191', 'none'],\n",
      " ['A192', 'yes, registered under the customers name'],\n",
      " ['A201', 'yes'],\n",
      " ['A202', 'no']]\n"
     ]
    }
   ],
   "source": [
    "lines = open(f\"{ROOT}/orig/german.doc\").readlines()\n",
    "# lines = [x for x in lines if x.startswith(\"\\t\")]\n",
    "lines = [x.strip() for x in lines]\n",
    "lines = [x for x in lines if len(x)>2 and x[0]==\"A\" and x[1].isdigit()]\n",
    "lines = [x.split(\":\", 1) for x in lines]\n",
    "lines = [[x[0].strip(), x[1].strip()] for x in lines]\n",
    "if DEBUG:\n",
    "    pprint(lines)"
   ],
   "metadata": {
    "collapsed": false,
    "ExecuteTime": {
     "end_time": "2024-01-24T16:41:59.465908700Z",
     "start_time": "2024-01-24T16:41:59.263520400Z"
    }
   },
   "id": "55b551593f5557f7",
   "execution_count": 134
  },
  {
   "cell_type": "code",
   "outputs": [
    {
     "name": "stdout",
     "output_type": "stream",
     "text": [
      "{'A101': '(A101) none',\n",
      " 'A102': '(A102) co-applicant',\n",
      " 'A103': '(A103) guarantor',\n",
      " 'A11': '(A11) ... <    0 DM',\n",
      " 'A12': '(A12) 0 <= ... <  200 DM',\n",
      " 'A121': '(A121) real estate',\n",
      " 'A122': '(A122) if not A121 : building society savings agreement/',\n",
      " 'A123': '(A123) if not A121/A122 : car or other, not in attribute 6',\n",
      " 'A124': '(A124) unknown / no property',\n",
      " 'A13': '(A13) ... >= 200 DM /',\n",
      " 'A14': '(A14) no checking account',\n",
      " 'A141': '(A141) bank',\n",
      " 'A142': '(A142) stores',\n",
      " 'A143': '(A143) none',\n",
      " 'A151': '(A151) rent',\n",
      " 'A152': '(A152) own',\n",
      " 'A153': '(A153) for free',\n",
      " 'A171': '(A171) unemployed/ unskilled  - non-resident',\n",
      " 'A172': '(A172) unskilled - resident',\n",
      " 'A173': '(A173) skilled employee / official',\n",
      " 'A174': '(A174) management/ self-employed/',\n",
      " 'A191': '(A191) none',\n",
      " 'A192': '(A192) yes, registered under the customers name',\n",
      " 'A201': '(A201) yes',\n",
      " 'A202': '(A202) no',\n",
      " 'A30': '(A30) no credits taken/',\n",
      " 'A31': '(A31) all credits at this bank paid back duly',\n",
      " 'A32': '(A32) existing credits paid back duly till now',\n",
      " 'A33': '(A33) delay in paying off in the past',\n",
      " 'A34': '(A34) critical account/',\n",
      " 'A40': '(A40) car (new)',\n",
      " 'A41': '(A41) car (used)',\n",
      " 'A410': '(A410) others',\n",
      " 'A42': '(A42) furniture/equipment',\n",
      " 'A43': '(A43) radio/television',\n",
      " 'A44': '(A44) domestic appliances',\n",
      " 'A45': '(A45) repairs',\n",
      " 'A46': '(A46) education',\n",
      " 'A47': '(A47) (vacation - does not exist?)',\n",
      " 'A48': '(A48) retraining',\n",
      " 'A49': '(A49) business',\n",
      " 'A61': '(A61) ... <  100 DM',\n",
      " 'A62': '(A62) 100 <= ... <  500 DM',\n",
      " 'A63': '(A63) 500 <= ... < 1000 DM',\n",
      " 'A64': '(A64) .. >= 1000 DM',\n",
      " 'A65': '(A65) unknown/ no savings account',\n",
      " 'A71': '(A71) unemployed',\n",
      " 'A72': '(A72) ... < 1 year',\n",
      " 'A73': '(A73) 1  <= ... < 4 years',\n",
      " 'A74': '(A74) 4  <= ... < 7 years',\n",
      " 'A75': '(A75) .. >= 7 years',\n",
      " 'A91': '(A91) male   : divorced/separated',\n",
      " 'A92': '(A92) female : divorced/separated/married',\n",
      " 'A93': '(A93) male   : single',\n",
      " 'A94': '(A94) male   : married/widowed',\n",
      " 'A95': '(A95) female : single'}\n"
     ]
    }
   ],
   "source": [
    "mapping = {code : f\"({code}) {label}\" for code, label in lines} \n",
    "if DEBUG:\n",
    "    pprint(mapping)"
   ],
   "metadata": {
    "collapsed": false,
    "ExecuteTime": {
     "end_time": "2024-01-24T16:41:59.545889300Z",
     "start_time": "2024-01-24T16:41:59.449627Z"
    }
   },
   "id": "6e75d75f8047c077",
   "execution_count": 135
  },
  {
   "cell_type": "code",
   "outputs": [
    {
     "data": {
      "text/plain": "Index(['Account_Balance', 'Credit_History', 'Loan_Purpose', 'Savings', 'Years_Employed', 'Gender_and_Status', 'Other_Debtors_Guarantors', 'Property', 'Installment_Plans', 'Housing', 'Job', 'Telephone', 'Foreign'], dtype='object')"
     },
     "execution_count": 136,
     "metadata": {},
     "output_type": "execute_result"
    }
   ],
   "source": [
    "df.select_dtypes(\"O\").columns"
   ],
   "metadata": {
    "collapsed": false,
    "ExecuteTime": {
     "end_time": "2024-01-24T16:41:59.605921500Z",
     "start_time": "2024-01-24T16:41:59.549113600Z"
    }
   },
   "id": "396b656dba3440e",
   "execution_count": 136
  },
  {
   "cell_type": "code",
   "outputs": [
    {
     "name": "stdout",
     "output_type": "stream",
     "text": [
      "Account_Balance : 0\n",
      "Credit_History : 0\n",
      "Loan_Purpose : 0\n",
      "Savings : 0\n",
      "Years_Employed : 0\n",
      "Gender_and_Status : 0\n",
      "Other_Debtors_Guarantors : 0\n",
      "Property : 0\n",
      "Installment_Plans : 0\n",
      "Housing : 0\n",
      "Job : 0\n",
      "Telephone : 0\n",
      "Foreign : 0\n"
     ]
    }
   ],
   "source": [
    "df_label = df.copy()\n",
    "for col in df_label.select_dtypes(\"O\").columns:\n",
    "    df_label[col] = pd.Categorical(df_label[col].map(mapping))\n",
    "    success = df_label[col].isna().sum()\n",
    "    print(f\"{col} : {success}\")\n"
   ],
   "metadata": {
    "collapsed": false,
    "ExecuteTime": {
     "end_time": "2024-01-24T16:41:59.685340900Z",
     "start_time": "2024-01-24T16:41:59.609138Z"
    }
   },
   "id": "57a108e79af76f3a",
   "execution_count": 137
  },
  {
   "cell_type": "markdown",
   "source": [
    "## Output"
   ],
   "metadata": {
    "collapsed": false
   },
   "id": "45eaa414af2cfe5c"
  },
  {
   "cell_type": "code",
   "outputs": [
    {
     "name": "stdout",
     "output_type": "stream",
     "text": [
      "<class 'pandas.core.frame.DataFrame'>\n",
      "RangeIndex: 1000 entries, 0 to 999\n",
      "Data columns (total 21 columns):\n",
      " #   Column                    Non-Null Count  Dtype   \n",
      "---  ------                    --------------  -----   \n",
      " 0   Account_Balance           1000 non-null   category\n",
      " 1   Loan_Duration             1000 non-null   int64   \n",
      " 2   Credit_History            1000 non-null   category\n",
      " 3   Loan_Purpose              1000 non-null   category\n",
      " 4   Loan_Amount               1000 non-null   int64   \n",
      " 5   Savings                   1000 non-null   category\n",
      " 6   Years_Employed            1000 non-null   category\n",
      " 7   Installment_Rate          1000 non-null   int64   \n",
      " 8   Gender_and_Status         1000 non-null   category\n",
      " 9   Other_Debtors_Guarantors  1000 non-null   category\n",
      " 10  Year_of_Residence         1000 non-null   int64   \n",
      " 11  Property                  1000 non-null   category\n",
      " 12  Age                       1000 non-null   int64   \n",
      " 13  Installment_Plans         1000 non-null   category\n",
      " 14  Housing                   1000 non-null   category\n",
      " 15  Existing_Credits          1000 non-null   int64   \n",
      " 16  Job                       1000 non-null   category\n",
      " 17  Dependents                1000 non-null   int64   \n",
      " 18  Telephone                 1000 non-null   category\n",
      " 19  Foreign                   1000 non-null   category\n",
      " 20  Credit_Rating             1000 non-null   int64   \n",
      "dtypes: category(13), int64(8)\n",
      "memory usage: 77.7 KB\n"
     ]
    }
   ],
   "source": [
    "df_label.info()"
   ],
   "metadata": {
    "collapsed": false,
    "ExecuteTime": {
     "end_time": "2024-01-24T16:41:59.774050Z",
     "start_time": "2024-01-24T16:41:59.680797800Z"
    }
   },
   "id": "e230b970ee511d5c",
   "execution_count": 138
  },
  {
   "cell_type": "code",
   "outputs": [],
   "source": [
    "df_label.to_pickle(f\"{ROOT}/data/labeled.pkl\")\n",
    "\n",
    "with open(f\"{ROOT}/data/mapping.yaml\", \"wt\") as stream:\n",
    "    yaml.safe_dump(mapping, stream)"
   ],
   "metadata": {
    "collapsed": false,
    "ExecuteTime": {
     "end_time": "2024-01-24T16:41:59.779422800Z",
     "start_time": "2024-01-24T16:41:59.724866700Z"
    }
   },
   "id": "fdd1b913cb662658",
   "execution_count": 139
  },
  {
   "cell_type": "markdown",
   "source": [],
   "metadata": {
    "collapsed": false
   },
   "id": "7fb3263f60a87b42"
  }
 ],
 "metadata": {
  "kernelspec": {
   "display_name": "Python 3",
   "language": "python",
   "name": "python3"
  },
  "language_info": {
   "codemirror_mode": {
    "name": "ipython",
    "version": 2
   },
   "file_extension": ".py",
   "mimetype": "text/x-python",
   "name": "python",
   "nbconvert_exporter": "python",
   "pygments_lexer": "ipython2",
   "version": "2.7.6"
  }
 },
 "nbformat": 4,
 "nbformat_minor": 5
}
