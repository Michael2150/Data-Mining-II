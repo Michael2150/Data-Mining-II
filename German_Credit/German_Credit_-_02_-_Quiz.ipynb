{
 "cells": [
  {
   "cell_type": "markdown",
   "source": [
    "# German Credit - 02 - Import"
   ],
   "metadata": {
    "collapsed": false
   },
   "id": "4cfbe1eefc56c0cf"
  },
  {
   "cell_type": "markdown",
   "source": [
    "## Setup"
   ],
   "metadata": {
    "collapsed": false
   },
   "id": "50dbe2ff413eb5e8"
  },
  {
   "cell_type": "code",
   "outputs": [],
   "source": [
    "import numpy as np\n",
    "import pandas as pd\n",
    "import matplotlib.pyplot as plt\n",
    "import seaborn as sns\n",
    "from scipy import stats\n",
    "import yaml\n",
    "\n",
    "pd.set_option('display.max_columns', None)\n",
    "pd.set_option('display.width', 1000)\n",
    "# pd.set_option('display.max_rows', None)\n",
    "\n",
    "sns.set_style(\"darkgrid\")\n",
    "\n",
    "from IPython.display import display, Markdown\n",
    "from pprint import pprint \n",
    "\n",
    "DEBUG = True\n",
    "SEED = 666"
   ],
   "metadata": {
    "collapsed": false,
    "ExecuteTime": {
     "end_time": "2024-01-26T15:29:18.781351500Z",
     "start_time": "2024-01-26T15:29:18.552571200Z"
    }
   },
   "id": "ee7f459e11d579be",
   "execution_count": 151
  },
  {
   "cell_type": "code",
   "outputs": [],
   "source": [
    "DATASET = \"German Credit\"\n",
    "\n",
    "import os, sys\n",
    "COLAB = 'google.colab' in sys.modules\n",
    "ROOT = \"./\"\n",
    "\n",
    "if COLAB:\n",
    "  from google.colab import drive\n",
    "  if not os.path.isdir(\"/content/gdrive\"):\n",
    "    drive.mount(\"/content/gdrive\")\n",
    "    d = \"/content/gdrive/MyDrive/datasets\"\n",
    "    if not os.path.isdir(ROOT+d): os.makedirs(ROOT+d)\n",
    "  ROOT = f\"/content/gdrive/MyDrive/datasets/{DATASET.replace(' ','_')}/\"\n",
    "  if not os.path.isdir(ROOT): os.makedirs(ROOT)\n",
    "\n",
    "\n",
    "def makedirs(d):\n",
    "  if COLAB:\n",
    "    if not os.path.isdir(ROOT+d): os.makedirs(ROOT+d)\n",
    "  else:\n",
    "    if not os.path.isdir(ROOT+d): os.makedirs(ROOT+d, mode=0o777, exist_ok=True)\n",
    "\n",
    "for d in ['orig','data','output']: makedirs(d)"
   ],
   "metadata": {
    "collapsed": false,
    "ExecuteTime": {
     "end_time": "2024-01-26T15:29:18.825444200Z",
     "start_time": "2024-01-26T15:29:18.788554200Z"
    }
   },
   "id": "1fc0b51bd8bc56a",
   "execution_count": 152
  },
  {
   "cell_type": "markdown",
   "source": [
    "## Datasets"
   ],
   "metadata": {
    "collapsed": false
   },
   "id": "71d646838b9fc7d9"
  },
  {
   "cell_type": "code",
   "outputs": [
    {
     "name": "stdout",
     "output_type": "stream",
     "text": [
      "Using local copy of german.data\n",
      "Using local copy of german.doc\n",
      "Using local copy of german.data-numeric\n"
     ]
    }
   ],
   "source": [
    "for filename in [\"german.data\", \"german.doc\", \"german.data-numeric\"]:\n",
    "    source = f\"https://archive.ics.uci.edu/ml/machine-learning-databases/statlog/german/{filename}\"\n",
    "    target = f\"{ROOT}/orig/{filename}\"\n",
    "    if not os.path.isfile(target):\n",
    "        print (f\"Downloading remote file {filename}\", sep=\"\")\n",
    "        import urllib.request\n",
    "        urllib.request.urlretrieve(source, target)\n",
    "    else:\n",
    "        print(f\"Using local copy of {filename}\")"
   ],
   "metadata": {
    "collapsed": false,
    "ExecuteTime": {
     "end_time": "2024-01-26T15:29:18.884399100Z",
     "start_time": "2024-01-26T15:29:18.809240700Z"
    }
   },
   "id": "52c779f81b0c46a7",
   "execution_count": 153
  },
  {
   "cell_type": "code",
   "outputs": [
    {
     "name": "stdout",
     "output_type": "stream",
     "text": [
      "(1000, 21)\n"
     ]
    },
    {
     "data": {
      "text/plain": "              Account_Balance  Loan_Duration                                  Credit_History               Loan_Purpose  Loan_Amount                            Savings             Years_Employed  Installment_Rate                          Gender_and_Status Other_Debtors_Guarantors  Year_of_Residence                                           Property  Age Installment_Plans          Housing  Existing_Credits                                 Job  Dependents                                        Telephone     Foreign  Credit_Rating\n0         (A11) ... <    0 DM              6                         (A34) critical account/     (A43) radio/television         1169  (A65) unknown/ no savings account        (A75) .. >= 7 years                 4                      (A93) male   : single              (A101) none                  4                                 (A121) real estate   67       (A143) none       (A152) own                 2  (A173) skilled employee / official           1  (A192) yes, registered under the customers name  (A201) yes              1\n1    (A12) 0 <= ... <  200 DM             48  (A32) existing credits paid back duly till now     (A43) radio/television         5951                (A61) ... <  100 DM  (A73) 1  <= ... < 4 years                 2  (A92) female : divorced/separated/married              (A101) none                  2                                 (A121) real estate   22       (A143) none       (A152) own                 1  (A173) skilled employee / official           1                                      (A191) none  (A201) yes              2\n2   (A14) no checking account             12                         (A34) critical account/            (A46) education         2096                (A61) ... <  100 DM  (A74) 4  <= ... < 7 years                 2                      (A93) male   : single              (A101) none                  3                                 (A121) real estate   49       (A143) none       (A152) own                 1         (A172) unskilled - resident           2                                      (A191) none  (A201) yes              1\n3         (A11) ... <    0 DM             42  (A32) existing credits paid back duly till now  (A42) furniture/equipment         7882                (A61) ... <  100 DM  (A74) 4  <= ... < 7 years                 2                      (A93) male   : single         (A103) guarantor                  4  (A122) if not A121 : building society savings ...   45       (A143) none  (A153) for free                 1  (A173) skilled employee / official           2                                      (A191) none  (A201) yes              1\n4         (A11) ... <    0 DM             24           (A33) delay in paying off in the past            (A40) car (new)         4870                (A61) ... <  100 DM  (A73) 1  <= ... < 4 years                 3                      (A93) male   : single              (A101) none                  4                       (A124) unknown / no property   53       (A143) none  (A153) for free                 2  (A173) skilled employee / official           2                                      (A191) none  (A201) yes              2\n5   (A14) no checking account             36  (A32) existing credits paid back duly till now            (A46) education         9055  (A65) unknown/ no savings account  (A73) 1  <= ... < 4 years                 2                      (A93) male   : single              (A101) none                  4                       (A124) unknown / no property   35       (A143) none  (A153) for free                 1         (A172) unskilled - resident           2  (A192) yes, registered under the customers name  (A201) yes              1\n6   (A14) no checking account             24  (A32) existing credits paid back duly till now  (A42) furniture/equipment         2835         (A63) 500 <= ... < 1000 DM        (A75) .. >= 7 years                 3                      (A93) male   : single              (A101) none                  4  (A122) if not A121 : building society savings ...   53       (A143) none       (A152) own                 1  (A173) skilled employee / official           1                                      (A191) none  (A201) yes              1\n7    (A12) 0 <= ... <  200 DM             36  (A32) existing credits paid back duly till now           (A41) car (used)         6948                (A61) ... <  100 DM  (A73) 1  <= ... < 4 years                 2                      (A93) male   : single              (A101) none                  2  (A123) if not A121/A122 : car or other, not in...   35       (A143) none      (A151) rent                 1   (A174) management/ self-employed/           1  (A192) yes, registered under the customers name  (A201) yes              1\n8   (A14) no checking account             12  (A32) existing credits paid back duly till now     (A43) radio/television         3059                (A64) .. >= 1000 DM  (A74) 4  <= ... < 7 years                 2          (A91) male   : divorced/separated              (A101) none                  4                                 (A121) real estate   61       (A143) none       (A152) own                 1         (A172) unskilled - resident           1                                      (A191) none  (A201) yes              1\n9    (A12) 0 <= ... <  200 DM             30                         (A34) critical account/            (A40) car (new)         5234                (A61) ... <  100 DM           (A71) unemployed                 4             (A94) male   : married/widowed              (A101) none                  2  (A123) if not A121/A122 : car or other, not in...   28       (A143) none       (A152) own                 2   (A174) management/ self-employed/           1                                      (A191) none  (A201) yes              2\n10   (A12) 0 <= ... <  200 DM             12  (A32) existing credits paid back duly till now            (A40) car (new)         1295                (A61) ... <  100 DM         (A72) ... < 1 year                 3  (A92) female : divorced/separated/married              (A101) none                  1  (A123) if not A121/A122 : car or other, not in...   25       (A143) none      (A151) rent                 1  (A173) skilled employee / official           1                                      (A191) none  (A201) yes              2\n11        (A11) ... <    0 DM             48  (A32) existing credits paid back duly till now             (A49) business         4308                (A61) ... <  100 DM         (A72) ... < 1 year                 3  (A92) female : divorced/separated/married              (A101) none                  4  (A122) if not A121 : building society savings ...   24       (A143) none      (A151) rent                 1  (A173) skilled employee / official           1                                      (A191) none  (A201) yes              2\n12   (A12) 0 <= ... <  200 DM             12  (A32) existing credits paid back duly till now     (A43) radio/television         1567                (A61) ... <  100 DM  (A73) 1  <= ... < 4 years                 1  (A92) female : divorced/separated/married              (A101) none                  1  (A123) if not A121/A122 : car or other, not in...   22       (A143) none       (A152) own                 1  (A173) skilled employee / official           1  (A192) yes, registered under the customers name  (A201) yes              1\n13        (A11) ... <    0 DM             24                         (A34) critical account/            (A40) car (new)         1199                (A61) ... <  100 DM        (A75) .. >= 7 years                 4                      (A93) male   : single              (A101) none                  4  (A123) if not A121/A122 : car or other, not in...   60       (A143) none       (A152) own                 2         (A172) unskilled - resident           1                                      (A191) none  (A201) yes              2\n14        (A11) ... <    0 DM             15  (A32) existing credits paid back duly till now            (A40) car (new)         1403                (A61) ... <  100 DM  (A73) 1  <= ... < 4 years                 2  (A92) female : divorced/separated/married              (A101) none                  4  (A123) if not A121/A122 : car or other, not in...   28       (A143) none      (A151) rent                 1  (A173) skilled employee / official           1                                      (A191) none  (A201) yes              1\n15        (A11) ... <    0 DM             24  (A32) existing credits paid back duly till now     (A43) radio/television         1282         (A62) 100 <= ... <  500 DM  (A73) 1  <= ... < 4 years                 4  (A92) female : divorced/separated/married              (A101) none                  2  (A123) if not A121/A122 : car or other, not in...   32       (A143) none       (A152) own                 1         (A172) unskilled - resident           1                                      (A191) none  (A201) yes              2\n16  (A14) no checking account             24                         (A34) critical account/     (A43) radio/television         2424  (A65) unknown/ no savings account        (A75) .. >= 7 years                 4                      (A93) male   : single              (A101) none                  4  (A122) if not A121 : building society savings ...   53       (A143) none       (A152) own                 2  (A173) skilled employee / official           1                                      (A191) none  (A201) yes              1\n17        (A11) ... <    0 DM             30                         (A30) no credits taken/             (A49) business         8072  (A65) unknown/ no savings account         (A72) ... < 1 year                 2                      (A93) male   : single              (A101) none                  3  (A123) if not A121/A122 : car or other, not in...   25       (A141) bank       (A152) own                 3  (A173) skilled employee / official           1                                      (A191) none  (A201) yes              1\n18   (A12) 0 <= ... <  200 DM             24  (A32) existing credits paid back duly till now           (A41) car (used)        12579                (A61) ... <  100 DM        (A75) .. >= 7 years                 4  (A92) female : divorced/separated/married              (A101) none                  2                       (A124) unknown / no property   44       (A143) none  (A153) for free                 1   (A174) management/ self-employed/           1  (A192) yes, registered under the customers name  (A201) yes              2\n19  (A14) no checking account             24  (A32) existing credits paid back duly till now     (A43) radio/television         3430         (A63) 500 <= ... < 1000 DM        (A75) .. >= 7 years                 3                      (A93) male   : single              (A101) none                  2  (A123) if not A121/A122 : car or other, not in...   31       (A143) none       (A152) own                 1  (A173) skilled employee / official           2  (A192) yes, registered under the customers name  (A201) yes              1",
      "text/html": "<div>\n<style scoped>\n    .dataframe tbody tr th:only-of-type {\n        vertical-align: middle;\n    }\n\n    .dataframe tbody tr th {\n        vertical-align: top;\n    }\n\n    .dataframe thead th {\n        text-align: right;\n    }\n</style>\n<table border=\"1\" class=\"dataframe\">\n  <thead>\n    <tr style=\"text-align: right;\">\n      <th></th>\n      <th>Account_Balance</th>\n      <th>Loan_Duration</th>\n      <th>Credit_History</th>\n      <th>Loan_Purpose</th>\n      <th>Loan_Amount</th>\n      <th>Savings</th>\n      <th>Years_Employed</th>\n      <th>Installment_Rate</th>\n      <th>Gender_and_Status</th>\n      <th>Other_Debtors_Guarantors</th>\n      <th>Year_of_Residence</th>\n      <th>Property</th>\n      <th>Age</th>\n      <th>Installment_Plans</th>\n      <th>Housing</th>\n      <th>Existing_Credits</th>\n      <th>Job</th>\n      <th>Dependents</th>\n      <th>Telephone</th>\n      <th>Foreign</th>\n      <th>Credit_Rating</th>\n    </tr>\n  </thead>\n  <tbody>\n    <tr>\n      <th>0</th>\n      <td>(A11) ... &lt;    0 DM</td>\n      <td>6</td>\n      <td>(A34) critical account/</td>\n      <td>(A43) radio/television</td>\n      <td>1169</td>\n      <td>(A65) unknown/ no savings account</td>\n      <td>(A75) .. &gt;= 7 years</td>\n      <td>4</td>\n      <td>(A93) male   : single</td>\n      <td>(A101) none</td>\n      <td>4</td>\n      <td>(A121) real estate</td>\n      <td>67</td>\n      <td>(A143) none</td>\n      <td>(A152) own</td>\n      <td>2</td>\n      <td>(A173) skilled employee / official</td>\n      <td>1</td>\n      <td>(A192) yes, registered under the customers name</td>\n      <td>(A201) yes</td>\n      <td>1</td>\n    </tr>\n    <tr>\n      <th>1</th>\n      <td>(A12) 0 &lt;= ... &lt;  200 DM</td>\n      <td>48</td>\n      <td>(A32) existing credits paid back duly till now</td>\n      <td>(A43) radio/television</td>\n      <td>5951</td>\n      <td>(A61) ... &lt;  100 DM</td>\n      <td>(A73) 1  &lt;= ... &lt; 4 years</td>\n      <td>2</td>\n      <td>(A92) female : divorced/separated/married</td>\n      <td>(A101) none</td>\n      <td>2</td>\n      <td>(A121) real estate</td>\n      <td>22</td>\n      <td>(A143) none</td>\n      <td>(A152) own</td>\n      <td>1</td>\n      <td>(A173) skilled employee / official</td>\n      <td>1</td>\n      <td>(A191) none</td>\n      <td>(A201) yes</td>\n      <td>2</td>\n    </tr>\n    <tr>\n      <th>2</th>\n      <td>(A14) no checking account</td>\n      <td>12</td>\n      <td>(A34) critical account/</td>\n      <td>(A46) education</td>\n      <td>2096</td>\n      <td>(A61) ... &lt;  100 DM</td>\n      <td>(A74) 4  &lt;= ... &lt; 7 years</td>\n      <td>2</td>\n      <td>(A93) male   : single</td>\n      <td>(A101) none</td>\n      <td>3</td>\n      <td>(A121) real estate</td>\n      <td>49</td>\n      <td>(A143) none</td>\n      <td>(A152) own</td>\n      <td>1</td>\n      <td>(A172) unskilled - resident</td>\n      <td>2</td>\n      <td>(A191) none</td>\n      <td>(A201) yes</td>\n      <td>1</td>\n    </tr>\n    <tr>\n      <th>3</th>\n      <td>(A11) ... &lt;    0 DM</td>\n      <td>42</td>\n      <td>(A32) existing credits paid back duly till now</td>\n      <td>(A42) furniture/equipment</td>\n      <td>7882</td>\n      <td>(A61) ... &lt;  100 DM</td>\n      <td>(A74) 4  &lt;= ... &lt; 7 years</td>\n      <td>2</td>\n      <td>(A93) male   : single</td>\n      <td>(A103) guarantor</td>\n      <td>4</td>\n      <td>(A122) if not A121 : building society savings ...</td>\n      <td>45</td>\n      <td>(A143) none</td>\n      <td>(A153) for free</td>\n      <td>1</td>\n      <td>(A173) skilled employee / official</td>\n      <td>2</td>\n      <td>(A191) none</td>\n      <td>(A201) yes</td>\n      <td>1</td>\n    </tr>\n    <tr>\n      <th>4</th>\n      <td>(A11) ... &lt;    0 DM</td>\n      <td>24</td>\n      <td>(A33) delay in paying off in the past</td>\n      <td>(A40) car (new)</td>\n      <td>4870</td>\n      <td>(A61) ... &lt;  100 DM</td>\n      <td>(A73) 1  &lt;= ... &lt; 4 years</td>\n      <td>3</td>\n      <td>(A93) male   : single</td>\n      <td>(A101) none</td>\n      <td>4</td>\n      <td>(A124) unknown / no property</td>\n      <td>53</td>\n      <td>(A143) none</td>\n      <td>(A153) for free</td>\n      <td>2</td>\n      <td>(A173) skilled employee / official</td>\n      <td>2</td>\n      <td>(A191) none</td>\n      <td>(A201) yes</td>\n      <td>2</td>\n    </tr>\n    <tr>\n      <th>5</th>\n      <td>(A14) no checking account</td>\n      <td>36</td>\n      <td>(A32) existing credits paid back duly till now</td>\n      <td>(A46) education</td>\n      <td>9055</td>\n      <td>(A65) unknown/ no savings account</td>\n      <td>(A73) 1  &lt;= ... &lt; 4 years</td>\n      <td>2</td>\n      <td>(A93) male   : single</td>\n      <td>(A101) none</td>\n      <td>4</td>\n      <td>(A124) unknown / no property</td>\n      <td>35</td>\n      <td>(A143) none</td>\n      <td>(A153) for free</td>\n      <td>1</td>\n      <td>(A172) unskilled - resident</td>\n      <td>2</td>\n      <td>(A192) yes, registered under the customers name</td>\n      <td>(A201) yes</td>\n      <td>1</td>\n    </tr>\n    <tr>\n      <th>6</th>\n      <td>(A14) no checking account</td>\n      <td>24</td>\n      <td>(A32) existing credits paid back duly till now</td>\n      <td>(A42) furniture/equipment</td>\n      <td>2835</td>\n      <td>(A63) 500 &lt;= ... &lt; 1000 DM</td>\n      <td>(A75) .. &gt;= 7 years</td>\n      <td>3</td>\n      <td>(A93) male   : single</td>\n      <td>(A101) none</td>\n      <td>4</td>\n      <td>(A122) if not A121 : building society savings ...</td>\n      <td>53</td>\n      <td>(A143) none</td>\n      <td>(A152) own</td>\n      <td>1</td>\n      <td>(A173) skilled employee / official</td>\n      <td>1</td>\n      <td>(A191) none</td>\n      <td>(A201) yes</td>\n      <td>1</td>\n    </tr>\n    <tr>\n      <th>7</th>\n      <td>(A12) 0 &lt;= ... &lt;  200 DM</td>\n      <td>36</td>\n      <td>(A32) existing credits paid back duly till now</td>\n      <td>(A41) car (used)</td>\n      <td>6948</td>\n      <td>(A61) ... &lt;  100 DM</td>\n      <td>(A73) 1  &lt;= ... &lt; 4 years</td>\n      <td>2</td>\n      <td>(A93) male   : single</td>\n      <td>(A101) none</td>\n      <td>2</td>\n      <td>(A123) if not A121/A122 : car or other, not in...</td>\n      <td>35</td>\n      <td>(A143) none</td>\n      <td>(A151) rent</td>\n      <td>1</td>\n      <td>(A174) management/ self-employed/</td>\n      <td>1</td>\n      <td>(A192) yes, registered under the customers name</td>\n      <td>(A201) yes</td>\n      <td>1</td>\n    </tr>\n    <tr>\n      <th>8</th>\n      <td>(A14) no checking account</td>\n      <td>12</td>\n      <td>(A32) existing credits paid back duly till now</td>\n      <td>(A43) radio/television</td>\n      <td>3059</td>\n      <td>(A64) .. &gt;= 1000 DM</td>\n      <td>(A74) 4  &lt;= ... &lt; 7 years</td>\n      <td>2</td>\n      <td>(A91) male   : divorced/separated</td>\n      <td>(A101) none</td>\n      <td>4</td>\n      <td>(A121) real estate</td>\n      <td>61</td>\n      <td>(A143) none</td>\n      <td>(A152) own</td>\n      <td>1</td>\n      <td>(A172) unskilled - resident</td>\n      <td>1</td>\n      <td>(A191) none</td>\n      <td>(A201) yes</td>\n      <td>1</td>\n    </tr>\n    <tr>\n      <th>9</th>\n      <td>(A12) 0 &lt;= ... &lt;  200 DM</td>\n      <td>30</td>\n      <td>(A34) critical account/</td>\n      <td>(A40) car (new)</td>\n      <td>5234</td>\n      <td>(A61) ... &lt;  100 DM</td>\n      <td>(A71) unemployed</td>\n      <td>4</td>\n      <td>(A94) male   : married/widowed</td>\n      <td>(A101) none</td>\n      <td>2</td>\n      <td>(A123) if not A121/A122 : car or other, not in...</td>\n      <td>28</td>\n      <td>(A143) none</td>\n      <td>(A152) own</td>\n      <td>2</td>\n      <td>(A174) management/ self-employed/</td>\n      <td>1</td>\n      <td>(A191) none</td>\n      <td>(A201) yes</td>\n      <td>2</td>\n    </tr>\n    <tr>\n      <th>10</th>\n      <td>(A12) 0 &lt;= ... &lt;  200 DM</td>\n      <td>12</td>\n      <td>(A32) existing credits paid back duly till now</td>\n      <td>(A40) car (new)</td>\n      <td>1295</td>\n      <td>(A61) ... &lt;  100 DM</td>\n      <td>(A72) ... &lt; 1 year</td>\n      <td>3</td>\n      <td>(A92) female : divorced/separated/married</td>\n      <td>(A101) none</td>\n      <td>1</td>\n      <td>(A123) if not A121/A122 : car or other, not in...</td>\n      <td>25</td>\n      <td>(A143) none</td>\n      <td>(A151) rent</td>\n      <td>1</td>\n      <td>(A173) skilled employee / official</td>\n      <td>1</td>\n      <td>(A191) none</td>\n      <td>(A201) yes</td>\n      <td>2</td>\n    </tr>\n    <tr>\n      <th>11</th>\n      <td>(A11) ... &lt;    0 DM</td>\n      <td>48</td>\n      <td>(A32) existing credits paid back duly till now</td>\n      <td>(A49) business</td>\n      <td>4308</td>\n      <td>(A61) ... &lt;  100 DM</td>\n      <td>(A72) ... &lt; 1 year</td>\n      <td>3</td>\n      <td>(A92) female : divorced/separated/married</td>\n      <td>(A101) none</td>\n      <td>4</td>\n      <td>(A122) if not A121 : building society savings ...</td>\n      <td>24</td>\n      <td>(A143) none</td>\n      <td>(A151) rent</td>\n      <td>1</td>\n      <td>(A173) skilled employee / official</td>\n      <td>1</td>\n      <td>(A191) none</td>\n      <td>(A201) yes</td>\n      <td>2</td>\n    </tr>\n    <tr>\n      <th>12</th>\n      <td>(A12) 0 &lt;= ... &lt;  200 DM</td>\n      <td>12</td>\n      <td>(A32) existing credits paid back duly till now</td>\n      <td>(A43) radio/television</td>\n      <td>1567</td>\n      <td>(A61) ... &lt;  100 DM</td>\n      <td>(A73) 1  &lt;= ... &lt; 4 years</td>\n      <td>1</td>\n      <td>(A92) female : divorced/separated/married</td>\n      <td>(A101) none</td>\n      <td>1</td>\n      <td>(A123) if not A121/A122 : car or other, not in...</td>\n      <td>22</td>\n      <td>(A143) none</td>\n      <td>(A152) own</td>\n      <td>1</td>\n      <td>(A173) skilled employee / official</td>\n      <td>1</td>\n      <td>(A192) yes, registered under the customers name</td>\n      <td>(A201) yes</td>\n      <td>1</td>\n    </tr>\n    <tr>\n      <th>13</th>\n      <td>(A11) ... &lt;    0 DM</td>\n      <td>24</td>\n      <td>(A34) critical account/</td>\n      <td>(A40) car (new)</td>\n      <td>1199</td>\n      <td>(A61) ... &lt;  100 DM</td>\n      <td>(A75) .. &gt;= 7 years</td>\n      <td>4</td>\n      <td>(A93) male   : single</td>\n      <td>(A101) none</td>\n      <td>4</td>\n      <td>(A123) if not A121/A122 : car or other, not in...</td>\n      <td>60</td>\n      <td>(A143) none</td>\n      <td>(A152) own</td>\n      <td>2</td>\n      <td>(A172) unskilled - resident</td>\n      <td>1</td>\n      <td>(A191) none</td>\n      <td>(A201) yes</td>\n      <td>2</td>\n    </tr>\n    <tr>\n      <th>14</th>\n      <td>(A11) ... &lt;    0 DM</td>\n      <td>15</td>\n      <td>(A32) existing credits paid back duly till now</td>\n      <td>(A40) car (new)</td>\n      <td>1403</td>\n      <td>(A61) ... &lt;  100 DM</td>\n      <td>(A73) 1  &lt;= ... &lt; 4 years</td>\n      <td>2</td>\n      <td>(A92) female : divorced/separated/married</td>\n      <td>(A101) none</td>\n      <td>4</td>\n      <td>(A123) if not A121/A122 : car or other, not in...</td>\n      <td>28</td>\n      <td>(A143) none</td>\n      <td>(A151) rent</td>\n      <td>1</td>\n      <td>(A173) skilled employee / official</td>\n      <td>1</td>\n      <td>(A191) none</td>\n      <td>(A201) yes</td>\n      <td>1</td>\n    </tr>\n    <tr>\n      <th>15</th>\n      <td>(A11) ... &lt;    0 DM</td>\n      <td>24</td>\n      <td>(A32) existing credits paid back duly till now</td>\n      <td>(A43) radio/television</td>\n      <td>1282</td>\n      <td>(A62) 100 &lt;= ... &lt;  500 DM</td>\n      <td>(A73) 1  &lt;= ... &lt; 4 years</td>\n      <td>4</td>\n      <td>(A92) female : divorced/separated/married</td>\n      <td>(A101) none</td>\n      <td>2</td>\n      <td>(A123) if not A121/A122 : car or other, not in...</td>\n      <td>32</td>\n      <td>(A143) none</td>\n      <td>(A152) own</td>\n      <td>1</td>\n      <td>(A172) unskilled - resident</td>\n      <td>1</td>\n      <td>(A191) none</td>\n      <td>(A201) yes</td>\n      <td>2</td>\n    </tr>\n    <tr>\n      <th>16</th>\n      <td>(A14) no checking account</td>\n      <td>24</td>\n      <td>(A34) critical account/</td>\n      <td>(A43) radio/television</td>\n      <td>2424</td>\n      <td>(A65) unknown/ no savings account</td>\n      <td>(A75) .. &gt;= 7 years</td>\n      <td>4</td>\n      <td>(A93) male   : single</td>\n      <td>(A101) none</td>\n      <td>4</td>\n      <td>(A122) if not A121 : building society savings ...</td>\n      <td>53</td>\n      <td>(A143) none</td>\n      <td>(A152) own</td>\n      <td>2</td>\n      <td>(A173) skilled employee / official</td>\n      <td>1</td>\n      <td>(A191) none</td>\n      <td>(A201) yes</td>\n      <td>1</td>\n    </tr>\n    <tr>\n      <th>17</th>\n      <td>(A11) ... &lt;    0 DM</td>\n      <td>30</td>\n      <td>(A30) no credits taken/</td>\n      <td>(A49) business</td>\n      <td>8072</td>\n      <td>(A65) unknown/ no savings account</td>\n      <td>(A72) ... &lt; 1 year</td>\n      <td>2</td>\n      <td>(A93) male   : single</td>\n      <td>(A101) none</td>\n      <td>3</td>\n      <td>(A123) if not A121/A122 : car or other, not in...</td>\n      <td>25</td>\n      <td>(A141) bank</td>\n      <td>(A152) own</td>\n      <td>3</td>\n      <td>(A173) skilled employee / official</td>\n      <td>1</td>\n      <td>(A191) none</td>\n      <td>(A201) yes</td>\n      <td>1</td>\n    </tr>\n    <tr>\n      <th>18</th>\n      <td>(A12) 0 &lt;= ... &lt;  200 DM</td>\n      <td>24</td>\n      <td>(A32) existing credits paid back duly till now</td>\n      <td>(A41) car (used)</td>\n      <td>12579</td>\n      <td>(A61) ... &lt;  100 DM</td>\n      <td>(A75) .. &gt;= 7 years</td>\n      <td>4</td>\n      <td>(A92) female : divorced/separated/married</td>\n      <td>(A101) none</td>\n      <td>2</td>\n      <td>(A124) unknown / no property</td>\n      <td>44</td>\n      <td>(A143) none</td>\n      <td>(A153) for free</td>\n      <td>1</td>\n      <td>(A174) management/ self-employed/</td>\n      <td>1</td>\n      <td>(A192) yes, registered under the customers name</td>\n      <td>(A201) yes</td>\n      <td>2</td>\n    </tr>\n    <tr>\n      <th>19</th>\n      <td>(A14) no checking account</td>\n      <td>24</td>\n      <td>(A32) existing credits paid back duly till now</td>\n      <td>(A43) radio/television</td>\n      <td>3430</td>\n      <td>(A63) 500 &lt;= ... &lt; 1000 DM</td>\n      <td>(A75) .. &gt;= 7 years</td>\n      <td>3</td>\n      <td>(A93) male   : single</td>\n      <td>(A101) none</td>\n      <td>2</td>\n      <td>(A123) if not A121/A122 : car or other, not in...</td>\n      <td>31</td>\n      <td>(A143) none</td>\n      <td>(A152) own</td>\n      <td>1</td>\n      <td>(A173) skilled employee / official</td>\n      <td>2</td>\n      <td>(A192) yes, registered under the customers name</td>\n      <td>(A201) yes</td>\n      <td>1</td>\n    </tr>\n  </tbody>\n</table>\n</div>"
     },
     "execution_count": 154,
     "metadata": {},
     "output_type": "execute_result"
    }
   ],
   "source": [
    "df = pd.read_pickle(f\"{ROOT}/data/labeled.pkl\")\n",
    "print(df.shape)\n",
    "df.head(20)"
   ],
   "metadata": {
    "collapsed": false,
    "ExecuteTime": {
     "end_time": "2024-01-26T15:29:18.917192700Z",
     "start_time": "2024-01-26T15:29:18.833601600Z"
    }
   },
   "id": "1cc249be3919ec46",
   "execution_count": 154
  },
  {
   "cell_type": "markdown",
   "source": [
    "## Quiz\n",
    "\n",
    "# Q1: \n",
    "what is the total of `Loan_Amount`?"
   ],
   "metadata": {
    "collapsed": false
   },
   "id": "f4b85a43a0f1e05f"
  },
  {
   "cell_type": "code",
   "outputs": [
    {
     "data": {
      "text/plain": "3271258"
     },
     "execution_count": 155,
     "metadata": {},
     "output_type": "execute_result"
    }
   ],
   "source": [
    "df['Loan_Amount'].sum()"
   ],
   "metadata": {
    "collapsed": false,
    "ExecuteTime": {
     "end_time": "2024-01-26T15:29:18.921236900Z",
     "start_time": "2024-01-26T15:29:18.891649500Z"
    }
   },
   "id": "74c332f6b7048754",
   "execution_count": 155
  },
  {
   "cell_type": "markdown",
   "source": [
    "# Q2:\n",
    "What is the mean `Loan_Duration` to 2DP?"
   ],
   "metadata": {
    "collapsed": false
   },
   "id": "f719d427b3a4b01e"
  },
  {
   "cell_type": "code",
   "outputs": [
    {
     "data": {
      "text/plain": "20.903"
     },
     "execution_count": 156,
     "metadata": {},
     "output_type": "execute_result"
    }
   ],
   "source": [
    "df['Loan_Duration'].mean()"
   ],
   "metadata": {
    "collapsed": false,
    "ExecuteTime": {
     "end_time": "2024-01-26T15:29:18.991186400Z",
     "start_time": "2024-01-26T15:29:18.924943Z"
    }
   },
   "id": "552d9e9d581d3894",
   "execution_count": 156
  },
  {
   "cell_type": "markdown",
   "source": [
    "# Q3:\n",
    "What is the standard deviation of `Loan_Amount` (to 2DP)?"
   ],
   "metadata": {
    "collapsed": false
   },
   "id": "5a14eff5b10b3acf"
  },
  {
   "cell_type": "code",
   "outputs": [
    {
     "data": {
      "text/plain": "2822.73687596044"
     },
     "execution_count": 157,
     "metadata": {},
     "output_type": "execute_result"
    }
   ],
   "source": [
    "df['Loan_Amount'].std()"
   ],
   "metadata": {
    "collapsed": false,
    "ExecuteTime": {
     "end_time": "2024-01-26T15:29:19.015005200Z",
     "start_time": "2024-01-26T15:29:18.942421100Z"
    }
   },
   "id": "596685212eb5af69",
   "execution_count": 157
  },
  {
   "cell_type": "markdown",
   "source": [
    "# Q4:\n",
    "What is the mean `Loan_Amount` for applications that have `Year_of_Residence` equal to `1` (answer to 2DP)?"
   ],
   "metadata": {
    "collapsed": false
   },
   "id": "d1ff9b0248e19ccc"
  },
  {
   "cell_type": "code",
   "outputs": [
    {
     "data": {
      "text/plain": "2926.776923076923"
     },
     "execution_count": 158,
     "metadata": {},
     "output_type": "execute_result"
    }
   ],
   "source": [
    "df[df['Year_of_Residence']==1]['Loan_Amount'].mean()"
   ],
   "metadata": {
    "collapsed": false,
    "ExecuteTime": {
     "end_time": "2024-01-26T15:29:19.100526Z",
     "start_time": "2024-01-26T15:29:18.999965Z"
    }
   },
   "id": "cf0d95f337ba9941",
   "execution_count": 158
  },
  {
   "cell_type": "markdown",
   "source": [
    "# Q5:\n",
    "What is the range of `Loan_Amount`?"
   ],
   "metadata": {
    "collapsed": false
   },
   "id": "c543f697ee6153ba"
  },
  {
   "cell_type": "code",
   "outputs": [
    {
     "data": {
      "text/plain": "18174"
     },
     "execution_count": 159,
     "metadata": {},
     "output_type": "execute_result"
    }
   ],
   "source": [
    "df['Loan_Amount'].max() - df['Loan_Amount'].min()"
   ],
   "metadata": {
    "collapsed": false,
    "ExecuteTime": {
     "end_time": "2024-01-26T15:29:19.194414Z",
     "start_time": "2024-01-26T15:29:19.104618500Z"
    }
   },
   "id": "d8f4176c4aeb3309",
   "execution_count": 159
  },
  {
   "cell_type": "markdown",
   "source": [
    "# Q6:\n",
    "Classify the `Age` distribution as:\n",
    "\n",
    "a) Left Skewed\n",
    "b) Symmetric\n",
    "c) Right Skewed"
   ],
   "metadata": {
    "collapsed": false
   },
   "id": "c4a3902d2a541bc9"
  },
  {
   "cell_type": "code",
   "outputs": [
    {
     "name": "stderr",
     "output_type": "stream",
     "text": [
      "C:\\ProgramData\\anaconda3\\Lib\\site-packages\\seaborn\\_oldcore.py:1498: FutureWarning: is_categorical_dtype is deprecated and will be removed in a future version. Use isinstance(dtype, CategoricalDtype) instead\n",
      "  if pd.api.types.is_categorical_dtype(vector):\n",
      "C:\\ProgramData\\anaconda3\\Lib\\site-packages\\seaborn\\_oldcore.py:1119: FutureWarning: use_inf_as_na option is deprecated and will be removed in a future version. Convert inf values to NaN before operating instead.\n",
      "  with pd.option_context('mode.use_inf_as_na', True):\n"
     ]
    },
    {
     "data": {
      "text/plain": "<Axes: xlabel='Age', ylabel='Count'>"
     },
     "execution_count": 160,
     "metadata": {},
     "output_type": "execute_result"
    },
    {
     "data": {
      "text/plain": "<Figure size 640x480 with 1 Axes>",
      "image/png": "[encoded data removed]"
     },
     "metadata": {},
     "output_type": "display_data"
    }
   ],
   "source": [
    "sns.histplot(data=df, x='Age', kde=True)"
   ],
   "metadata": {
    "collapsed": false,
    "ExecuteTime": {
     "end_time": "2024-01-26T15:29:19.528956400Z",
     "start_time": "2024-01-26T15:29:19.192412Z"
    }
   },
   "id": "946eed2c78ef3b9f",
   "execution_count": 160
  },
  {
   "cell_type": "markdown",
   "source": [
    "# Q7:\n",
    "\n",
    "What is the interquartile range (IQR) of `Loan_Amount` (to 2DP)?"
   ],
   "metadata": {
    "collapsed": false
   },
   "id": "50c3a50081019ad0"
  },
  {
   "cell_type": "code",
   "outputs": [
    {
     "data": {
      "text/plain": "2606.75"
     },
     "execution_count": 161,
     "metadata": {},
     "output_type": "execute_result"
    }
   ],
   "source": [
    "upper = df['Loan_Amount'].quantile(0.75)\n",
    "lower = df['Loan_Amount'].quantile(0.25)\n",
    "upper - lower"
   ],
   "metadata": {
    "collapsed": false,
    "ExecuteTime": {
     "end_time": "2024-01-26T15:29:19.671495Z",
     "start_time": "2024-01-26T15:29:19.531479Z"
    }
   },
   "id": "ea0a1794e61103de",
   "execution_count": 161
  },
  {
   "cell_type": "markdown",
   "source": [
    "# Q8:\n",
    "\n",
    "Using the 1.5*IQR from the quartiles rule, how many outlier observations are in `Loan_Amount`?"
   ],
   "metadata": {
    "collapsed": false
   },
   "id": "471f28b9821032bc"
  },
  {
   "cell_type": "code",
   "outputs": [
    {
     "data": {
      "text/plain": "72"
     },
     "execution_count": 162,
     "metadata": {},
     "output_type": "execute_result"
    }
   ],
   "source": [
    "upper = df['Loan_Amount'].quantile(0.75)\n",
    "lower = df['Loan_Amount'].quantile(0.25)\n",
    "iqr = upper - lower\n",
    "upper = upper + 1.5*iqr\n",
    "lower = lower - 1.5*iqr\n",
    "df[(df['Loan_Amount']<lower) | (df['Loan_Amount']>upper)].shape[0]"
   ],
   "metadata": {
    "collapsed": false,
    "ExecuteTime": {
     "end_time": "2024-01-26T15:29:19.672478Z",
     "start_time": "2024-01-26T15:29:19.540894500Z"
    }
   },
   "id": "406f5ae94e5ce4c2",
   "execution_count": 162
  },
  {
   "cell_type": "markdown",
   "source": [
    "# Q9:\n",
    "\n",
    "What is the third most popular reason cited for loan?"
   ],
   "metadata": {
    "collapsed": false
   },
   "id": "4e6a8b1e60f640ea"
  },
  {
   "cell_type": "code",
   "outputs": [
    {
     "data": {
      "text/plain": "'(A42) furniture/equipment'"
     },
     "execution_count": 163,
     "metadata": {},
     "output_type": "execute_result"
    }
   ],
   "source": [
    "df['Loan_Purpose'].value_counts().index[2]"
   ],
   "metadata": {
    "collapsed": false,
    "ExecuteTime": {
     "end_time": "2024-01-26T15:29:19.771455200Z",
     "start_time": "2024-01-26T15:29:19.558574Z"
    }
   },
   "id": "941854535d6ac662",
   "execution_count": 163
  },
  {
   "cell_type": "markdown",
   "source": [
    "# Q10:\n",
    "\n",
    "How many distinct reasons are cited for asking for a loan?"
   ],
   "metadata": {
    "collapsed": false
   },
   "id": "983ec833106f532b"
  },
  {
   "cell_type": "code",
   "outputs": [
    {
     "data": {
      "text/plain": "10"
     },
     "execution_count": 164,
     "metadata": {},
     "output_type": "execute_result"
    }
   ],
   "source": [
    "df['Loan_Purpose'].nunique()"
   ],
   "metadata": {
    "collapsed": false,
    "ExecuteTime": {
     "end_time": "2024-01-26T15:29:19.772611900Z",
     "start_time": "2024-01-26T15:29:19.570698600Z"
    }
   },
   "id": "227681494db87245",
   "execution_count": 164
  },
  {
   "cell_type": "markdown",
   "source": [
    "# Q11:\n",
    "Which reason cited for loan has the highest rate of bad claims?"
   ],
   "metadata": {
    "collapsed": false
   },
   "id": "d3bf56840145a510"
  },
  {
   "cell_type": "code",
   "outputs": [
    {
     "name": "stderr",
     "output_type": "stream",
     "text": [
      "C:\\Users\\micha\\AppData\\Local\\Temp\\ipykernel_27720\\3673923373.py:1: FutureWarning: The default of observed=False is deprecated and will be changed to True in a future version of pandas. Pass observed=False to retain current behavior or observed=True to adopt the future default and silence this warning.\n",
      "  df.groupby(\"Loan_Purpose\")[\"Credit_Rating\"].mean().sort_values(ascending=False).index[0]\n"
     ]
    },
    {
     "data": {
      "text/plain": "'(A46) education'"
     },
     "execution_count": 165,
     "metadata": {},
     "output_type": "execute_result"
    }
   ],
   "source": [
    "df.groupby(\"Loan_Purpose\")[\"Credit_Rating\"].mean().sort_values(ascending=False).index[0]"
   ],
   "metadata": {
    "collapsed": false,
    "ExecuteTime": {
     "end_time": "2024-01-26T15:29:19.773679200Z",
     "start_time": "2024-01-26T15:29:19.580414Z"
    }
   },
   "id": "32e3cb3701aa94d0",
   "execution_count": 165
  },
  {
   "cell_type": "markdown",
   "source": [
    "# Q12:\n",
    "\n",
    "Which `Credit_History` has the lowest rate of bad claims?"
   ],
   "metadata": {
    "collapsed": false
   },
   "id": "9142482217afbf64"
  },
  {
   "cell_type": "code",
   "outputs": [
    {
     "name": "stderr",
     "output_type": "stream",
     "text": [
      "C:\\Users\\micha\\AppData\\Local\\Temp\\ipykernel_27720\\3852586029.py:1: FutureWarning: The default of observed=False is deprecated and will be changed to True in a future version of pandas. Pass observed=False to retain current behavior or observed=True to adopt the future default and silence this warning.\n",
      "  df.groupby('Credit_History')['Credit_Rating'].mean().sort_values(ascending=True).index[0]\n"
     ]
    },
    {
     "data": {
      "text/plain": "'(A34) critical account/'"
     },
     "execution_count": 166,
     "metadata": {},
     "output_type": "execute_result"
    }
   ],
   "source": [
    "df.groupby('Credit_History')['Credit_Rating'].mean().sort_values(ascending=True).index[0]"
   ],
   "metadata": {
    "collapsed": false,
    "ExecuteTime": {
     "end_time": "2024-01-26T15:29:19.775680200Z",
     "start_time": "2024-01-26T15:29:19.591508800Z"
    }
   },
   "id": "f539eaf47f5c969f",
   "execution_count": 166
  },
  {
   "cell_type": "markdown",
   "source": [
    "# Q13:\n",
    "\n",
    "What is the average age of applicants that have `Credit_Rating` of Bad?"
   ],
   "metadata": {
    "collapsed": false
   },
   "id": "d1e294a9c42c3d68"
  },
  {
   "cell_type": "code",
   "outputs": [
    {
     "data": {
      "text/plain": "33.96333333333333"
     },
     "execution_count": 167,
     "metadata": {},
     "output_type": "execute_result"
    }
   ],
   "source": [
    "df[df['Credit_Rating']==2]['Age'].mean()"
   ],
   "metadata": {
    "collapsed": false,
    "ExecuteTime": {
     "end_time": "2024-01-26T15:29:19.776677800Z",
     "start_time": "2024-01-26T15:29:19.601335100Z"
    }
   },
   "id": "ebefca8cea7552b5",
   "execution_count": 167
  },
  {
   "cell_type": "markdown",
   "source": [
    "# Q14:\n",
    "\n",
    "How many reasons cited for loans have a mean `Loan_Duration` greater than the mean of `Loan_Duration` overall?"
   ],
   "metadata": {
    "collapsed": false
   },
   "id": "6098a844f172a23b"
  },
  {
   "cell_type": "code",
   "outputs": [
    {
     "name": "stdout",
     "output_type": "stream",
     "text": [
      "(A46) education\n",
      "(A41) car (used)\n",
      "(A49) business\n",
      "(A410) others\n",
      "Total: 4\n"
     ]
    }
   ],
   "source": [
    "overall = df['Loan_Duration'].mean()\n",
    "\n",
    "i = 0\n",
    "for reason in df['Loan_Purpose'].unique():\n",
    "    mean = df[df['Loan_Purpose']==reason]['Loan_Duration'].mean()\n",
    "    if mean > overall:\n",
    "        print(reason)\n",
    "        i += 1\n",
    "print(\"Total:\", i)"
   ],
   "metadata": {
    "collapsed": false,
    "ExecuteTime": {
     "end_time": "2024-01-26T15:29:19.776677800Z",
     "start_time": "2024-01-26T15:29:19.611594900Z"
    }
   },
   "id": "9daafdf84d4c9206",
   "execution_count": 168
  },
  {
   "cell_type": "markdown",
   "source": [
    "# Q15:\n",
    "\n",
    "What is the correlation between `Loan_Duration` and `Loan_Amount` (to 2DP)?"
   ],
   "metadata": {
    "collapsed": false
   },
   "id": "963cbf24742e147c"
  },
  {
   "cell_type": "code",
   "outputs": [
    {
     "data": {
      "text/plain": "               Loan_Duration  Loan_Amount\nLoan_Duration       1.000000     0.624984\nLoan_Amount         0.624984     1.000000",
      "text/html": "<div>\n<style scoped>\n    .dataframe tbody tr th:only-of-type {\n        vertical-align: middle;\n    }\n\n    .dataframe tbody tr th {\n        vertical-align: top;\n    }\n\n    .dataframe thead th {\n        text-align: right;\n    }\n</style>\n<table border=\"1\" class=\"dataframe\">\n  <thead>\n    <tr style=\"text-align: right;\">\n      <th></th>\n      <th>Loan_Duration</th>\n      <th>Loan_Amount</th>\n    </tr>\n  </thead>\n  <tbody>\n    <tr>\n      <th>Loan_Duration</th>\n      <td>1.000000</td>\n      <td>0.624984</td>\n    </tr>\n    <tr>\n      <th>Loan_Amount</th>\n      <td>0.624984</td>\n      <td>1.000000</td>\n    </tr>\n  </tbody>\n</table>\n</div>"
     },
     "execution_count": 169,
     "metadata": {},
     "output_type": "execute_result"
    }
   ],
   "source": [
    "df[['Loan_Duration','Loan_Amount']].corr()"
   ],
   "metadata": {
    "collapsed": false,
    "ExecuteTime": {
     "end_time": "2024-01-26T15:29:19.788707100Z",
     "start_time": "2024-01-26T15:29:19.638745400Z"
    }
   },
   "id": "82607285b008119c",
   "execution_count": 169
  },
  {
   "cell_type": "markdown",
   "source": [
    "# Q16:\n",
    "\n",
    "What is the probability of an applicant is female? (enter answer as a decimal to 2DP)?"
   ],
   "metadata": {
    "collapsed": false
   },
   "id": "7511a0af1eca1995"
  },
  {
   "cell_type": "code",
   "outputs": [
    {
     "data": {
      "text/plain": "Gender_and_Status\n(A93) male   : single                        0.548\n(A92) female : divorced/separated/married    0.310\n(A94) male   : married/widowed               0.092\n(A91) male   : divorced/separated            0.050\nName: proportion, dtype: float64"
     },
     "execution_count": 170,
     "metadata": {},
     "output_type": "execute_result"
    }
   ],
   "source": [
    "df[\"Gender_and_Status\"].value_counts(normalize=True)"
   ],
   "metadata": {
    "collapsed": false,
    "ExecuteTime": {
     "end_time": "2024-01-26T15:29:19.791218Z",
     "start_time": "2024-01-26T15:29:19.658277200Z"
    }
   },
   "id": "c2400f8a9613357c",
   "execution_count": 170
  },
  {
   "cell_type": "markdown",
   "source": [
    "# Q17:\n",
    "\n",
    "What is the probability of an applicant that owns their own property, does not have a telephone? (enter answer as a decimal to 2DP)?"
   ],
   "metadata": {
    "collapsed": false
   },
   "id": "1a3e55ac355238d5"
  },
  {
   "cell_type": "code",
   "outputs": [
    {
     "data": {
      "text/plain": "Housing\n(A152) own         713\n(A151) rent        179\n(A153) for free    108\nName: count, dtype: int64"
     },
     "execution_count": 171,
     "metadata": {},
     "output_type": "execute_result"
    }
   ],
   "source": [
    "df[\"Housing\"].value_counts()"
   ],
   "metadata": {
    "collapsed": false,
    "ExecuteTime": {
     "end_time": "2024-01-26T15:29:20.021178Z",
     "start_time": "2024-01-26T15:29:19.794502400Z"
    }
   },
   "id": "3036c35c6dbfa253",
   "execution_count": 171
  },
  {
   "cell_type": "code",
   "outputs": [
    {
     "data": {
      "text/plain": "Telephone\n(A191) none                                        596\n(A192) yes, registered under the customers name    404\nName: count, dtype: int64"
     },
     "execution_count": 172,
     "metadata": {},
     "output_type": "execute_result"
    }
   ],
   "source": [
    "df[\"Telephone\"].value_counts()"
   ],
   "metadata": {
    "collapsed": false,
    "ExecuteTime": {
     "end_time": "2024-01-26T15:29:20.083532500Z",
     "start_time": "2024-01-26T15:29:19.995618700Z"
    }
   },
   "id": "4352f224d8f93160",
   "execution_count": 172
  },
  {
   "cell_type": "code",
   "outputs": [
    {
     "name": "stdout",
     "output_type": "stream",
     "text": [
      "0.6072931276297335\n"
     ]
    }
   ],
   "source": [
    "owns = df[df[\"Housing\"] == \"(A152) own\"]\n",
    "no_tel = df[(df[\"Housing\"] == \"(A152) own\") & (df[\"Telephone\"] == \"(A191) none\")]\n",
    "\n",
    "print(len(no_tel) / len(owns))"
   ],
   "metadata": {
    "collapsed": false,
    "ExecuteTime": {
     "end_time": "2024-01-26T15:29:20.165046900Z",
     "start_time": "2024-01-26T15:29:20.088055900Z"
    }
   },
   "id": "18910dbba627dccf",
   "execution_count": 173
  },
  {
   "cell_type": "markdown",
   "source": [
    "# Q18:\n",
    "\n",
    "Which categorical feature has the most impact on the target (using chi2 as the metric)?"
   ],
   "metadata": {
    "collapsed": false
   },
   "id": "66e419f6a7c5d291"
  },
  {
   "cell_type": "code",
   "outputs": [
    {
     "name": "stderr",
     "output_type": "stream",
     "text": [
      "C:\\ProgramData\\anaconda3\\Lib\\site-packages\\seaborn\\_oldcore.py:1498: FutureWarning: is_categorical_dtype is deprecated and will be removed in a future version. Use isinstance(dtype, CategoricalDtype) instead\n",
      "  if pd.api.types.is_categorical_dtype(vector):\n",
      "C:\\ProgramData\\anaconda3\\Lib\\site-packages\\seaborn\\_oldcore.py:1498: FutureWarning: is_categorical_dtype is deprecated and will be removed in a future version. Use isinstance(dtype, CategoricalDtype) instead\n",
      "  if pd.api.types.is_categorical_dtype(vector):\n",
      "C:\\ProgramData\\anaconda3\\Lib\\site-packages\\seaborn\\_oldcore.py:1498: FutureWarning: is_categorical_dtype is deprecated and will be removed in a future version. Use isinstance(dtype, CategoricalDtype) instead\n",
      "  if pd.api.types.is_categorical_dtype(vector):\n"
     ]
    },
    {
     "data": {
      "text/plain": "<Axes: >"
     },
     "execution_count": 174,
     "metadata": {},
     "output_type": "execute_result"
    },
    {
     "data": {
      "text/plain": "<Figure size 640x480 with 1 Axes>",
      "image/png": "[encoded data removed]"
     },
     "metadata": {},
     "output_type": "display_data"
    }
   ],
   "source": [
    "from sklearn.feature_selection import chi2\n",
    "\n",
    "cpy = df.copy()\n",
    "\n",
    "target = 'Credit_Rating'\n",
    "\n",
    "categorical_cols = df.select_dtypes(include='category').columns\n",
    "\n",
    "for col in categorical_cols:\n",
    "    cpy[col] = cpy[col].cat.codes\n",
    "    \n",
    "X = cpy[categorical_cols]\n",
    "y = cpy[target]\n",
    "\n",
    "chi_scores = chi2(X,y)\n",
    "\n",
    "sns.barplot(x=chi_scores[0], y=categorical_cols)"
   ],
   "metadata": {
    "collapsed": false,
    "ExecuteTime": {
     "end_time": "2024-01-26T15:29:20.588743300Z",
     "start_time": "2024-01-26T15:29:20.167057600Z"
    }
   },
   "id": "435a7bad59fa3e11",
   "execution_count": 174
  }
 ],
 "metadata": {
  "kernelspec": {
   "display_name": "Python 3",
   "language": "python",
   "name": "python3"
  },
  "language_info": {
   "codemirror_mode": {
    "name": "ipython",
    "version": 2
   },
   "file_extension": ".py",
   "mimetype": "text/x-python",
   "name": "python",
   "nbconvert_exporter": "python",
   "pygments_lexer": "ipython2",
   "version": "2.7.6"
  }
 },
 "nbformat": 4,
 "nbformat_minor": 5
}
