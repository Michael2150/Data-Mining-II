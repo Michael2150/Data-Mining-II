{
 "cells": [
  {
   "cell_type": "markdown",
   "source": [
    "# German Credit - 02 - Import"
   ],
   "metadata": {
    "collapsed": false
   },
   "id": "4cfbe1eefc56c0cf"
  },
  {
   "cell_type": "markdown",
   "source": [
    "## Setup"
   ],
   "metadata": {
    "collapsed": false
   },
   "id": "50dbe2ff413eb5e8"
  },
  {
   "cell_type": "code",
   "outputs": [],
   "source": [
    "import numpy as np\n",
    "import pandas as pd\n",
    "import matplotlib.pyplot as plt\n",
    "import seaborn as sns\n",
    "from scipy import stats\n",
    "import yaml\n",
    "\n",
    "pd.set_option('display.max_columns', None)\n",
    "pd.set_option('display.width', 1000)\n",
    "# pd.set_option('display.max_rows', None)\n",
    "\n",
    "sns.set_style(\"darkgrid\")\n",
    "\n",
    "from IPython.display import display, Markdown\n",
    "from pprint import pprint \n",
    "\n",
    "DEBUG = True\n",
    "SEED = 666"
   ],
   "metadata": {
    "collapsed": false,
    "ExecuteTime": {
     "end_time": "2024-01-24T16:44:21.365586Z",
     "start_time": "2024-01-24T16:44:21.335328400Z"
    }
   },
   "id": "ee7f459e11d579be",
   "execution_count": 9
  },
  {
   "cell_type": "code",
   "outputs": [],
   "source": [
    "DATASET = \"German Credit\"\n",
    "\n",
    "import os, sys\n",
    "COLAB = 'google.colab' in sys.modules\n",
    "ROOT = \"./\"\n",
    "\n",
    "if COLAB:\n",
    "  from google.colab import drive\n",
    "  if not os.path.isdir(\"/content/gdrive\"):\n",
    "    drive.mount(\"/content/gdrive\")\n",
    "    d = \"/content/gdrive/MyDrive/datasets\"\n",
    "    if not os.path.isdir(ROOT+d): os.makedirs(ROOT+d)\n",
    "  ROOT = f\"/content/gdrive/MyDrive/datasets/{DATASET.replace(' ','_')}/\"\n",
    "  if not os.path.isdir(ROOT): os.makedirs(ROOT)\n",
    "\n",
    "\n",
    "def makedirs(d):\n",
    "  if COLAB:\n",
    "    if not os.path.isdir(ROOT+d): os.makedirs(ROOT+d)\n",
    "  else:\n",
    "    if not os.path.isdir(ROOT+d): os.makedirs(ROOT+d, mode=0o777, exist_ok=True)\n",
    "\n",
    "for d in ['orig','data','output']: makedirs(d)"
   ],
   "metadata": {
    "collapsed": false,
    "ExecuteTime": {
     "end_time": "2024-01-24T16:44:21.388727300Z",
     "start_time": "2024-01-24T16:44:21.377808300Z"
    }
   },
   "id": "1fc0b51bd8bc56a",
   "execution_count": 10
  },
  {
   "cell_type": "markdown",
   "source": [
    "## Datasets"
   ],
   "metadata": {
    "collapsed": false
   },
   "id": "71d646838b9fc7d9"
  },
  {
   "cell_type": "code",
   "outputs": [
    {
     "name": "stdout",
     "output_type": "stream",
     "text": [
      "Using local copy of german.data\n",
      "Using local copy of german.doc\n",
      "Using local copy of german.data-numeric\n"
     ]
    }
   ],
   "source": [
    "for filename in [\"german.data\", \"german.doc\", \"german.data-numeric\"]:\n",
    "    source = f\"https://archive.ics.uci.edu/ml/machine-learning-databases/statlog/german/{filename}\"\n",
    "    target = f\"{ROOT}/orig/{filename}\"\n",
    "    if not os.path.isfile(target):\n",
    "        print (f\"Downloading remote file {filename}\", sep=\"\")\n",
    "        import urllib.request\n",
    "        urllib.request.urlretrieve(source, target)\n",
    "    else:\n",
    "        print(f\"Using local copy of {filename}\")"
   ],
   "metadata": {
    "collapsed": false,
    "ExecuteTime": {
     "end_time": "2024-01-24T16:44:21.422357Z",
     "start_time": "2024-01-24T16:44:21.392909800Z"
    }
   },
   "id": "52c779f81b0c46a7",
   "execution_count": 11
  },
  {
   "cell_type": "code",
   "outputs": [
    {
     "name": "stdout",
     "output_type": "stream",
     "text": [
      "(1000, 21)\n"
     ]
    },
    {
     "data": {
      "text/plain": "             Account_Balance  Loan_Duration                                  Credit_History               Loan_Purpose  Loan_Amount                            Savings             Years_Employed  Installment_Rate                          Gender_and_Status Other_Debtors_Guarantors  Year_of_Residence                                           Property  Age Installment_Plans          Housing  Existing_Credits                                 Job  Dependents                                        Telephone     Foreign  Credit_Rating\n0        (A11) ... <    0 DM              6                         (A34) critical account/     (A43) radio/television         1169  (A65) unknown/ no savings account        (A75) .. >= 7 years                 4                      (A93) male   : single              (A101) none                  4                                 (A121) real estate   67       (A143) none       (A152) own                 2  (A173) skilled employee / official           1  (A192) yes, registered under the customers name  (A201) yes              1\n1   (A12) 0 <= ... <  200 DM             48  (A32) existing credits paid back duly till now     (A43) radio/television         5951                (A61) ... <  100 DM  (A73) 1  <= ... < 4 years                 2  (A92) female : divorced/separated/married              (A101) none                  2                                 (A121) real estate   22       (A143) none       (A152) own                 1  (A173) skilled employee / official           1                                      (A191) none  (A201) yes              2\n2  (A14) no checking account             12                         (A34) critical account/            (A46) education         2096                (A61) ... <  100 DM  (A74) 4  <= ... < 7 years                 2                      (A93) male   : single              (A101) none                  3                                 (A121) real estate   49       (A143) none       (A152) own                 1         (A172) unskilled - resident           2                                      (A191) none  (A201) yes              1\n3        (A11) ... <    0 DM             42  (A32) existing credits paid back duly till now  (A42) furniture/equipment         7882                (A61) ... <  100 DM  (A74) 4  <= ... < 7 years                 2                      (A93) male   : single         (A103) guarantor                  4  (A122) if not A121 : building society savings ...   45       (A143) none  (A153) for free                 1  (A173) skilled employee / official           2                                      (A191) none  (A201) yes              1\n4        (A11) ... <    0 DM             24           (A33) delay in paying off in the past            (A40) car (new)         4870                (A61) ... <  100 DM  (A73) 1  <= ... < 4 years                 3                      (A93) male   : single              (A101) none                  4                       (A124) unknown / no property   53       (A143) none  (A153) for free                 2  (A173) skilled employee / official           2                                      (A191) none  (A201) yes              2",
      "text/html": "<div>\n<style scoped>\n    .dataframe tbody tr th:only-of-type {\n        vertical-align: middle;\n    }\n\n    .dataframe tbody tr th {\n        vertical-align: top;\n    }\n\n    .dataframe thead th {\n        text-align: right;\n    }\n</style>\n<table border=\"1\" class=\"dataframe\">\n  <thead>\n    <tr style=\"text-align: right;\">\n      <th></th>\n      <th>Account_Balance</th>\n      <th>Loan_Duration</th>\n      <th>Credit_History</th>\n      <th>Loan_Purpose</th>\n      <th>Loan_Amount</th>\n      <th>Savings</th>\n      <th>Years_Employed</th>\n      <th>Installment_Rate</th>\n      <th>Gender_and_Status</th>\n      <th>Other_Debtors_Guarantors</th>\n      <th>Year_of_Residence</th>\n      <th>Property</th>\n      <th>Age</th>\n      <th>Installment_Plans</th>\n      <th>Housing</th>\n      <th>Existing_Credits</th>\n      <th>Job</th>\n      <th>Dependents</th>\n      <th>Telephone</th>\n      <th>Foreign</th>\n      <th>Credit_Rating</th>\n    </tr>\n  </thead>\n  <tbody>\n    <tr>\n      <th>0</th>\n      <td>(A11) ... &lt;    0 DM</td>\n      <td>6</td>\n      <td>(A34) critical account/</td>\n      <td>(A43) radio/television</td>\n      <td>1169</td>\n      <td>(A65) unknown/ no savings account</td>\n      <td>(A75) .. &gt;= 7 years</td>\n      <td>4</td>\n      <td>(A93) male   : single</td>\n      <td>(A101) none</td>\n      <td>4</td>\n      <td>(A121) real estate</td>\n      <td>67</td>\n      <td>(A143) none</td>\n      <td>(A152) own</td>\n      <td>2</td>\n      <td>(A173) skilled employee / official</td>\n      <td>1</td>\n      <td>(A192) yes, registered under the customers name</td>\n      <td>(A201) yes</td>\n      <td>1</td>\n    </tr>\n    <tr>\n      <th>1</th>\n      <td>(A12) 0 &lt;= ... &lt;  200 DM</td>\n      <td>48</td>\n      <td>(A32) existing credits paid back duly till now</td>\n      <td>(A43) radio/television</td>\n      <td>5951</td>\n      <td>(A61) ... &lt;  100 DM</td>\n      <td>(A73) 1  &lt;= ... &lt; 4 years</td>\n      <td>2</td>\n      <td>(A92) female : divorced/separated/married</td>\n      <td>(A101) none</td>\n      <td>2</td>\n      <td>(A121) real estate</td>\n      <td>22</td>\n      <td>(A143) none</td>\n      <td>(A152) own</td>\n      <td>1</td>\n      <td>(A173) skilled employee / official</td>\n      <td>1</td>\n      <td>(A191) none</td>\n      <td>(A201) yes</td>\n      <td>2</td>\n    </tr>\n    <tr>\n      <th>2</th>\n      <td>(A14) no checking account</td>\n      <td>12</td>\n      <td>(A34) critical account/</td>\n      <td>(A46) education</td>\n      <td>2096</td>\n      <td>(A61) ... &lt;  100 DM</td>\n      <td>(A74) 4  &lt;= ... &lt; 7 years</td>\n      <td>2</td>\n      <td>(A93) male   : single</td>\n      <td>(A101) none</td>\n      <td>3</td>\n      <td>(A121) real estate</td>\n      <td>49</td>\n      <td>(A143) none</td>\n      <td>(A152) own</td>\n      <td>1</td>\n      <td>(A172) unskilled - resident</td>\n      <td>2</td>\n      <td>(A191) none</td>\n      <td>(A201) yes</td>\n      <td>1</td>\n    </tr>\n    <tr>\n      <th>3</th>\n      <td>(A11) ... &lt;    0 DM</td>\n      <td>42</td>\n      <td>(A32) existing credits paid back duly till now</td>\n      <td>(A42) furniture/equipment</td>\n      <td>7882</td>\n      <td>(A61) ... &lt;  100 DM</td>\n      <td>(A74) 4  &lt;= ... &lt; 7 years</td>\n      <td>2</td>\n      <td>(A93) male   : single</td>\n      <td>(A103) guarantor</td>\n      <td>4</td>\n      <td>(A122) if not A121 : building society savings ...</td>\n      <td>45</td>\n      <td>(A143) none</td>\n      <td>(A153) for free</td>\n      <td>1</td>\n      <td>(A173) skilled employee / official</td>\n      <td>2</td>\n      <td>(A191) none</td>\n      <td>(A201) yes</td>\n      <td>1</td>\n    </tr>\n    <tr>\n      <th>4</th>\n      <td>(A11) ... &lt;    0 DM</td>\n      <td>24</td>\n      <td>(A33) delay in paying off in the past</td>\n      <td>(A40) car (new)</td>\n      <td>4870</td>\n      <td>(A61) ... &lt;  100 DM</td>\n      <td>(A73) 1  &lt;= ... &lt; 4 years</td>\n      <td>3</td>\n      <td>(A93) male   : single</td>\n      <td>(A101) none</td>\n      <td>4</td>\n      <td>(A124) unknown / no property</td>\n      <td>53</td>\n      <td>(A143) none</td>\n      <td>(A153) for free</td>\n      <td>2</td>\n      <td>(A173) skilled employee / official</td>\n      <td>2</td>\n      <td>(A191) none</td>\n      <td>(A201) yes</td>\n      <td>2</td>\n    </tr>\n  </tbody>\n</table>\n</div>"
     },
     "execution_count": 12,
     "metadata": {},
     "output_type": "execute_result"
    }
   ],
   "source": [
    "df = pd.read_pickle(f\"{ROOT}/data/labeled.pkl\")\n",
    "print(df.shape)\n",
    "df.head(5)"
   ],
   "metadata": {
    "collapsed": false,
    "ExecuteTime": {
     "end_time": "2024-01-24T16:44:21.460528Z",
     "start_time": "2024-01-24T16:44:21.402330600Z"
    }
   },
   "id": "1cc249be3919ec46",
   "execution_count": 12
  },
  {
   "cell_type": "markdown",
   "source": [
    "## Quiz\n",
    "\n",
    "what is the total of `Loan_Amount`?"
   ],
   "metadata": {
    "collapsed": false
   },
   "id": "f4b85a43a0f1e05f"
  },
  {
   "cell_type": "code",
   "outputs": [
    {
     "data": {
      "text/plain": "3271258"
     },
     "execution_count": 13,
     "metadata": {},
     "output_type": "execute_result"
    }
   ],
   "source": [
    "df['Loan_Amount'].sum()"
   ],
   "metadata": {
    "collapsed": false,
    "ExecuteTime": {
     "end_time": "2024-01-24T16:45:20.552735800Z",
     "start_time": "2024-01-24T16:45:20.542698400Z"
    }
   },
   "id": "74c332f6b7048754",
   "execution_count": 13
  }
 ],
 "metadata": {
  "kernelspec": {
   "display_name": "Python 3",
   "language": "python",
   "name": "python3"
  },
  "language_info": {
   "codemirror_mode": {
    "name": "ipython",
    "version": 2
   },
   "file_extension": ".py",
   "mimetype": "text/x-python",
   "name": "python",
   "nbconvert_exporter": "python",
   "pygments_lexer": "ipython2",
   "version": "2.7.6"
  }
 },
 "nbformat": 4,
 "nbformat_minor": 5
}
