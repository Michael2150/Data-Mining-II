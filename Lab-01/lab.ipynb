{
 "cells": [
  {
   "cell_type": "code",
   "execution_count": 53,
   "id": "initial_id",
   "metadata": {
    "collapsed": true,
    "ExecuteTime": {
     "end_time": "2024-01-16T13:56:33.405805800Z",
     "start_time": "2024-01-16T13:56:32.822802100Z"
    }
   },
   "outputs": [
    {
     "name": "stdout",
     "output_type": "stream",
     "text": [
      "(1877, 31)\n"
     ]
    },
    {
     "data": {
      "text/plain": "        Age  Gender       Education  Country          Ethnicity  Neuroticism  \\\nID                                                                             \n1     35-44  Female    Professional       UK  Mixed-White/Asian      0.31287   \n2     25-34    Male             PhD       UK              White     -0.67825   \n3     35-44    Male    Professional       UK              White     -0.46725   \n4     18-24  Female         Masters       UK              White     -0.14882   \n5     35-44  Female             PhD       UK              White      0.73545   \n...     ...     ...             ...      ...                ...          ...   \n1884  18-24  Female  Some 3rd level      USA              White     -1.19430   \n1885  18-24    Male  Some 3rd level      USA              White     -0.24649   \n1886  25-34  Female   Undergraduate      USA              White      1.13281   \n1887  18-24  Female  Some 3rd level      USA              White      0.91093   \n1888  18-24    Male  Some 3rd level  Ireland              White     -0.46725   \n\n      Extraversion  Openness_to_Experience  Agreeableness  Conscientiousness  \\\nID                                                                             \n1         -0.57545                -0.58331       -0.91699           -0.00665   \n2          1.93886                 1.43533        0.76096           -0.14277   \n3          0.80523                -0.84732       -1.62090           -1.01450   \n4         -0.80615                -0.01928        0.59042            0.58489   \n5         -1.63340                -0.45174       -0.30172            1.30612   \n...            ...                     ...            ...                ...   \n1884       1.74091                 1.88511        0.76096           -1.13788   \n1885       1.74091                 0.58331        0.76096           -1.51840   \n1886      -1.37639                -1.27553       -1.77200           -1.38502   \n1887      -1.92173                 0.29338       -1.62090           -2.57309   \n1888       2.12700                 1.65653        1.11406            0.41594   \n\n      ...  Ecstasy  Heroin Ketamine Legal_Highs  LSD Methadone Mushrooms  \\\nID    ...                                                                  \n1     ...      CL0     CL0      CL0         CL0  CL0       CL0       CL0   \n2     ...      CL4     CL0      CL2         CL0  CL2       CL3       CL0   \n3     ...      CL0     CL0      CL0         CL0  CL0       CL0       CL1   \n4     ...      CL0     CL0      CL2         CL0  CL0       CL0       CL0   \n5     ...      CL1     CL0      CL0         CL1  CL0       CL0       CL2   \n...   ...      ...     ...      ...         ...  ...       ...       ...   \n1884  ...      CL0     CL0      CL0         CL3  CL3       CL0       CL0   \n1885  ...      CL2     CL0      CL0         CL3  CL5       CL4       CL4   \n1886  ...      CL4     CL0      CL2         CL0  CL2       CL0       CL2   \n1887  ...      CL3     CL0      CL0         CL3  CL3       CL0       CL3   \n1888  ...      CL3     CL0      CL0         CL3  CL3       CL0       CL3   \n\n     Nicotine Semeron Volatiles  \nID                               \n1         CL2     CL0       CL0  \n2         CL4     CL0       CL0  \n3         CL0     CL0       CL0  \n4         CL2     CL0       CL0  \n5         CL2     CL0       CL0  \n...       ...     ...       ...  \n1884      CL0     CL0       CL5  \n1885      CL5     CL0       CL0  \n1886      CL6     CL0       CL0  \n1887      CL4     CL0       CL0  \n1888      CL6     CL0       CL2  \n\n[1877 rows x 31 columns]",
      "text/html": "<div>\n<style scoped>\n    .dataframe tbody tr th:only-of-type {\n        vertical-align: middle;\n    }\n\n    .dataframe tbody tr th {\n        vertical-align: top;\n    }\n\n    .dataframe thead th {\n        text-align: right;\n    }\n</style>\n<table border=\"1\" class=\"dataframe\">\n  <thead>\n    <tr style=\"text-align: right;\">\n      <th></th>\n      <th>Age</th>\n      <th>Gender</th>\n      <th>Education</th>\n      <th>Country</th>\n      <th>Ethnicity</th>\n      <th>Neuroticism</th>\n      <th>Extraversion</th>\n      <th>Openness_to_Experience</th>\n      <th>Agreeableness</th>\n      <th>Conscientiousness</th>\n      <th>...</th>\n      <th>Ecstasy</th>\n      <th>Heroin</th>\n      <th>Ketamine</th>\n      <th>Legal_Highs</th>\n      <th>LSD</th>\n      <th>Methadone</th>\n      <th>Mushrooms</th>\n      <th>Nicotine</th>\n      <th>Semeron</th>\n      <th>Volatiles</th>\n    </tr>\n    <tr>\n      <th>ID</th>\n      <th></th>\n      <th></th>\n      <th></th>\n      <th></th>\n      <th></th>\n      <th></th>\n      <th></th>\n      <th></th>\n      <th></th>\n      <th></th>\n      <th></th>\n      <th></th>\n      <th></th>\n      <th></th>\n      <th></th>\n      <th></th>\n      <th></th>\n      <th></th>\n      <th></th>\n      <th></th>\n      <th></th>\n    </tr>\n  </thead>\n  <tbody>\n    <tr>\n      <th>1</th>\n      <td>35-44</td>\n      <td>Female</td>\n      <td>Professional</td>\n      <td>UK</td>\n      <td>Mixed-White/Asian</td>\n      <td>0.31287</td>\n      <td>-0.57545</td>\n      <td>-0.58331</td>\n      <td>-0.91699</td>\n      <td>-0.00665</td>\n      <td>...</td>\n      <td>CL0</td>\n      <td>CL0</td>\n      <td>CL0</td>\n      <td>CL0</td>\n      <td>CL0</td>\n      <td>CL0</td>\n      <td>CL0</td>\n      <td>CL2</td>\n      <td>CL0</td>\n      <td>CL0</td>\n    </tr>\n    <tr>\n      <th>2</th>\n      <td>25-34</td>\n      <td>Male</td>\n      <td>PhD</td>\n      <td>UK</td>\n      <td>White</td>\n      <td>-0.67825</td>\n      <td>1.93886</td>\n      <td>1.43533</td>\n      <td>0.76096</td>\n      <td>-0.14277</td>\n      <td>...</td>\n      <td>CL4</td>\n      <td>CL0</td>\n      <td>CL2</td>\n      <td>CL0</td>\n      <td>CL2</td>\n      <td>CL3</td>\n      <td>CL0</td>\n      <td>CL4</td>\n      <td>CL0</td>\n      <td>CL0</td>\n    </tr>\n    <tr>\n      <th>3</th>\n      <td>35-44</td>\n      <td>Male</td>\n      <td>Professional</td>\n      <td>UK</td>\n      <td>White</td>\n      <td>-0.46725</td>\n      <td>0.80523</td>\n      <td>-0.84732</td>\n      <td>-1.62090</td>\n      <td>-1.01450</td>\n      <td>...</td>\n      <td>CL0</td>\n      <td>CL0</td>\n      <td>CL0</td>\n      <td>CL0</td>\n      <td>CL0</td>\n      <td>CL0</td>\n      <td>CL1</td>\n      <td>CL0</td>\n      <td>CL0</td>\n      <td>CL0</td>\n    </tr>\n    <tr>\n      <th>4</th>\n      <td>18-24</td>\n      <td>Female</td>\n      <td>Masters</td>\n      <td>UK</td>\n      <td>White</td>\n      <td>-0.14882</td>\n      <td>-0.80615</td>\n      <td>-0.01928</td>\n      <td>0.59042</td>\n      <td>0.58489</td>\n      <td>...</td>\n      <td>CL0</td>\n      <td>CL0</td>\n      <td>CL2</td>\n      <td>CL0</td>\n      <td>CL0</td>\n      <td>CL0</td>\n      <td>CL0</td>\n      <td>CL2</td>\n      <td>CL0</td>\n      <td>CL0</td>\n    </tr>\n    <tr>\n      <th>5</th>\n      <td>35-44</td>\n      <td>Female</td>\n      <td>PhD</td>\n      <td>UK</td>\n      <td>White</td>\n      <td>0.73545</td>\n      <td>-1.63340</td>\n      <td>-0.45174</td>\n      <td>-0.30172</td>\n      <td>1.30612</td>\n      <td>...</td>\n      <td>CL1</td>\n      <td>CL0</td>\n      <td>CL0</td>\n      <td>CL1</td>\n      <td>CL0</td>\n      <td>CL0</td>\n      <td>CL2</td>\n      <td>CL2</td>\n      <td>CL0</td>\n      <td>CL0</td>\n    </tr>\n    <tr>\n      <th>...</th>\n      <td>...</td>\n      <td>...</td>\n      <td>...</td>\n      <td>...</td>\n      <td>...</td>\n      <td>...</td>\n      <td>...</td>\n      <td>...</td>\n      <td>...</td>\n      <td>...</td>\n      <td>...</td>\n      <td>...</td>\n      <td>...</td>\n      <td>...</td>\n      <td>...</td>\n      <td>...</td>\n      <td>...</td>\n      <td>...</td>\n      <td>...</td>\n      <td>...</td>\n      <td>...</td>\n    </tr>\n    <tr>\n      <th>1884</th>\n      <td>18-24</td>\n      <td>Female</td>\n      <td>Some 3rd level</td>\n      <td>USA</td>\n      <td>White</td>\n      <td>-1.19430</td>\n      <td>1.74091</td>\n      <td>1.88511</td>\n      <td>0.76096</td>\n      <td>-1.13788</td>\n      <td>...</td>\n      <td>CL0</td>\n      <td>CL0</td>\n      <td>CL0</td>\n      <td>CL3</td>\n      <td>CL3</td>\n      <td>CL0</td>\n      <td>CL0</td>\n      <td>CL0</td>\n      <td>CL0</td>\n      <td>CL5</td>\n    </tr>\n    <tr>\n      <th>1885</th>\n      <td>18-24</td>\n      <td>Male</td>\n      <td>Some 3rd level</td>\n      <td>USA</td>\n      <td>White</td>\n      <td>-0.24649</td>\n      <td>1.74091</td>\n      <td>0.58331</td>\n      <td>0.76096</td>\n      <td>-1.51840</td>\n      <td>...</td>\n      <td>CL2</td>\n      <td>CL0</td>\n      <td>CL0</td>\n      <td>CL3</td>\n      <td>CL5</td>\n      <td>CL4</td>\n      <td>CL4</td>\n      <td>CL5</td>\n      <td>CL0</td>\n      <td>CL0</td>\n    </tr>\n    <tr>\n      <th>1886</th>\n      <td>25-34</td>\n      <td>Female</td>\n      <td>Undergraduate</td>\n      <td>USA</td>\n      <td>White</td>\n      <td>1.13281</td>\n      <td>-1.37639</td>\n      <td>-1.27553</td>\n      <td>-1.77200</td>\n      <td>-1.38502</td>\n      <td>...</td>\n      <td>CL4</td>\n      <td>CL0</td>\n      <td>CL2</td>\n      <td>CL0</td>\n      <td>CL2</td>\n      <td>CL0</td>\n      <td>CL2</td>\n      <td>CL6</td>\n      <td>CL0</td>\n      <td>CL0</td>\n    </tr>\n    <tr>\n      <th>1887</th>\n      <td>18-24</td>\n      <td>Female</td>\n      <td>Some 3rd level</td>\n      <td>USA</td>\n      <td>White</td>\n      <td>0.91093</td>\n      <td>-1.92173</td>\n      <td>0.29338</td>\n      <td>-1.62090</td>\n      <td>-2.57309</td>\n      <td>...</td>\n      <td>CL3</td>\n      <td>CL0</td>\n      <td>CL0</td>\n      <td>CL3</td>\n      <td>CL3</td>\n      <td>CL0</td>\n      <td>CL3</td>\n      <td>CL4</td>\n      <td>CL0</td>\n      <td>CL0</td>\n    </tr>\n    <tr>\n      <th>1888</th>\n      <td>18-24</td>\n      <td>Male</td>\n      <td>Some 3rd level</td>\n      <td>Ireland</td>\n      <td>White</td>\n      <td>-0.46725</td>\n      <td>2.12700</td>\n      <td>1.65653</td>\n      <td>1.11406</td>\n      <td>0.41594</td>\n      <td>...</td>\n      <td>CL3</td>\n      <td>CL0</td>\n      <td>CL0</td>\n      <td>CL3</td>\n      <td>CL3</td>\n      <td>CL0</td>\n      <td>CL3</td>\n      <td>CL6</td>\n      <td>CL0</td>\n      <td>CL2</td>\n    </tr>\n  </tbody>\n</table>\n<p>1877 rows × 31 columns</p>\n</div>"
     },
     "execution_count": 53,
     "metadata": {},
     "output_type": "execute_result"
    }
   ],
   "source": [
    "import pandas as pd\n",
    "\n",
    "df = pd.read_pickle(\"https://setu-datamining2.github.io/live/files/ICPSR_36536.pkl\")\n",
    "print(df.shape)\n",
    "df"
   ]
  },
  {
   "cell_type": "code",
   "execution_count": 54,
   "outputs": [
    {
     "data": {
      "text/plain": "3.27393"
     },
     "execution_count": 54,
     "metadata": {},
     "output_type": "execute_result"
    }
   ],
   "source": [
    "df[\"Neuroticism\"].max()"
   ],
   "metadata": {
    "collapsed": false,
    "ExecuteTime": {
     "end_time": "2024-01-16T13:56:33.408039600Z",
     "start_time": "2024-01-16T13:56:33.374991800Z"
    }
   },
   "id": "2a310ee80e0541b1"
  },
  {
   "cell_type": "code",
   "execution_count": 102,
   "outputs": [
    {
     "data": {
      "text/plain": "6.54786"
     },
     "execution_count": 102,
     "metadata": {},
     "output_type": "execute_result"
    }
   ],
   "source": [
    "abs(df[\"Extraversion\"].min() - df[\"Extraversion\"].max())"
   ],
   "metadata": {
    "collapsed": false,
    "ExecuteTime": {
     "end_time": "2024-01-16T14:19:48.216831100Z",
     "start_time": "2024-01-16T14:19:48.208959500Z"
    }
   },
   "id": "53498a9f91038258"
  },
  {
   "cell_type": "code",
   "execution_count": 56,
   "outputs": [
    {
     "name": "stdout",
     "output_type": "stream",
     "text": [
      "['Alcohol', 'Caffeine', 'Chocolate', 'Nicotine']\n",
      "Index(['Amphetamines', 'Amyl_Nitrite', 'Benzodiazepine', 'Cannabis', 'Cocaine',\n",
      "       'Crack', 'Ecstasy', 'Heroin', 'Ketamine', 'Legal_Highs', 'LSD',\n",
      "       'Methadone', 'Mushrooms', 'Semeron', 'Volatiles'],\n",
      "      dtype='object')\n"
     ]
    }
   ],
   "source": [
    "AllDrugs = df.columns[12:]\n",
    "LegalDrugs = [\"Alcohol\", \"Caffeine\", \"Chocolate\", \"Nicotine\"]\n",
    "print(LegalDrugs)\n",
    "IllegalDrugs = AllDrugs.drop(LegalDrugs)\n",
    "print(IllegalDrugs)"
   ],
   "metadata": {
    "collapsed": false,
    "ExecuteTime": {
     "end_time": "2024-01-16T13:56:33.523542300Z",
     "start_time": "2024-01-16T13:56:33.411183600Z"
    }
   },
   "id": "83e44f1e81be5e2d"
  },
  {
   "cell_type": "code",
   "execution_count": 67,
   "outputs": [
    {
     "name": "stdout",
     "output_type": "stream",
     "text": [
      "299\n"
     ]
    }
   ],
   "source": [
    "i = 0\n",
    "for row in df[IllegalDrugs].iterrows():\n",
    "    neverused = True\n",
    "    for drug in IllegalDrugs:\n",
    "        if row[1][drug] != \"CL0\":\n",
    "            neverused = False\n",
    "            break\n",
    "    if neverused:\n",
    "        i += 1\n",
    "print(i)"
   ],
   "metadata": {
    "collapsed": false,
    "ExecuteTime": {
     "end_time": "2024-01-16T13:59:20.263495600Z",
     "start_time": "2024-01-16T13:59:20.013626200Z"
    }
   },
   "id": "15f98a7d8a0446c"
  },
  {
   "cell_type": "code",
   "execution_count": 68,
   "outputs": [
    {
     "name": "stdout",
     "output_type": "stream",
     "text": [
      "1\n"
     ]
    }
   ],
   "source": [
    "i = 0\n",
    "for row in df[LegalDrugs].iterrows():\n",
    "    neverused = True\n",
    "    for drug in LegalDrugs:\n",
    "        if row[1][drug] != \"CL0\":\n",
    "            neverused = False\n",
    "            break\n",
    "    if neverused:\n",
    "        i += 1\n",
    "print(i)"
   ],
   "metadata": {
    "collapsed": false,
    "ExecuteTime": {
     "end_time": "2024-01-16T14:00:02.702608400Z",
     "start_time": "2024-01-16T14:00:02.526986100Z"
    }
   },
   "id": "11f602bd17c9fe4a"
  },
  {
   "cell_type": "code",
   "execution_count": 70,
   "outputs": [
    {
     "name": "stdout",
     "output_type": "stream",
     "text": [
      "1578\n"
     ]
    }
   ],
   "source": [
    "i = 0\n",
    "limit = 1\n",
    "for row in df[IllegalDrugs].iterrows():\n",
    "    used = 0\n",
    "    for drug in IllegalDrugs:\n",
    "        if row[1][drug] != \"CL0\":\n",
    "            used += 1\n",
    "    if used >= limit:\n",
    "        i += 1\n",
    "print(i)"
   ],
   "metadata": {
    "collapsed": false,
    "ExecuteTime": {
     "end_time": "2024-01-16T14:01:22.144268600Z",
     "start_time": "2024-01-16T14:01:21.771897500Z"
    }
   },
   "id": "f7713cdcb17189df"
  },
  {
   "cell_type": "code",
   "execution_count": 101,
   "outputs": [
    {
     "name": "stdout",
     "output_type": "stream",
     "text": [
      "Amphetamines 0.2530237646582681\n",
      "Amyl_Nitrite 0.0653918947679467\n",
      "Benzodiazepine 0.22545525022979765\n",
      "Cannabis 0.4173472989744511\n",
      "Cocaine 0.205019659578454\n",
      "Crack 0.12649039721701136\n",
      "Ecstasy 0.31133887984061753\n",
      "Heroin 0.16346320769833342\n",
      "Ketamine 0.19315313423800987\n",
      "Legal_Highs 0.34717550262865277\n",
      "LSD 0.36798365684340345\n",
      "Methadone 0.2087000261095361\n",
      "Mushrooms 0.3788572768391716\n",
      "Semeron nan\n",
      "Volatiles 0.15107600235190113\n"
     ]
    },
    {
     "name": "stderr",
     "output_type": "stream",
     "text": [
      "C:\\ProgramData\\anaconda3\\Lib\\site-packages\\scipy\\stats\\_stats_py.py:4916: ConstantInputWarning: An input array is constant; the correlation coefficient is not defined.\n",
      "  warnings.warn(stats.ConstantInputWarning(warn_msg))\n"
     ]
    }
   ],
   "source": [
    "from scipy.stats import spearmanr\n",
    "\n",
    "total = 0\n",
    "for drug in IllegalDrugs:\n",
    "    print(drug, spearmanr(df[\"Openness_to_Experience\"], df[IllegalDrugs][drug])[0])"
   ],
   "metadata": {
    "collapsed": false,
    "ExecuteTime": {
     "end_time": "2024-01-16T14:14:52.651407800Z",
     "start_time": "2024-01-16T14:14:52.285510100Z"
    }
   },
   "id": "10e716bf80d06041"
  },
  {
   "cell_type": "code",
   "execution_count": 72,
   "outputs": [],
   "source": [
    "Recently_Used = [\"CL3\", \"CL4\", \"CL5\", \"CL6\"]"
   ],
   "metadata": {
    "collapsed": false,
    "ExecuteTime": {
     "end_time": "2024-01-16T14:03:28.087849800Z",
     "start_time": "2024-01-16T14:03:28.078539Z"
    }
   },
   "id": "ab0a29a5ddba174d"
  },
  {
   "cell_type": "code",
   "execution_count": 87,
   "outputs": [
    {
     "name": "stdout",
     "output_type": "stream",
     "text": [
      "1044\n"
     ]
    }
   ],
   "source": [
    "i = 0 \n",
    "limit = 0\n",
    "for row in df.iterrows():\n",
    "    used = 0\n",
    "    for drug in IllegalDrugs:\n",
    "        if row[1][drug] in Recently_Used:\n",
    "            used += 1\n",
    "    if used >= limit:\n",
    "        if row[1][\"Country\"] == \"UK\":\n",
    "            i += 1\n",
    "print(i)"
   ],
   "metadata": {
    "collapsed": false,
    "ExecuteTime": {
     "end_time": "2024-01-16T14:09:13.090553800Z",
     "start_time": "2024-01-16T14:09:12.611573400Z"
    }
   },
   "id": "c5183a80c8912507"
  },
  {
   "cell_type": "code",
   "execution_count": 88,
   "outputs": [
    {
     "data": {
      "text/plain": "0.29355354288758656"
     },
     "execution_count": 88,
     "metadata": {},
     "output_type": "execute_result"
    }
   ],
   "source": [
    "df[\"Country\"].value_counts()[\"USA\"] / df.shape[0]"
   ],
   "metadata": {
    "collapsed": false,
    "ExecuteTime": {
     "end_time": "2024-01-16T14:10:04.994605700Z",
     "start_time": "2024-01-16T14:10:04.976832200Z"
    }
   },
   "id": "42ff46ec676bd45c"
  },
  {
   "cell_type": "code",
   "execution_count": 91,
   "outputs": [
    {
     "data": {
      "text/plain": "0.28343100692594564"
     },
     "execution_count": 91,
     "metadata": {},
     "output_type": "execute_result"
    }
   ],
   "source": [
    "df[df[IllegalDrugs].isin(Recently_Used).any(axis=1)].value_counts(\"Country\")[\"USA\"] / df.shape[0]"
   ],
   "metadata": {
    "collapsed": false,
    "ExecuteTime": {
     "end_time": "2024-01-16T14:11:53.663451300Z",
     "start_time": "2024-01-16T14:11:53.628299200Z"
    }
   },
   "id": "e1213b1a16d1bd2c"
  }
 ],
 "metadata": {
  "kernelspec": {
   "display_name": "Python 3",
   "language": "python",
   "name": "python3"
  },
  "language_info": {
   "codemirror_mode": {
    "name": "ipython",
    "version": 2
   },
   "file_extension": ".py",
   "mimetype": "text/x-python",
   "name": "python",
   "nbconvert_exporter": "python",
   "pygments_lexer": "ipython2",
   "version": "2.7.6"
  }
 },
 "nbformat": 4,
 "nbformat_minor": 5
}
