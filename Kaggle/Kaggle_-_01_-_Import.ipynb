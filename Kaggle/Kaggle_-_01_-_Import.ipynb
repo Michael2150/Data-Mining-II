{
 "cells": [
  {
   "cell_type": "markdown",
   "id": "68752ef6b533e068",
   "metadata": {
    "collapsed": false
   },
   "source": [
    "# 01 - Import\n"
   ]
  },
  {
   "cell_type": "markdown",
   "id": "8565f935",
   "metadata": {},
   "source": [
    "## Setup"
   ]
  },
  {
   "cell_type": "code",
   "execution_count": 1,
   "id": "initial_id",
   "metadata": {
    "collapsed": true
   },
   "outputs": [
    {
     "ename": "ModuleNotFoundError",
     "evalue": "No module named 'seaborn'",
     "output_type": "error",
     "traceback": [
      "\u001b[1;31m---------------------------------------------------------------------------\u001b[0m",
      "\u001b[1;31mModuleNotFoundError\u001b[0m                       Traceback (most recent call last)",
      "Cell \u001b[1;32mIn[1], line 4\u001b[0m\n\u001b[0;32m      2\u001b[0m \u001b[38;5;28;01mimport\u001b[39;00m \u001b[38;5;21;01mpandas\u001b[39;00m \u001b[38;5;28;01mas\u001b[39;00m \u001b[38;5;21;01mpd\u001b[39;00m\n\u001b[0;32m      3\u001b[0m \u001b[38;5;28;01mimport\u001b[39;00m \u001b[38;5;21;01mmatplotlib\u001b[39;00m\u001b[38;5;21;01m.\u001b[39;00m\u001b[38;5;21;01mpyplot\u001b[39;00m \u001b[38;5;28;01mas\u001b[39;00m \u001b[38;5;21;01mplt\u001b[39;00m\n\u001b[1;32m----> 4\u001b[0m \u001b[38;5;28;01mimport\u001b[39;00m \u001b[38;5;21;01mseaborn\u001b[39;00m \u001b[38;5;28;01mas\u001b[39;00m \u001b[38;5;21;01msns\u001b[39;00m\n\u001b[0;32m      5\u001b[0m \u001b[38;5;28;01mfrom\u001b[39;00m \u001b[38;5;21;01mscipy\u001b[39;00m \u001b[38;5;28;01mimport\u001b[39;00m stats\n\u001b[0;32m      6\u001b[0m \u001b[38;5;28;01mimport\u001b[39;00m \u001b[38;5;21;01myaml\u001b[39;00m\n",
      "\u001b[1;31mModuleNotFoundError\u001b[0m: No module named 'seaborn'"
     ]
    }
   ],
   "source": [
    "import numpy as np\n",
    "import pandas as pd\n",
    "import matplotlib.pyplot as plt\n",
    "import seaborn as sns\n",
    "from scipy import stats\n",
    "import yaml\n",
    "\n",
    "pd.set_option('display.max_columns', None)\n",
    "pd.set_option('display.width', 1000)\n",
    "# pd.set_option('display.max_rows', None)\n",
    "\n",
    "sns.set_style(\"darkgrid\")\n",
    "\n",
    "from IPython.display import display, Markdown\n",
    "from pprint import pprint \n",
    "\n",
    "DEBUG = True\n",
    "SEED = 666"
   ]
  },
  {
   "cell_type": "code",
   "execution_count": null,
   "id": "e14577343c1f65c6",
   "metadata": {
    "collapsed": false
   },
   "outputs": [],
   "source": [
    "DATASET = \"train.csv\"\n",
    "\n",
    "import os, sys\n",
    "COLAB = 'google.colab' in sys.modules\n",
    "ROOT = \"./\"\n",
    "\n",
    "if COLAB:\n",
    "  from google.colab import drive\n",
    "  if not os.path.isdir(\"/content/gdrive\"):\n",
    "    drive.mount(\"/content/gdrive\")\n",
    "    d = \"/content/gdrive/MyDrive/datasets\"\n",
    "    if not os.path.isdir(ROOT+d): os.makedirs(ROOT+d)\n",
    "  ROOT = f\"/content/gdrive/MyDrive/datasets/{DATASET.replace(' ','_')}/\"\n",
    "  if not os.path.isdir(ROOT): os.makedirs(ROOT)\n",
    "\n",
    "\n",
    "def makedirs(d):\n",
    "  if COLAB:\n",
    "    if not os.path.isdir(ROOT+d): os.makedirs(ROOT+d)\n",
    "  else:\n",
    "    if not os.path.isdir(ROOT+d): os.makedirs(ROOT+d, mode=0o777, exist_ok=True)\n",
    "\n",
    "for d in ['orig','data','output']: makedirs(d)"
   ]
  },
  {
   "cell_type": "markdown",
   "id": "f0aa6c75",
   "metadata": {},
   "source": [
    "## Import Data"
   ]
  },
  {
   "cell_type": "code",
   "execution_count": null,
   "id": "6e6f69e3",
   "metadata": {},
   "outputs": [],
   "source": [
    "df = pd.read_csv(\"orig/\" + DATASET)\n",
    "print(df.shape)\n",
    "df.head()"
   ]
  },
  {
   "cell_type": "code",
   "execution_count": null,
   "id": "914b1a6e",
   "metadata": {},
   "outputs": [],
   "source": [
    "df_score = pd.read_csv(\"orig/test.csv\")\n",
    "print(df_score.shape)\n",
    "df_score.head()"
   ]
  },
  {
   "cell_type": "markdown",
   "id": "25f37a5e",
   "metadata": {},
   "source": [
    "## Targets and Features Preprocessing"
   ]
  },
  {
   "cell_type": "code",
   "execution_count": null,
   "id": "f47025d7",
   "metadata": {},
   "outputs": [],
   "source": [
    "target = 'Target'\n",
    "features = df.columns.drop(target)"
   ]
  },
  {
   "cell_type": "markdown",
   "id": "64590337",
   "metadata": {},
   "source": [
    "### Target\n",
    "\n",
    "Drop all rows where the target is missing and set the target column as Category type."
   ]
  },
  {
   "cell_type": "code",
   "execution_count": null,
   "id": "ba0083c9",
   "metadata": {},
   "outputs": [],
   "source": [
    "df = df.dropna(subset=[target])\n",
    "df[target] = pd.Categorical(df[target])"
   ]
  },
  {
   "cell_type": "markdown",
   "id": "dfb875c0",
   "metadata": {},
   "source": [
    "### Object type features\n",
    "\n",
    "Features of type `object` are text based and after inspection we can see it is a number value in the format \"{Column_Name}_{Number}\". We can remove the column name and keep the number value."
   ]
  },
  {
   "cell_type": "code",
   "execution_count": null,
   "id": "df5492b1",
   "metadata": {},
   "outputs": [],
   "source": [
    "object_features = [col for col in features if df[col].dtype == 'object' and col != target]\n",
    "\n",
    "for col in object_features:\n",
    "    # Apply changes to the train dataset\n",
    "    df[col] = df[col].str.replace(f\"{col}_\", \"\")\n",
    "    df[col] = pd.to_numeric(df[col])\n",
    "\n",
    "    # Apply changes to the score dataset\n",
    "    df_score[col] = df_score[col].str.replace(f\"{col}_\", \"\")\n",
    "    df_score[col] = pd.to_numeric(df_score[col])"
   ]
  },
  {
   "cell_type": "markdown",
   "id": "784712ff",
   "metadata": {},
   "source": [
    "### Categorical Features\n",
    "\n",
    "Set columns that have less than 10 unique values as categorical features."
   ]
  },
  {
   "cell_type": "code",
   "execution_count": null,
   "id": "b1f4249f",
   "metadata": {},
   "outputs": [],
   "source": [
    "categorical_features = [col for col in features if df[col].nunique() < 10 and col != target]\n",
    "\n",
    "for col in categorical_features:\n",
    "    # Apply changes to the train dataset\n",
    "    df[col] = pd.Categorical(df[col])\n",
    "\n",
    "    # Apply changes to the score dataset\n",
    "    df_score[col] = pd.Categorical(df_score[col])"
   ]
  },
  {
   "cell_type": "markdown",
   "id": "cec2e6fd",
   "metadata": {},
   "source": [
    "### Numerical Features\n",
    "\n",
    "Set all the other columns that are not categorical as numerical features."
   ]
  },
  {
   "cell_type": "code",
   "execution_count": null,
   "id": "7761ebb6",
   "metadata": {},
   "outputs": [],
   "source": [
    "numerical_features =  [col for col in features if col not in categorical_features and col != target]\n",
    "\n",
    "for col in numerical_features:\n",
    "    # Apply changes to the train dataset\n",
    "    df[col] = pd.to_numeric(df[col])\n",
    "\n",
    "    # Apply changes to the score dataset\n",
    "    df_score[col] = pd.to_numeric(df_score[col])"
   ]
  },
  {
   "cell_type": "markdown",
   "id": "351f7124",
   "metadata": {},
   "source": [
    "## Save Features and Target"
   ]
  },
  {
   "cell_type": "code",
   "execution_count": null,
   "id": "6126c05f",
   "metadata": {},
   "outputs": [],
   "source": [
    "with open(ROOT + 'data/features.yaml', 'w') as file:\n",
    "    documents = yaml.dump({\n",
    "        \"target\": target,\n",
    "        \"features\": features.tolist(),\n",
    "        \"categorical_features\": categorical_features,\n",
    "        \"numerical_features\": numerical_features,\n",
    "    }, file)"
   ]
  },
  {
   "cell_type": "markdown",
   "id": "660ed167",
   "metadata": {},
   "source": [
    "## Save Data\n",
    "\n",
    "Save this raw df with the data as a pickle file for later use (EDA, Preprocessing, feature engineering, modeling)."
   ]
  },
  {
   "cell_type": "code",
   "execution_count": null,
   "id": "a2fee886",
   "metadata": {},
   "outputs": [],
   "source": [
    "df.to_pickle(ROOT + \"data/df_orig.pkl\")"
   ]
  },
  {
   "cell_type": "markdown",
   "id": "dc30e42b",
   "metadata": {},
   "source": [
    "## Scoring Data\n",
    "\n",
    "Save to a pickle file for later use."
   ]
  },
  {
   "cell_type": "code",
   "execution_count": null,
   "id": "7ad51396",
   "metadata": {},
   "outputs": [],
   "source": [
    "df_score.to_pickle(ROOT + \"data/df_score.pkl\")"
   ]
  },
  {
   "cell_type": "markdown",
   "id": "bd2fbd79",
   "metadata": {},
   "source": [
    "# Notes"
   ]
  }
 ],
 "metadata": {
  "kernelspec": {
   "display_name": "Python 3",
   "language": "python",
   "name": "python3"
  },
  "language_info": {
   "codemirror_mode": {
    "name": "ipython",
    "version": 3
   },
   "file_extension": ".py",
   "mimetype": "text/x-python",
   "name": "python",
   "nbconvert_exporter": "python",
   "pygments_lexer": "ipython3",
   "version": "3.11.8"
  }
 },
 "nbformat": 4,
 "nbformat_minor": 5
}
