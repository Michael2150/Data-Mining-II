{
 "cells": [
  {
   "cell_type": "markdown",
   "metadata": {},
   "source": [
    "# Date Mining"
   ]
  },
  {
   "cell_type": "markdown",
   "metadata": {},
   "source": [
    "## Setup"
   ]
  },
  {
   "cell_type": "code",
   "execution_count": 296,
   "metadata": {},
   "outputs": [],
   "source": [
    "import numpy as np\n",
    "import pandas as pd\n",
    "import matplotlib.pyplot as plt\n",
    "import seaborn as sns\n",
    "from scipy import stats\n",
    "import yaml\n",
    "import regex \n",
    "\n",
    "pd.set_option('display.max_columns', None)\n",
    "pd.set_option('display.width', 1000)\n",
    "# pd.set_option('display.max_rows', None)\n",
    "\n",
    "sns.set_style(\"darkgrid\")\n",
    "\n",
    "from IPython.display import display, Markdown\n",
    "from pprint import pprint \n",
    "\n",
    "DEBUG = True\n",
    "SEED = 666"
   ]
  },
  {
   "cell_type": "code",
   "execution_count": 297,
   "metadata": {},
   "outputs": [],
   "source": [
    "DATASET = \"dates.csv\"\n",
    "\n",
    "import os, sys\n",
    "COLAB = 'google.colab' in sys.modules\n",
    "ROOT = \"./\"\n",
    "\n",
    "if COLAB:\n",
    "  from google.colab import drive\n",
    "  if not os.path.isdir(\"/content/gdrive\"):\n",
    "    drive.mount(\"/content/gdrive\")\n",
    "    d = \"/content/gdrive/MyDrive/datasets\"\n",
    "    if not os.path.isdir(ROOT+d): os.makedirs(ROOT+d)\n",
    "  ROOT = f\"/content/gdrive/MyDrive/datasets/{DATASET.replace(' ','_')}/\"\n",
    "  if not os.path.isdir(ROOT): os.makedirs(ROOT)\n",
    "\n",
    "\n",
    "def makedirs(d):\n",
    "  if COLAB:\n",
    "    if not os.path.isdir(ROOT+d): os.makedirs(ROOT+d)\n",
    "  else:\n",
    "    if not os.path.isdir(ROOT+d): os.makedirs(ROOT+d, mode=0o777, exist_ok=True)\n",
    "\n",
    "for d in ['orig','output']: makedirs(d)\n",
    "\n",
    "# Set the size of the columns in order to see all of the data\n",
    "pd.set_option('display.max_colwidth', None)\n",
    "pd.set_option('display.max_columns', None)\n",
    "pd.set_option('display.width', 1000)"
   ]
  },
  {
   "cell_type": "markdown",
   "metadata": {},
   "source": [
    "## Dataset\n",
    "\n",
    "Downloads the dataset if it does not exist locally"
   ]
  },
  {
   "cell_type": "code",
   "execution_count": 298,
   "metadata": {},
   "outputs": [
    {
     "name": "stdout",
     "output_type": "stream",
     "text": [
      "Using local copy...\n"
     ]
    }
   ],
   "source": [
    "if os.path.isfile(ROOT+ \"orig/\"+DATASET):\n",
    "    print(\"Using local copy...\")\n",
    "    df = pd.read_csv(ROOT+ \"orig/\"+DATASET)\n",
    "else:\n",
    "    print(\"Downloading dataset...\")\n",
    "    df = pd.read_csv(\"https://setu-datamining2.github.io/live/topics/21-Assignments/03-Mining_Dates/files/public.csv\")\n",
    "    df.to_csv(ROOT+ \"orig/\"+DATASET, index=False)"
   ]
  },
  {
   "cell_type": "code",
   "execution_count": 299,
   "metadata": {},
   "outputs": [],
   "source": [
    "def info(df, regular_expressions, regex_index = -1):\n",
    "    temp = df[df[\"RegexMatched\"] == regex_index].copy()\n",
    "    reg = regular_expressions[regex_index][\"regex\"] if regex_index >= 0 else \"None\"\n",
    "    print(f\"Regex: {reg}\")\n",
    "    print(f\"Shape: {temp.shape}\")\n",
    "    temp = temp.sample(frac=1).reset_index(drop=True)\n",
    "    display(temp.head(50))\n",
    "    return temp"
   ]
  },
  {
   "cell_type": "markdown",
   "metadata": {},
   "source": [
    "## Import / Clean"
   ]
  },
  {
   "cell_type": "markdown",
   "metadata": {},
   "source": [
    "Create a list of the months of the year"
   ]
  },
  {
   "cell_type": "code",
   "execution_count": 300,
   "metadata": {},
   "outputs": [],
   "source": [
    "months = [\"jan\",\"feb\",\"mar\",\"apr\",\"may\",\"jun\",\"jul\",\"aug\",\"sep\",\"oct\",\"nov\",\"dec\"]"
   ]
  },
  {
   "cell_type": "markdown",
   "metadata": {},
   "source": [
    "- Create a map of possible spelling mistakes for each month.\n",
    "- There is also some code to generate each month's name without each of its letters. \n",
    "  - nb: we do not use `May` as it does not have any spelling mistakes in the dataset and generating spelling mistakes for it messes with `March` and causes issues."
   ]
  },
  {
   "cell_type": "code",
   "execution_count": 301,
   "metadata": {},
   "outputs": [],
   "source": [
    "# Replace all the month abbreviations/spelling mistakes with the full month name\n",
    "months_map = {\n",
    "    \"jan\": [\"january\", \"janaury\"],\n",
    "    \"feb\": [\"february\"],\n",
    "    \"mar\": [\"march\"],\n",
    "    \"may\": [\"may\"],\n",
    "    \"apr\": [\"april\"],\n",
    "    \"jun\": [\"june\"],\n",
    "    \"jul\": [\"july\"],\n",
    "    \"aug\": [\"august\"],\n",
    "    \"sep\": [\"september\"],\n",
    "    \"oct\": [\"october\"],\n",
    "    \"nov\": [\"november\"],\n",
    "    \"dec\": [\"december\", \"decemeber\"],\n",
    "}\n",
    "\n",
    "for k, v in months_map.items():\n",
    "    # Get the full month name from the list\n",
    "    full_month_name = v[0]  \n",
    "\n",
    "    if full_month_name == \"may\":\n",
    "        continue\n",
    "\n",
    "    # Generate \n",
    "    spelling_mistakes = []  \n",
    "    for i in range(len(full_month_name)):\n",
    "        spelling_mistakes.append(full_month_name[:i] + full_month_name[i+1:])\n",
    "\n",
    "    v.extend(spelling_mistakes)"
   ]
  },
  {
   "cell_type": "markdown",
   "metadata": {},
   "source": [
    "Cleaning Algorithm:\n",
    "- Make the text lowercase\n",
    "- Strip the ends and beginning of the text of any whitespace\n",
    "- Replace any full month names and their spelling mistakes with the correct month abbreviation\n",
    "- Remove some strings that are known to break up dates in the dataset.\n",
    "- Remove all double spaces"
   ]
  },
  {
   "cell_type": "code",
   "execution_count": 302,
   "metadata": {},
   "outputs": [],
   "source": [
    "def clean(raw_str):\n",
    "    # Lowercase the string and remove leading/trailing whitespaces\n",
    "    raw_str = raw_str.lower().strip()\n",
    "\n",
    "    # Replace all the month names/spelling mistakes with the month abbreviation\n",
    "    for k,v in months_map.items():\n",
    "        for vv in v:\n",
    "            if vv in raw_str:\n",
    "                raw_str = raw_str.replace(vv, k)\n",
    "                break # Break after the first match\n",
    "\n",
    "    # Remove some words that could be breaking up the date\n",
    "    to_remove = [\"mo\", \",\", \".\", \"in\"]\n",
    "\n",
    "    for tr in to_remove:\n",
    "        raw_str = raw_str.replace(tr,\" \")\n",
    "\n",
    "    # Remove double spaces\n",
    "    while \"  \" in raw_str:\n",
    "        raw_str = raw_str.replace(\"  \",\" \")\n",
    "    \n",
    "    return raw_str"
   ]
  },
  {
   "cell_type": "markdown",
   "metadata": {},
   "source": [
    "### Setup new columns\n",
    "\n",
    "Apply the cleaning algorithm to the `Raw` column and create new columns for each month of the year."
   ]
  },
  {
   "cell_type": "code",
   "execution_count": 303,
   "metadata": {},
   "outputs": [],
   "source": [
    "df[\"Data\"] = df.Raw.apply(clean)\n",
    "df[\"RegexMatched\"] = -1\n",
    "df[[\"Day\", \"Month\", \"Year\"]] = 0"
   ]
  },
  {
   "cell_type": "markdown",
   "metadata": {},
   "source": [
    "## Applying Regular Expressions\n",
    "\n",
    "This list of regular expressions is used to extract dates from the dataset. It will be run sequentially on the `Data` column."
   ]
  },
  {
   "cell_type": "code",
   "execution_count": 304,
   "metadata": {},
   "outputs": [],
   "source": [
    "months_regex = \"|\".join(months)\n",
    "\n",
    "regular_expressions = [\n",
    "    {\n",
    "        \"example\": \"12 sep 2024\",\n",
    "        \"formats\": [\"mm mmm yyyy\", \"mm mmm yy\"],\n",
    "        \"regex\": r\"(\\d{1,2}) (%s) (\\d{2,4})\" % months_regex,\n",
    "        \"columns\": [\"day\", \"month\", \"year\"]\n",
    "    },\n",
    "    {\n",
    "        \"example\": \"may 24 2009\",\n",
    "        \"formats\": [\"mmm dd yy\", \"mmm dd yyyy\"],\n",
    "        \"regex\": r\"(%s) (\\d{1,2}) (\\d{2,4})\" % months_regex,\n",
    "        \"columns\": [\"month\", \"day\", \"year\"]\n",
    "    },\n",
    "    {\n",
    "        \"example\": \"sep 2024\",\n",
    "        \"formats\": [\"mmm yyyy\", \"mmm yy\"],\n",
    "        \"regex\": r\"(%s) (\\d{2,4})\" % months_regex,\n",
    "        \"columns\": [\"month\", \"year\"]\n",
    "    },\n",
    "    {\n",
    "        \"example\": \"12/31/2024\",\n",
    "        \"formats\": [\"mm/dd/yyyy\", \"mm-dd-yyyy\", \"mm dd yyyy\", \"mm/dd/yy\", \"mm-dd-yy\", \"mm dd yy\"],\n",
    "        \"regex\": r\"(\\d{1,2})[-/](\\d{1,2})[-/](\\d{2,4})\",\n",
    "        \"columns\": [\"month\", \"day\", \"year\"]\n",
    "    },\n",
    "    {\n",
    "        \"example\": \"12/2024\",\n",
    "        \"formats\": [\"mm/yyyy\", \"mm-yyyy\", \"mm yyyy\", \"mm/yy\", \"mm-yy\", \"mm yy\"],\n",
    "        \"regex\": r\"(\\d{1,2})[-/](\\d{2,4})\",\n",
    "        \"columns\": [\"month\", \"year\"]\n",
    "    },\n",
    "    {\n",
    "        \"example\": \"2024\",\n",
    "        \"formats\": [\"yyyy\", \"yy\"],\n",
    "        \"regex\": r\"(\\d{4})\",\n",
    "        \"columns\": [\"year\"]\n",
    "    }\n",
    "]\n"
   ]
  },
  {
   "cell_type": "markdown",
   "metadata": {},
   "source": [
    "Check regular expression algorithm:\n",
    "- Get all rows that have not been matched by any regular expression\n",
    "- Extract the regular expression provided to the remaining rows\n",
    "- Extract and update the `day`, `month`, and `year` from the regular expression to the `Day`, `Month`, and `Year` columns respectively"
   ]
  },
  {
   "cell_type": "code",
   "execution_count": 305,
   "metadata": {},
   "outputs": [],
   "source": [
    "def check_regex(df, rgx):\n",
    "    # Display the regex\n",
    "    display(Markdown(f\"### [{regular_expressions.index(rgx)}] Checking regex: `{rgx['regex']}`\"))\n",
    " \n",
    "    # Check the regex against the data that hasn't been matched yet\n",
    "    df_to_check = df[df.RegexMatched == -1]\n",
    "    matches = df_to_check.Data.str.extract(rgx[\"regex\"])\n",
    "    matches.dropna(inplace=True)\n",
    "    matches.columns = rgx[\"columns\"]\n",
    "\n",
    "    # Update the original dataframe\n",
    "    df.loc[matches.index, \"RegexMatched\"] = regular_expressions.index(rgx)\n",
    "\n",
    "    if \"day\" in matches.columns:\n",
    "        df.loc[matches.index, \"Day\"] = matches[\"day\"].astype(int)\n",
    "\n",
    "    if \"month\" in matches.columns:\n",
    "        matches[\"month\"] = matches[\"month\"].apply(lambda x: months.index(x)+1 if x in months else x)\n",
    "        df.loc[matches.index, \"Month\"] = matches[\"month\"].astype(int)\n",
    "\n",
    "    if \"year\" in matches.columns:\n",
    "        df.loc[matches.index, \"Year\"] = matches[\"year\"].astype(int)\n",
    "\n",
    "    # Display the matches\n",
    "    display(Markdown(f\"#### Found {len(matches)} matches\"))\n",
    "\n",
    "    return df"
   ]
  },
  {
   "cell_type": "code",
   "execution_count": 306,
   "metadata": {},
   "outputs": [
    {
     "data": {
      "text/markdown": [
       "### [0] Checking regex: `(\\d{1,2}) (jan|feb|mar|apr|may|jun|jul|aug|sep|oct|nov|dec) (\\d{2,4})`"
      ],
      "text/plain": [
       "<IPython.core.display.Markdown object>"
      ]
     },
     "metadata": {},
     "output_type": "display_data"
    },
    {
     "data": {
      "text/markdown": [
       "#### Found 189 matches"
      ],
      "text/plain": [
       "<IPython.core.display.Markdown object>"
      ]
     },
     "metadata": {},
     "output_type": "display_data"
    },
    {
     "data": {
      "text/markdown": [
       "### [1] Checking regex: `(jan|feb|mar|apr|may|jun|jul|aug|sep|oct|nov|dec) (\\d{1,2}) (\\d{2,4})`"
      ],
      "text/plain": [
       "<IPython.core.display.Markdown object>"
      ]
     },
     "metadata": {},
     "output_type": "display_data"
    },
    {
     "data": {
      "text/markdown": [
       "#### Found 159 matches"
      ],
      "text/plain": [
       "<IPython.core.display.Markdown object>"
      ]
     },
     "metadata": {},
     "output_type": "display_data"
    },
    {
     "data": {
      "text/markdown": [
       "### [2] Checking regex: `(jan|feb|mar|apr|may|jun|jul|aug|sep|oct|nov|dec) (\\d{2,4})`"
      ],
      "text/plain": [
       "<IPython.core.display.Markdown object>"
      ]
     },
     "metadata": {},
     "output_type": "display_data"
    },
    {
     "data": {
      "text/markdown": [
       "#### Found 99 matches"
      ],
      "text/plain": [
       "<IPython.core.display.Markdown object>"
      ]
     },
     "metadata": {},
     "output_type": "display_data"
    },
    {
     "data": {
      "text/markdown": [
       "### [3] Checking regex: `(\\d{1,2})[-/](\\d{1,2})[-/](\\d{2,4})`"
      ],
      "text/plain": [
       "<IPython.core.display.Markdown object>"
      ]
     },
     "metadata": {},
     "output_type": "display_data"
    },
    {
     "data": {
      "text/markdown": [
       "#### Found 124 matches"
      ],
      "text/plain": [
       "<IPython.core.display.Markdown object>"
      ]
     },
     "metadata": {},
     "output_type": "display_data"
    },
    {
     "data": {
      "text/markdown": [
       "### [4] Checking regex: `(\\d{1,2})[-/](\\d{2,4})`"
      ],
      "text/plain": [
       "<IPython.core.display.Markdown object>"
      ]
     },
     "metadata": {},
     "output_type": "display_data"
    },
    {
     "data": {
      "text/markdown": [
       "#### Found 106 matches"
      ],
      "text/plain": [
       "<IPython.core.display.Markdown object>"
      ]
     },
     "metadata": {},
     "output_type": "display_data"
    },
    {
     "data": {
      "text/markdown": [
       "### [5] Checking regex: `(\\d{4})`"
      ],
      "text/plain": [
       "<IPython.core.display.Markdown object>"
      ]
     },
     "metadata": {},
     "output_type": "display_data"
    },
    {
     "data": {
      "text/markdown": [
       "#### Found 38 matches"
      ],
      "text/plain": [
       "<IPython.core.display.Markdown object>"
      ]
     },
     "metadata": {},
     "output_type": "display_data"
    }
   ],
   "source": [
    "for r in regular_expressions:\n",
    "    df = check_regex(df, r)"
   ]
  },
  {
   "cell_type": "markdown",
   "metadata": {},
   "source": [
    "### Check for unparsed rows\n",
    "\n",
    "Check if there are any rows that have not been parsed by any regular expression."
   ]
  },
  {
   "cell_type": "code",
   "execution_count": 307,
   "metadata": {},
   "outputs": [
    {
     "name": "stdout",
     "output_type": "stream",
     "text": [
      "Regex: None\n",
      "Shape: (0, 7)\n"
     ]
    },
    {
     "data": {
      "text/html": [
       "<div>\n",
       "<style scoped>\n",
       "    .dataframe tbody tr th:only-of-type {\n",
       "        vertical-align: middle;\n",
       "    }\n",
       "\n",
       "    .dataframe tbody tr th {\n",
       "        vertical-align: top;\n",
       "    }\n",
       "\n",
       "    .dataframe thead th {\n",
       "        text-align: right;\n",
       "    }\n",
       "</style>\n",
       "<table border=\"1\" class=\"dataframe\">\n",
       "  <thead>\n",
       "    <tr style=\"text-align: right;\">\n",
       "      <th></th>\n",
       "      <th>Code</th>\n",
       "      <th>Raw</th>\n",
       "      <th>Data</th>\n",
       "      <th>RegexMatched</th>\n",
       "      <th>Day</th>\n",
       "      <th>Month</th>\n",
       "      <th>Year</th>\n",
       "    </tr>\n",
       "  </thead>\n",
       "  <tbody>\n",
       "  </tbody>\n",
       "</table>\n",
       "</div>"
      ],
      "text/plain": [
       "Empty DataFrame\n",
       "Columns: [Code, Raw, Data, RegexMatched, Day, Month, Year]\n",
       "Index: []"
      ]
     },
     "metadata": {},
     "output_type": "display_data"
    },
    {
     "name": "stdout",
     "output_type": "stream",
     "text": [
      "All dates have been matched!\n"
     ]
    }
   ],
   "source": [
    "tmp = info(df, regular_expressions, regex_index=-1)\n",
    "if tmp.shape[0] == 0:\n",
    "    print(\"All dates have been matched!\")"
   ]
  },
  {
   "cell_type": "markdown",
   "metadata": {},
   "source": [
    "## Build the `Date` column\n",
    "\n",
    "- Default the `Day`, and `Month` columns to `01` and `01` respectively.\n",
    "- If the `Year` column is 2 digits update it to be between `1924` and `2024`.\n",
    "- Create a new column `Date` that is a combination of the `Day`, `Month`, and `Year` columns."
   ]
  },
  {
   "cell_type": "code",
   "execution_count": 308,
   "metadata": {},
   "outputs": [],
   "source": [
    "df[\"Day\"] = df[\"Day\"].replace(0, 1)\n",
    "df[\"Month\"] = df[\"Month\"].replace(0, 1)\n",
    "df[\"Year\"] = df[\"Year\"].apply(lambda x: x if x > 1924 else x + 2000 if x < 24 else x + 1900)\n",
    "df[\"Date\"] = pd.to_datetime(df[[\"Year\", \"Month\", \"Day\"]], errors=\"coerce\")"
   ]
  },
  {
   "cell_type": "markdown",
   "metadata": {},
   "source": [
    "## Check for impossible dates\n",
    "\n",
    "Check if there are any dates that are impossible. ie `Month` is greater than `12`, `Day` is greater than `31`, or `Year` is less than `1924` or greater than `2024`."
   ]
  },
  {
   "cell_type": "code",
   "execution_count": 309,
   "metadata": {},
   "outputs": [
    {
     "name": "stdout",
     "output_type": "stream",
     "text": [
      "Impossible dates: 0\n"
     ]
    },
    {
     "data": {
      "text/html": [
       "<div>\n",
       "<style scoped>\n",
       "    .dataframe tbody tr th:only-of-type {\n",
       "        vertical-align: middle;\n",
       "    }\n",
       "\n",
       "    .dataframe tbody tr th {\n",
       "        vertical-align: top;\n",
       "    }\n",
       "\n",
       "    .dataframe thead th {\n",
       "        text-align: right;\n",
       "    }\n",
       "</style>\n",
       "<table border=\"1\" class=\"dataframe\">\n",
       "  <thead>\n",
       "    <tr style=\"text-align: right;\">\n",
       "      <th></th>\n",
       "      <th>Code</th>\n",
       "      <th>Raw</th>\n",
       "      <th>Data</th>\n",
       "      <th>RegexMatched</th>\n",
       "      <th>Day</th>\n",
       "      <th>Month</th>\n",
       "      <th>Year</th>\n",
       "      <th>Date</th>\n",
       "    </tr>\n",
       "  </thead>\n",
       "  <tbody>\n",
       "  </tbody>\n",
       "</table>\n",
       "</div>"
      ],
      "text/plain": [
       "Empty DataFrame\n",
       "Columns: [Code, Raw, Data, RegexMatched, Day, Month, Year, Date]\n",
       "Index: []"
      ]
     },
     "metadata": {},
     "output_type": "display_data"
    }
   ],
   "source": [
    "impossible_dates = df[(df.Day > 31) | (df.Month > 12) | (df.Year > 2024) | (df.Year < 1924) | (df.Date.isnull())]\n",
    "print(f\"Impossible dates: {impossible_dates.shape[0]}\")\n",
    "display(impossible_dates)"
   ]
  },
  {
   "cell_type": "markdown",
   "metadata": {},
   "source": [
    "## Sort by Date\n",
    "\n",
    "Use the sorting code provided to sort the dataset primarily by the `Date` column and secondarily by the `Raw` column."
   ]
  },
  {
   "cell_type": "code",
   "execution_count": 310,
   "metadata": {},
   "outputs": [],
   "source": [
    "df.sort_values(by=['Date','Raw'], inplace=True)"
   ]
  },
  {
   "cell_type": "markdown",
   "metadata": {},
   "source": [
    "Check if the dataset is sorted correctly."
   ]
  },
  {
   "cell_type": "code",
   "execution_count": 311,
   "metadata": {},
   "outputs": [
    {
     "name": "stdout",
     "output_type": "stream",
     "text": [
      "First 5 rows:\n"
     ]
    },
    {
     "data": {
      "text/html": [
       "<div>\n",
       "<style scoped>\n",
       "    .dataframe tbody tr th:only-of-type {\n",
       "        vertical-align: middle;\n",
       "    }\n",
       "\n",
       "    .dataframe tbody tr th {\n",
       "        vertical-align: top;\n",
       "    }\n",
       "\n",
       "    .dataframe thead th {\n",
       "        text-align: right;\n",
       "    }\n",
       "</style>\n",
       "<table border=\"1\" class=\"dataframe\">\n",
       "  <thead>\n",
       "    <tr style=\"text-align: right;\">\n",
       "      <th></th>\n",
       "      <th>Code</th>\n",
       "      <th>Raw</th>\n",
       "      <th>Data</th>\n",
       "      <th>RegexMatched</th>\n",
       "      <th>Day</th>\n",
       "      <th>Month</th>\n",
       "      <th>Year</th>\n",
       "      <th>Date</th>\n",
       "    </tr>\n",
       "  </thead>\n",
       "  <tbody>\n",
       "    <tr>\n",
       "      <th>340</th>\n",
       "      <td>5262388306</td>\n",
       "      <td>(June 13 70) Crt-1.96, BUN-26; AST/ALT-16/22; WBC_12.6Activities of Daily Living (ADL) Bathing: Independent</td>\n",
       "      <td>(jun 13 70) crt-1 96 bun-26; ast/alt-16/22; wbc_12 6activities of daily liv g (adl) bath g: dependent</td>\n",
       "      <td>1</td>\n",
       "      <td>13</td>\n",
       "      <td>6</td>\n",
       "      <td>1970</td>\n",
       "      <td>1970-06-13</td>\n",
       "    </tr>\n",
       "    <tr>\n",
       "      <th>7</th>\n",
       "      <td>1082469285</td>\n",
       "      <td>Septeber, 10, 70 CPT Code: 90792: With medical services</td>\n",
       "      <td>sep 10 70 cpt code: 90792: with medical services</td>\n",
       "      <td>1</td>\n",
       "      <td>10</td>\n",
       "      <td>9</td>\n",
       "      <td>1970</td>\n",
       "      <td>1970-09-10</td>\n",
       "    </tr>\n",
       "    <tr>\n",
       "      <th>595</th>\n",
       "      <td>8335477666</td>\n",
       "      <td>October, 21 70 Communication with referring physician?: Done</td>\n",
       "      <td>oct 21 70 communication with referr g physician?: done</td>\n",
       "      <td>1</td>\n",
       "      <td>21</td>\n",
       "      <td>10</td>\n",
       "      <td>1970</td>\n",
       "      <td>1970-10-21</td>\n",
       "    </tr>\n",
       "    <tr>\n",
       "      <th>443</th>\n",
       "      <td>6574729211</td>\n",
       "      <td>Noember 16, 70 Total time of visit (in minutes):</td>\n",
       "      <td>nov 16 70 total time of visit ( m utes):</td>\n",
       "      <td>1</td>\n",
       "      <td>16</td>\n",
       "      <td>11</td>\n",
       "      <td>1970</td>\n",
       "      <td>1970-11-16</td>\n",
       "    </tr>\n",
       "    <tr>\n",
       "      <th>325</th>\n",
       "      <td>5043827109</td>\n",
       "      <td>23, Deember 70 Age:</td>\n",
       "      <td>23 dec 70 age:</td>\n",
       "      <td>0</td>\n",
       "      <td>23</td>\n",
       "      <td>12</td>\n",
       "      <td>1970</td>\n",
       "      <td>1970-12-23</td>\n",
       "    </tr>\n",
       "  </tbody>\n",
       "</table>\n",
       "</div>"
      ],
      "text/plain": [
       "           Code                                                                                                          Raw                                                                                                   Data  RegexMatched  Day  Month  Year       Date\n",
       "340  5262388306  (June 13 70) Crt-1.96, BUN-26; AST/ALT-16/22; WBC_12.6Activities of Daily Living (ADL) Bathing: Independent  (jun 13 70) crt-1 96 bun-26; ast/alt-16/22; wbc_12 6activities of daily liv g (adl) bath g: dependent             1   13      6  1970 1970-06-13\n",
       "7    1082469285                                                      Septeber, 10, 70 CPT Code: 90792: With medical services                                                       sep 10 70 cpt code: 90792: with medical services             1   10      9  1970 1970-09-10\n",
       "595  8335477666                                                 October, 21 70 Communication with referring physician?: Done                                                 oct 21 70 communication with referr g physician?: done             1   21     10  1970 1970-10-21\n",
       "443  6574729211                                                             Noember 16, 70 Total time of visit (in minutes):                                                               nov 16 70 total time of visit ( m utes):             1   16     11  1970 1970-11-16\n",
       "325  5043827109                                                                                          23, Deember 70 Age:                                                                                         23 dec 70 age:             0   23     12  1970 1970-12-23"
      ]
     },
     "metadata": {},
     "output_type": "display_data"
    },
    {
     "name": "stdout",
     "output_type": "stream",
     "text": [
      "Last 5 rows:\n"
     ]
    },
    {
     "data": {
      "text/html": [
       "<div>\n",
       "<style scoped>\n",
       "    .dataframe tbody tr th:only-of-type {\n",
       "        vertical-align: middle;\n",
       "    }\n",
       "\n",
       "    .dataframe tbody tr th {\n",
       "        vertical-align: top;\n",
       "    }\n",
       "\n",
       "    .dataframe thead th {\n",
       "        text-align: right;\n",
       "    }\n",
       "</style>\n",
       "<table border=\"1\" class=\"dataframe\">\n",
       "  <thead>\n",
       "    <tr style=\"text-align: right;\">\n",
       "      <th></th>\n",
       "      <th>Code</th>\n",
       "      <th>Raw</th>\n",
       "      <th>Data</th>\n",
       "      <th>RegexMatched</th>\n",
       "      <th>Day</th>\n",
       "      <th>Month</th>\n",
       "      <th>Year</th>\n",
       "      <th>Date</th>\n",
       "    </tr>\n",
       "  </thead>\n",
       "  <tbody>\n",
       "    <tr>\n",
       "      <th>502</th>\n",
       "      <td>7241000614</td>\n",
       "      <td>Sptember 13 17 Age:</td>\n",
       "      <td>sep 13 17 age:</td>\n",
       "      <td>1</td>\n",
       "      <td>13</td>\n",
       "      <td>9</td>\n",
       "      <td>2017</td>\n",
       "      <td>2017-09-13</td>\n",
       "    </tr>\n",
       "    <tr>\n",
       "      <th>475</th>\n",
       "      <td>6887830410</td>\n",
       "      <td>30 September, 17 CPT Code: 90792: With medical services</td>\n",
       "      <td>30 sep 17 cpt code: 90792: with medical services</td>\n",
       "      <td>0</td>\n",
       "      <td>30</td>\n",
       "      <td>9</td>\n",
       "      <td>2017</td>\n",
       "      <td>2017-09-30</td>\n",
       "    </tr>\n",
       "    <tr>\n",
       "      <th>688</th>\n",
       "      <td>9614771539</td>\n",
       "      <td>Octoer, 2, 17 CPT Code: 90801 - Psychiatric Diagnosis Interview</td>\n",
       "      <td>oct 2 17 cpt code: 90801 - psychiatric diagnosis terview</td>\n",
       "      <td>1</td>\n",
       "      <td>2</td>\n",
       "      <td>10</td>\n",
       "      <td>2017</td>\n",
       "      <td>2017-10-02</td>\n",
       "    </tr>\n",
       "    <tr>\n",
       "      <th>320</th>\n",
       "      <td>5014000276</td>\n",
       "      <td>Novmber 19 17 CPT Code: 90792: With medical services</td>\n",
       "      <td>nov 19 17 cpt code: 90792: with medical services</td>\n",
       "      <td>1</td>\n",
       "      <td>19</td>\n",
       "      <td>11</td>\n",
       "      <td>2017</td>\n",
       "      <td>2017-11-19</td>\n",
       "    </tr>\n",
       "    <tr>\n",
       "      <th>710</th>\n",
       "      <td>9880694088</td>\n",
       "      <td>20, November 17 Total time of visit (in minutes):</td>\n",
       "      <td>20 nov 17 total time of visit ( m utes):</td>\n",
       "      <td>0</td>\n",
       "      <td>20</td>\n",
       "      <td>11</td>\n",
       "      <td>2017</td>\n",
       "      <td>2017-11-20</td>\n",
       "    </tr>\n",
       "  </tbody>\n",
       "</table>\n",
       "</div>"
      ],
      "text/plain": [
       "           Code                                                              Raw                                                      Data  RegexMatched  Day  Month  Year       Date\n",
       "502  7241000614                                              Sptember 13 17 Age:                                            sep 13 17 age:             1   13      9  2017 2017-09-13\n",
       "475  6887830410          30 September, 17 CPT Code: 90792: With medical services          30 sep 17 cpt code: 90792: with medical services             0   30      9  2017 2017-09-30\n",
       "688  9614771539  Octoer, 2, 17 CPT Code: 90801 - Psychiatric Diagnosis Interview  oct 2 17 cpt code: 90801 - psychiatric diagnosis terview             1    2     10  2017 2017-10-02\n",
       "320  5014000276             Novmber 19 17 CPT Code: 90792: With medical services          nov 19 17 cpt code: 90792: with medical services             1   19     11  2017 2017-11-19\n",
       "710  9880694088                20, November 17 Total time of visit (in minutes):                  20 nov 17 total time of visit ( m utes):             0   20     11  2017 2017-11-20"
      ]
     },
     "metadata": {},
     "output_type": "display_data"
    }
   ],
   "source": [
    "n = 5\n",
    "print(f\"First {n} rows:\")\n",
    "display(df.head(n))\n",
    "print(f\"Last {n} rows:\")\n",
    "display(df.tail(n))"
   ]
  },
  {
   "cell_type": "markdown",
   "metadata": {},
   "source": [
    "## Save to CSV"
   ]
  },
  {
   "cell_type": "code",
   "execution_count": 312,
   "metadata": {},
   "outputs": [],
   "source": [
    "df.to_csv(ROOT+ \"output/results.csv\", index=True)"
   ]
  }
 ],
 "metadata": {
  "kernelspec": {
   "display_name": "base",
   "language": "python",
   "name": "python3"
  },
  "language_info": {
   "codemirror_mode": {
    "name": "ipython",
    "version": 3
   },
   "file_extension": ".py",
   "mimetype": "text/x-python",
   "name": "python",
   "nbconvert_exporter": "python",
   "pygments_lexer": "ipython3",
   "version": "3.11.7"
  }
 },
 "nbformat": 4,
 "nbformat_minor": 2
}
